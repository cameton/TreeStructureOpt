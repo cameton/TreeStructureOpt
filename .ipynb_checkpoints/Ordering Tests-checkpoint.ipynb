{
 "cells": [
  {
   "cell_type": "code",
   "execution_count": 79,
   "id": "6ca5f9d2",
   "metadata": {},
   "outputs": [
    {
     "name": "stderr",
     "output_type": "stream",
     "text": [
      "\u001b[32m\u001b[1m  Activating\u001b[22m\u001b[39m new project at `~/TreeStructureOpt`\n",
      "\u001b[32m\u001b[1m  Activating\u001b[22m\u001b[39m new project at `~/TreeStructureOpt`\n"
     ]
    }
   ],
   "source": [
    "import Pkg; Pkg.activate(\".\")"
   ]
  },
  {
   "cell_type": "code",
   "execution_count": 80,
   "id": "a9bc0caf",
   "metadata": {},
   "outputs": [],
   "source": [
    "using Revise, Graphs, Coarsening, MatrixMarket, Random, SparseArrays, GraphIO, DataStructures"
   ]
  },
  {
   "cell_type": "code",
   "execution_count": 81,
   "id": "d509dcdf",
   "metadata": {},
   "outputs": [],
   "source": [
    "using LinearOrdering"
   ]
  },
  {
   "cell_type": "code",
   "execution_count": 82,
   "id": "2372904b",
   "metadata": {},
   "outputs": [],
   "source": [
    "includet(\"./dynamictreewidth.jl\")"
   ]
  },
  {
   "cell_type": "code",
   "execution_count": 83,
   "id": "25d2b4e1",
   "metadata": {},
   "outputs": [
    {
     "data": {
      "text/plain": [
       "PSum(2)"
      ]
     },
     "execution_count": 83,
     "metadata": {},
     "output_type": "execute_result"
    },
    {
     "data": {
      "text/plain": [
       "PSum(2)"
      ]
     },
     "execution_count": 83,
     "metadata": {},
     "output_type": "execute_result"
    }
   ],
   "source": [
    "onesum = PSum(1)\n",
    "twosum = PSum(2)"
   ]
  },
  {
   "cell_type": "code",
   "execution_count": 84,
   "id": "4a85b384",
   "metadata": {},
   "outputs": [
    {
     "data": {
      "text/plain": [
       "(windowsizes = [5, 10, 15, 20, 25, 30], compat_sweeps = 10, window_sweeps = 10, stride_percent = 0.5, gauss_sweeps = 10, coarsening = VolumeCoarsening(0.4, 2.0, 1), coarsest = 10, pad_percent = 0.05, node_window_size = 10, seed = 20)"
      ]
     },
     "execution_count": 84,
     "metadata": {},
     "output_type": "execute_result"
    },
    {
     "data": {
      "text/plain": [
       "(windowsizes = [5, 10, 15, 20, 25, 30], compat_sweeps = 10, window_sweeps = 10, stride_percent = 0.5, gauss_sweeps = 10, coarsening = VolumeCoarsening(0.4, 2.0, 1), coarsest = 10, pad_percent = 0.05, node_window_size = 10, seed = 20)"
      ]
     },
     "execution_count": 84,
     "metadata": {},
     "output_type": "execute_result"
    }
   ],
   "source": [
    "config = (\n",
    "    windowsizes= [5, 10, 15, 20, 25, 30],\n",
    "    compat_sweeps=10,\n",
    "    window_sweeps = 10,\n",
    "    stride_percent=0.5,\n",
    "    gauss_sweeps=10,\n",
    "    coarsening=VolumeCoarsening(0.4, 2.0, 1),\n",
    "    coarsest=10, \n",
    "    pad_percent=0.05, \n",
    "    node_window_size=10,\n",
    "    seed = 20\n",
    ")"
   ]
  },
  {
   "cell_type": "code",
   "execution_count": 85,
   "id": "a0b894b4",
   "metadata": {},
   "outputs": [
    {
     "ename": "LoadError",
     "evalue": "SystemError: opening file \"./jagmesh9.mtx\": No such file or directory",
     "output_type": "error",
     "traceback": [
      "SystemError: opening file \"./jagmesh9.mtx\": No such file or directory",
      "",
      "Stacktrace:",
      "  [1] systemerror(p::String, errno::Int32; extrainfo::Nothing)",
      "    @ Base ./error.jl:174",
      "  [2] #systemerror#68",
      "    @ ./error.jl:173 [inlined]",
      "  [3] systemerror",
      "    @ ./error.jl:173 [inlined]",
      "  [4] open(fname::String; lock::Bool, read::Bool, write::Nothing, create::Nothing, truncate::Nothing, append::Nothing)",
      "    @ Base ./iostream.jl:293",
      "  [5] open(fname::String, mode::String; lock::Bool)",
      "    @ Base ./iostream.jl:355",
      "  [6] open(fname::String, mode::String)",
      "    @ Base ./iostream.jl:355",
      "  [7] open(::MatrixMarket.var\"#1#3\"{Bool, Bool}, ::String, ::Vararg{String}; kwargs::Base.Pairs{Symbol, Union{}, Tuple{}, NamedTuple{(), Tuple{}}})",
      "    @ Base ./io.jl:328",
      "  [8] open",
      "    @ ./io.jl:328 [inlined]",
      "  [9] mmread (repeats 2 times)",
      "    @ ~/.julia/packages/MatrixMarket/ic62N/src/MatrixMarket.jl:30 [inlined]",
      " [10] top-level scope",
      "    @ In[85]:12",
      " [11] eval",
      "    @ ./boot.jl:373 [inlined]",
      " [12] include_string(mapexpr::typeof(REPL.softscope), mod::Module, code::String, filename::String)",
      "    @ Base ./loading.jl:1196"
     ]
    },
    {
     "ename": "LoadError",
     "evalue": "SystemError: opening file \"./jagmesh9.mtx\": No such file or directory",
     "output_type": "error",
     "traceback": [
      "SystemError: opening file \"./jagmesh9.mtx\": No such file or directory",
      "",
      "Stacktrace:",
      "  [1] systemerror(p::String, errno::Int32; extrainfo::Nothing)",
      "    @ Base ./error.jl:174",
      "  [2] #systemerror#68",
      "    @ ./error.jl:173 [inlined]",
      "  [3] systemerror",
      "    @ ./error.jl:173 [inlined]",
      "  [4] open(fname::String; lock::Bool, read::Bool, write::Nothing, create::Nothing, truncate::Nothing, append::Nothing)",
      "    @ Base ./iostream.jl:293",
      "  [5] open(fname::String, mode::String; lock::Bool)",
      "    @ Base ./iostream.jl:355",
      "  [6] open(fname::String, mode::String)",
      "    @ Base ./iostream.jl:355",
      "  [7] open(::MatrixMarket.var\"#1#3\"{Bool, Bool}, ::String, ::Vararg{String}; kwargs::Base.Pairs{Symbol, Union{}, Tuple{}, NamedTuple{(), Tuple{}}})",
      "    @ Base ./io.jl:328",
      "  [8] open",
      "    @ ./io.jl:328 [inlined]",
      "  [9] mmread (repeats 2 times)",
      "    @ ~/.julia/packages/MatrixMarket/ic62N/src/MatrixMarket.jl:30 [inlined]",
      " [10] top-level scope",
      "    @ In[85]:12",
      " [11] eval",
      "    @ ./boot.jl:373 [inlined]",
      " [12] include_string(mapexpr::typeof(REPL.softscope), mod::Module, code::String, filename::String)",
      "    @ Base ./loading.jl:1196"
     ]
    }
   ],
   "source": [
    "onesumgraphs = (\n",
    "    grid4 = grid([4, 4]),\n",
    "    grid33 = grid([33, 33]),\n",
    "    mesh100 = grid([100, 100]),\n",
    "    bintree10 = binary_tree(10)\n",
    ")\n",
    "onesumoptima = (\n",
    "    grid33 = 31680,\n",
    "    mesh100 = 868820,\n",
    "    bintree10 = 3696\n",
    ")\n",
    "twosumgraphs = (\n",
    "    bintree10 = binary_tree(10),\n",
    "    jagmesh = SimpleGraph(mmread(\"./jagmesh9.mtx\"))\n",
    ")\n",
    "twosumoptima = (\n",
    "    bintree10 = 8.85 * 10 ^ 4,\n",
    "    jagmesh=1.1 * 010 ^ 6\n",
    ")"
   ]
  },
  {
   "cell_type": "code",
   "execution_count": 86,
   "id": "2e0e9070",
   "metadata": {},
   "outputs": [
    {
     "ename": "LoadError",
     "evalue": "SystemError: opening file \"./jagmesh9.mtx\": No such file or directory",
     "output_type": "error",
     "traceback": [
      "SystemError: opening file \"./jagmesh9.mtx\": No such file or directory",
      "",
      "Stacktrace:",
      "  [1] systemerror(p::String, errno::Int32; extrainfo::Nothing)",
      "    @ Base ./error.jl:174",
      "  [2] #systemerror#68",
      "    @ ./error.jl:173 [inlined]",
      "  [3] systemerror",
      "    @ ./error.jl:173 [inlined]",
      "  [4] open(fname::String; lock::Bool, read::Bool, write::Nothing, create::Nothing, truncate::Nothing, append::Nothing)",
      "    @ Base ./iostream.jl:293",
      "  [5] open(fname::String, mode::String; lock::Bool)",
      "    @ Base ./iostream.jl:355",
      "  [6] open(fname::String, mode::String)",
      "    @ Base ./iostream.jl:355",
      "  [7] open(::MatrixMarket.var\"#1#3\"{Bool, Bool}, ::String, ::Vararg{String}; kwargs::Base.Pairs{Symbol, Union{}, Tuple{}, NamedTuple{(), Tuple{}}})",
      "    @ Base ./io.jl:328",
      "  [8] open",
      "    @ ./io.jl:328 [inlined]",
      "  [9] mmread (repeats 2 times)",
      "    @ ~/.julia/packages/MatrixMarket/ic62N/src/MatrixMarket.jl:30 [inlined]",
      " [10] top-level scope",
      "    @ In[86]:1",
      " [11] eval",
      "    @ ./boot.jl:373 [inlined]",
      " [12] include_string(mapexpr::typeof(REPL.softscope), mod::Module, code::String, filename::String)",
      "    @ Base ./loading.jl:1196"
     ]
    },
    {
     "ename": "LoadError",
     "evalue": "SystemError: opening file \"./jagmesh9.mtx\": No such file or directory",
     "output_type": "error",
     "traceback": [
      "SystemError: opening file \"./jagmesh9.mtx\": No such file or directory",
      "",
      "Stacktrace:",
      "  [1] systemerror(p::String, errno::Int32; extrainfo::Nothing)",
      "    @ Base ./error.jl:174",
      "  [2] #systemerror#68",
      "    @ ./error.jl:173 [inlined]",
      "  [3] systemerror",
      "    @ ./error.jl:173 [inlined]",
      "  [4] open(fname::String; lock::Bool, read::Bool, write::Nothing, create::Nothing, truncate::Nothing, append::Nothing)",
      "    @ Base ./iostream.jl:293",
      "  [5] open(fname::String, mode::String; lock::Bool)",
      "    @ Base ./iostream.jl:355",
      "  [6] open(fname::String, mode::String)",
      "    @ Base ./iostream.jl:355",
      "  [7] open(::MatrixMarket.var\"#1#3\"{Bool, Bool}, ::String, ::Vararg{String}; kwargs::Base.Pairs{Symbol, Union{}, Tuple{}, NamedTuple{(), Tuple{}}})",
      "    @ Base ./io.jl:328",
      "  [8] open",
      "    @ ./io.jl:328 [inlined]",
      "  [9] mmread (repeats 2 times)",
      "    @ ~/.julia/packages/MatrixMarket/ic62N/src/MatrixMarket.jl:30 [inlined]",
      " [10] top-level scope",
      "    @ In[86]:1",
      " [11] eval",
      "    @ ./boot.jl:373 [inlined]",
      " [12] include_string(mapexpr::typeof(REPL.softscope), mod::Module, code::String, filename::String)",
      "    @ Base ./loading.jl:1196"
     ]
    }
   ],
   "source": [
    "jagA = mmread(\"./jagmesh9.mtx\")\n",
    "fix_adjacency!(jagA)\n",
    "dropzeros!(jagA)\n",
    "jag = SimpleGraph(jagA)\n",
    "# G = SimpleGraph(loadgraph(\"./add20.rmf\", \"graph_key\", EdgeListFormat()))\n",
    "# G = grid([4, 4])\n",
    "# G = SimpleGraph(makeadj(mmread(\"./graphs/regular3_16_2.mtx\")))"
   ]
  },
  {
   "cell_type": "code",
   "execution_count": 87,
   "id": "d3dbb69f",
   "metadata": {},
   "outputs": [
    {
     "ename": "LoadError",
     "evalue": "SystemError: opening file \"./graphs/685_bus.mtx\": No such file or directory",
     "output_type": "error",
     "traceback": [
      "SystemError: opening file \"./graphs/685_bus.mtx\": No such file or directory",
      "",
      "Stacktrace:",
      "  [1] systemerror(p::String, errno::Int32; extrainfo::Nothing)",
      "    @ Base ./error.jl:174",
      "  [2] #systemerror#68",
      "    @ ./error.jl:173 [inlined]",
      "  [3] systemerror",
      "    @ ./error.jl:173 [inlined]",
      "  [4] open(fname::String; lock::Bool, read::Bool, write::Nothing, create::Nothing, truncate::Nothing, append::Nothing)",
      "    @ Base ./iostream.jl:293",
      "  [5] open(fname::String, mode::String; lock::Bool)",
      "    @ Base ./iostream.jl:355",
      "  [6] open(fname::String, mode::String)",
      "    @ Base ./iostream.jl:355",
      "  [7] open(::MatrixMarket.var\"#1#3\"{Bool, Bool}, ::String, ::Vararg{String}; kwargs::Base.Pairs{Symbol, Union{}, Tuple{}, NamedTuple{(), Tuple{}}})",
      "    @ Base ./io.jl:328",
      "  [8] open",
      "    @ ./io.jl:328 [inlined]",
      "  [9] mmread (repeats 2 times)",
      "    @ ~/.julia/packages/MatrixMarket/ic62N/src/MatrixMarket.jl:30 [inlined]",
      " [10] top-level scope",
      "    @ In[87]:1",
      " [11] eval",
      "    @ ./boot.jl:373 [inlined]",
      " [12] include_string(mapexpr::typeof(REPL.softscope), mod::Module, code::String, filename::String)",
      "    @ Base ./loading.jl:1196"
     ]
    },
    {
     "ename": "LoadError",
     "evalue": "SystemError: opening file \"./graphs/685_bus.mtx\": No such file or directory",
     "output_type": "error",
     "traceback": [
      "SystemError: opening file \"./graphs/685_bus.mtx\": No such file or directory",
      "",
      "Stacktrace:",
      "  [1] systemerror(p::String, errno::Int32; extrainfo::Nothing)",
      "    @ Base ./error.jl:174",
      "  [2] #systemerror#68",
      "    @ ./error.jl:173 [inlined]",
      "  [3] systemerror",
      "    @ ./error.jl:173 [inlined]",
      "  [4] open(fname::String; lock::Bool, read::Bool, write::Nothing, create::Nothing, truncate::Nothing, append::Nothing)",
      "    @ Base ./iostream.jl:293",
      "  [5] open(fname::String, mode::String; lock::Bool)",
      "    @ Base ./iostream.jl:355",
      "  [6] open(fname::String, mode::String)",
      "    @ Base ./iostream.jl:355",
      "  [7] open(::MatrixMarket.var\"#1#3\"{Bool, Bool}, ::String, ::Vararg{String}; kwargs::Base.Pairs{Symbol, Union{}, Tuple{}, NamedTuple{(), Tuple{}}})",
      "    @ Base ./io.jl:328",
      "  [8] open",
      "    @ ./io.jl:328 [inlined]",
      "  [9] mmread (repeats 2 times)",
      "    @ ~/.julia/packages/MatrixMarket/ic62N/src/MatrixMarket.jl:30 [inlined]",
      " [10] top-level scope",
      "    @ In[87]:1",
      " [11] eval",
      "    @ ./boot.jl:373 [inlined]",
      " [12] include_string(mapexpr::typeof(REPL.softscope), mod::Module, code::String, filename::String)",
      "    @ Base ./loading.jl:1196"
     ]
    }
   ],
   "source": [
    "bus = mmread(\"./graphs/685_bus.mtx\")\n",
    "fix_adjacency!(bus)\n",
    "dropzeros!(bus)\n",
    "bus = SimpleGraph(bus)"
   ]
  },
  {
   "cell_type": "code",
   "execution_count": 88,
   "id": "da9a547e",
   "metadata": {},
   "outputs": [
    {
     "ename": "LoadError",
     "evalue": "SystemError: opening file \"./graphs/GD96_d.mtx\": No such file or directory",
     "output_type": "error",
     "traceback": [
      "SystemError: opening file \"./graphs/GD96_d.mtx\": No such file or directory",
      "",
      "Stacktrace:",
      "  [1] systemerror(p::String, errno::Int32; extrainfo::Nothing)",
      "    @ Base ./error.jl:174",
      "  [2] #systemerror#68",
      "    @ ./error.jl:173 [inlined]",
      "  [3] systemerror",
      "    @ ./error.jl:173 [inlined]",
      "  [4] open(fname::String; lock::Bool, read::Bool, write::Nothing, create::Nothing, truncate::Nothing, append::Nothing)",
      "    @ Base ./iostream.jl:293",
      "  [5] open(fname::String, mode::String; lock::Bool)",
      "    @ Base ./iostream.jl:355",
      "  [6] open(fname::String, mode::String)",
      "    @ Base ./iostream.jl:355",
      "  [7] open(::MatrixMarket.var\"#1#3\"{Bool, Bool}, ::String, ::Vararg{String}; kwargs::Base.Pairs{Symbol, Union{}, Tuple{}, NamedTuple{(), Tuple{}}})",
      "    @ Base ./io.jl:328",
      "  [8] open",
      "    @ ./io.jl:328 [inlined]",
      "  [9] mmread (repeats 2 times)",
      "    @ ~/.julia/packages/MatrixMarket/ic62N/src/MatrixMarket.jl:30 [inlined]",
      " [10] top-level scope",
      "    @ In[88]:1",
      " [11] eval",
      "    @ ./boot.jl:373 [inlined]",
      " [12] include_string(mapexpr::typeof(REPL.softscope), mod::Module, code::String, filename::String)",
      "    @ Base ./loading.jl:1196"
     ]
    },
    {
     "ename": "LoadError",
     "evalue": "SystemError: opening file \"./graphs/GD96_d.mtx\": No such file or directory",
     "output_type": "error",
     "traceback": [
      "SystemError: opening file \"./graphs/GD96_d.mtx\": No such file or directory",
      "",
      "Stacktrace:",
      "  [1] systemerror(p::String, errno::Int32; extrainfo::Nothing)",
      "    @ Base ./error.jl:174",
      "  [2] #systemerror#68",
      "    @ ./error.jl:173 [inlined]",
      "  [3] systemerror",
      "    @ ./error.jl:173 [inlined]",
      "  [4] open(fname::String; lock::Bool, read::Bool, write::Nothing, create::Nothing, truncate::Nothing, append::Nothing)",
      "    @ Base ./iostream.jl:293",
      "  [5] open(fname::String, mode::String; lock::Bool)",
      "    @ Base ./iostream.jl:355",
      "  [6] open(fname::String, mode::String)",
      "    @ Base ./iostream.jl:355",
      "  [7] open(::MatrixMarket.var\"#1#3\"{Bool, Bool}, ::String, ::Vararg{String}; kwargs::Base.Pairs{Symbol, Union{}, Tuple{}, NamedTuple{(), Tuple{}}})",
      "    @ Base ./io.jl:328",
      "  [8] open",
      "    @ ./io.jl:328 [inlined]",
      "  [9] mmread (repeats 2 times)",
      "    @ ~/.julia/packages/MatrixMarket/ic62N/src/MatrixMarket.jl:30 [inlined]",
      " [10] top-level scope",
      "    @ In[88]:1",
      " [11] eval",
      "    @ ./boot.jl:373 [inlined]",
      " [12] include_string(mapexpr::typeof(REPL.softscope), mod::Module, code::String, filename::String)",
      "    @ Base ./loading.jl:1196"
     ]
    }
   ],
   "source": [
    "GDA = mmread(\"./graphs/GD96_d.mtx\")\n",
    "GDA = 1.0 * ((GDA .+ GDA') .!= 0)\n",
    "fix_adjacency!(GDA)\n",
    "dropzeros!(GDA)\n",
    "GD = SimpleGraph(GDA)"
   ]
  },
  {
   "cell_type": "code",
   "execution_count": 89,
   "id": "f9b61ca2",
   "metadata": {
    "scrolled": false
   },
   "outputs": [
    {
     "ename": "LoadError",
     "evalue": "UndefVarError: G not defined",
     "output_type": "error",
     "traceback": [
      "UndefVarError: G not defined",
      "",
      "Stacktrace:",
      " [1] top-level scope",
      "   @ In[89]:1",
      " [2] eval",
      "   @ ./boot.jl:373 [inlined]",
      " [3] include_string(mapexpr::typeof(REPL.softscope), mod::Module, code::String, filename::String)",
      "   @ Base ./loading.jl:1196"
     ]
    },
    {
     "ename": "LoadError",
     "evalue": "UndefVarError: G not defined",
     "output_type": "error",
     "traceback": [
      "UndefVarError: G not defined",
      "",
      "Stacktrace:",
      " [1] top-level scope",
      "   @ In[89]:1",
      " [2] eval",
      "   @ ./boot.jl:373 [inlined]",
      " [3] include_string(mapexpr::typeof(REPL.softscope), mod::Module, code::String, filename::String)",
      "   @ Base ./loading.jl:1196"
     ]
    }
   ],
   "source": [
    "position_to_idx, idx_to_position = ordergraph(onesum, G; config...);"
   ]
  },
  {
   "cell_type": "code",
   "execution_count": 90,
   "id": "531ad71e",
   "metadata": {},
   "outputs": [
    {
     "ename": "LoadError",
     "evalue": "UndefVarError: G not defined",
     "output_type": "error",
     "traceback": [
      "UndefVarError: G not defined",
      "",
      "Stacktrace:",
      " [1] top-level scope",
      "   @ In[90]:1",
      " [2] eval",
      "   @ ./boot.jl:373 [inlined]",
      " [3] include_string(mapexpr::typeof(REPL.softscope), mod::Module, code::String, filename::String)",
      "   @ Base ./loading.jl:1196"
     ]
    },
    {
     "ename": "LoadError",
     "evalue": "UndefVarError: G not defined",
     "output_type": "error",
     "traceback": [
      "UndefVarError: G not defined",
      "",
      "Stacktrace:",
      " [1] top-level scope",
      "   @ In[90]:1",
      " [2] eval",
      "   @ ./boot.jl:373 [inlined]",
      " [3] include_string(mapexpr::typeof(REPL.softscope), mod::Module, code::String, filename::String)",
      "   @ Base ./loading.jl:1196"
     ]
    }
   ],
   "source": [
    "LinearOrdering.evalorder(onesum, adjacency_matrix(G), idx_to_position)"
   ]
  },
  {
   "cell_type": "code",
   "execution_count": 91,
   "id": "45f9655f",
   "metadata": {},
   "outputs": [
    {
     "ename": "LoadError",
     "evalue": "UndefVarError: G not defined",
     "output_type": "error",
     "traceback": [
      "UndefVarError: G not defined",
      "",
      "Stacktrace:",
      " [1] top-level scope",
      "   @ In[91]:1",
      " [2] eval",
      "   @ ./boot.jl:373 [inlined]",
      " [3] include_string(mapexpr::typeof(REPL.softscope), mod::Module, code::String, filename::String)",
      "   @ Base ./loading.jl:1196"
     ]
    },
    {
     "ename": "LoadError",
     "evalue": "UndefVarError: G not defined",
     "output_type": "error",
     "traceback": [
      "UndefVarError: G not defined",
      "",
      "Stacktrace:",
      " [1] top-level scope",
      "   @ In[91]:1",
      " [2] eval",
      "   @ ./boot.jl:373 [inlined]",
      " [3] include_string(mapexpr::typeof(REPL.softscope), mod::Module, code::String, filename::String)",
      "   @ Base ./loading.jl:1196"
     ]
    }
   ],
   "source": [
    "adjacency_matrix(G)[position_to_idx, position_to_idx]"
   ]
  },
  {
   "cell_type": "markdown",
   "id": "e4b0125d",
   "metadata": {},
   "source": [
    "# Issues Remaining\n",
    "- Something is wrong with compatible relaxations & uncoarsening\n",
    "- Diagnose why coarse edge weights < 1 for r > 1\n",
    "- Window minimization rarely (if ever) accepts changes\n",
    "- Test two level problem (size 20 graph)\n",
    "    - Disable window min, use node by node\n",
    "    - Test w/o smoothing or coarsening\n",
    "- Why does it seem like our solutions are random at each level?"
   ]
  },
  {
   "cell_type": "code",
   "execution_count": 92,
   "id": "3affccd3",
   "metadata": {},
   "outputs": [],
   "source": [
    "using DataStructures"
   ]
  },
  {
   "cell_type": "code",
   "execution_count": 93,
   "id": "aa49555e",
   "metadata": {},
   "outputs": [],
   "source": [
    "includet(\"./dynamictreewidth.jl\")"
   ]
  },
  {
   "cell_type": "code",
   "execution_count": 94,
   "id": "047abf0c",
   "metadata": {},
   "outputs": [],
   "source": [
    "import QXGraphDecompositions"
   ]
  },
  {
   "cell_type": "code",
   "execution_count": 95,
   "id": "37c7885a",
   "metadata": {},
   "outputs": [
    {
     "data": {
      "text/plain": [
       "(windowsizes = [5, 10, 15, 20, 25, 30], compat_sweeps = 10, window_sweeps = 10, stride_percent = 0.5, gauss_sweeps = 10, coarsening = VolumeCoarsening(0.4, 2.0, 1), coarsest = 10, pad_percent = 0.05, node_window_sweeps = 10, node_window_size = 10, seed = 11)"
      ]
     },
     "execution_count": 95,
     "metadata": {},
     "output_type": "execute_result"
    },
    {
     "data": {
      "text/plain": [
       "(windowsizes = [5, 10, 15, 20, 25, 30], compat_sweeps = 10, window_sweeps = 10, stride_percent = 0.5, gauss_sweeps = 10, coarsening = VolumeCoarsening(0.4, 2.0, 1), coarsest = 10, pad_percent = 0.05, node_window_sweeps = 10, node_window_size = 10, seed = 11)"
      ]
     },
     "execution_count": 95,
     "metadata": {},
     "output_type": "execute_result"
    }
   ],
   "source": [
    "config = (\n",
    "    windowsizes= [5, 10, 15, 20, 25, 30],\n",
    "    compat_sweeps=10,\n",
    "    window_sweeps = 10,\n",
    "    stride_percent=0.5,\n",
    "    gauss_sweeps=10,\n",
    "    coarsening=VolumeCoarsening(0.4, 2.0, 1),\n",
    "    coarsest=10, \n",
    "    pad_percent=0.05, \n",
    "    node_window_sweeps=10,\n",
    "    node_window_size=10,\n",
    "    seed = 11\n",
    ")"
   ]
  },
  {
   "cell_type": "code",
   "execution_count": 96,
   "id": "3333897a",
   "metadata": {},
   "outputs": [],
   "source": [
    "# circuitfiles = [\n",
    "#         \"./graphs/regular3_32_2.mtx\",\n",
    "#         \"./graphs/regular3_32_3.mtx\",\n",
    "#         \"./graphs/regular3_32_4.mtx\",\n",
    "#         \"./graphs/regular3_32_5.mtx\",\n",
    "#         \"./graphs/regular4_32_2.mtx\",\n",
    "#         \"./graphs/regular4_32_3.mtx\",\n",
    "#         \"./graphs/regular4_32_4.mtx\",\n",
    "#         \"./graphs/regular4_32_5.mtx\",\n",
    "#         \"./graphs/regular5_32_2.mtx\",\n",
    "#         \"./graphs/regular5_32_3.mtx\",\n",
    "#         \"./graphs/regular5_32_4.mtx\",\n",
    "#         \"./graphs/regular5_32_5.mtx\",\n",
    "#         ]\n",
    "circuitfiles = [\n",
    "    \"./graphs/regular$(d)_32_$(p)_$(seed).mtx\" for d in 3:5 for p in 2:5 for seed in 0:9\n",
    "];"
   ]
  },
  {
   "cell_type": "code",
   "execution_count": 97,
   "id": "35d41816",
   "metadata": {},
   "outputs": [
    {
     "ename": "LoadError",
     "evalue": "SystemError: opening file \"./graphs/regular3_32_2_0.mtx\": No such file or directory",
     "output_type": "error",
     "traceback": [
      "SystemError: opening file \"./graphs/regular3_32_2_0.mtx\": No such file or directory",
      "",
      "Stacktrace:",
      "  [1] systemerror(p::String, errno::Int32; extrainfo::Nothing)",
      "    @ Base ./error.jl:174",
      "  [2] #systemerror#68",
      "    @ ./error.jl:173 [inlined]",
      "  [3] systemerror",
      "    @ ./error.jl:173 [inlined]",
      "  [4] open(fname::String; lock::Bool, read::Bool, write::Nothing, create::Nothing, truncate::Nothing, append::Nothing)",
      "    @ Base ./iostream.jl:293",
      "  [5] open(fname::String, mode::String; lock::Bool)",
      "    @ Base ./iostream.jl:355",
      "  [6] open(fname::String, mode::String)",
      "    @ Base ./iostream.jl:355",
      "  [7] open(::MatrixMarket.var\"#1#3\"{Bool, Bool}, ::String, ::Vararg{String}; kwargs::Base.Pairs{Symbol, Union{}, Tuple{}, NamedTuple{(), Tuple{}}})",
      "    @ Base ./io.jl:328",
      "  [8] open",
      "    @ ./io.jl:328 [inlined]",
      "  [9] mmread (repeats 2 times)",
      "    @ ~/.julia/packages/MatrixMarket/ic62N/src/MatrixMarket.jl:30 [inlined]",
      " [10] _broadcast_getindex_evalf",
      "    @ ./broadcast.jl:670 [inlined]",
      " [11] _broadcast_getindex",
      "    @ ./broadcast.jl:643 [inlined]",
      " [12] _getindex",
      "    @ ./broadcast.jl:667 [inlined]",
      " [13] _broadcast_getindex",
      "    @ ./broadcast.jl:642 [inlined]",
      " [14] getindex",
      "    @ ./broadcast.jl:597 [inlined]",
      " [15] copy",
      "    @ ./broadcast.jl:899 [inlined]",
      " [16] materialize(bc::Base.Broadcast.Broadcasted{Base.Broadcast.DefaultArrayStyle{1}, Nothing, typeof(makeadj), Tuple{Base.Broadcast.Broadcasted{Base.Broadcast.DefaultArrayStyle{1}, Nothing, typeof(mmread), Tuple{Vector{String}}}}})",
      "    @ Base.Broadcast ./broadcast.jl:860",
      " [17] top-level scope",
      "    @ In[97]:1",
      " [18] eval",
      "    @ ./boot.jl:373 [inlined]",
      " [19] include_string(mapexpr::typeof(REPL.softscope), mod::Module, code::String, filename::String)",
      "    @ Base ./loading.jl:1196"
     ]
    },
    {
     "ename": "LoadError",
     "evalue": "SystemError: opening file \"./graphs/regular3_32_2_0.mtx\": No such file or directory",
     "output_type": "error",
     "traceback": [
      "SystemError: opening file \"./graphs/regular3_32_2_0.mtx\": No such file or directory",
      "",
      "Stacktrace:",
      "  [1] systemerror(p::String, errno::Int32; extrainfo::Nothing)",
      "    @ Base ./error.jl:174",
      "  [2] #systemerror#68",
      "    @ ./error.jl:173 [inlined]",
      "  [3] systemerror",
      "    @ ./error.jl:173 [inlined]",
      "  [4] open(fname::String; lock::Bool, read::Bool, write::Nothing, create::Nothing, truncate::Nothing, append::Nothing)",
      "    @ Base ./iostream.jl:293",
      "  [5] open(fname::String, mode::String; lock::Bool)",
      "    @ Base ./iostream.jl:355",
      "  [6] open(fname::String, mode::String)",
      "    @ Base ./iostream.jl:355",
      "  [7] open(::MatrixMarket.var\"#1#3\"{Bool, Bool}, ::String, ::Vararg{String}; kwargs::Base.Pairs{Symbol, Union{}, Tuple{}, NamedTuple{(), Tuple{}}})",
      "    @ Base ./io.jl:328",
      "  [8] open",
      "    @ ./io.jl:328 [inlined]",
      "  [9] mmread (repeats 2 times)",
      "    @ ~/.julia/packages/MatrixMarket/ic62N/src/MatrixMarket.jl:30 [inlined]",
      " [10] _broadcast_getindex_evalf",
      "    @ ./broadcast.jl:670 [inlined]",
      " [11] _broadcast_getindex",
      "    @ ./broadcast.jl:643 [inlined]",
      " [12] _getindex",
      "    @ ./broadcast.jl:667 [inlined]",
      " [13] _broadcast_getindex",
      "    @ ./broadcast.jl:642 [inlined]",
      " [14] getindex",
      "    @ ./broadcast.jl:597 [inlined]",
      " [15] copy",
      "    @ ./broadcast.jl:899 [inlined]",
      " [16] materialize(bc::Base.Broadcast.Broadcasted{Base.Broadcast.DefaultArrayStyle{1}, Nothing, typeof(makeadj), Tuple{Base.Broadcast.Broadcasted{Base.Broadcast.DefaultArrayStyle{1}, Nothing, typeof(mmread), Tuple{Vector{String}}}}})",
      "    @ Base.Broadcast ./broadcast.jl:860",
      " [17] top-level scope",
      "    @ In[97]:1",
      " [18] eval",
      "    @ ./boot.jl:373 [inlined]",
      " [19] include_string(mapexpr::typeof(REPL.softscope), mod::Module, code::String, filename::String)",
      "    @ Base ./loading.jl:1196"
     ]
    }
   ],
   "source": [
    "circuitadj = makeadj.(mmread.(circuitfiles));"
   ]
  },
  {
   "cell_type": "code",
   "execution_count": 98,
   "id": "cc5b16f9",
   "metadata": {},
   "outputs": [
    {
     "ename": "LoadError",
     "evalue": "UndefVarError: circuitadj not defined",
     "output_type": "error",
     "traceback": [
      "UndefVarError: circuitadj not defined",
      "",
      "Stacktrace:",
      " [1] top-level scope",
      "   @ In[98]:1",
      " [2] eval",
      "   @ ./boot.jl:373 [inlined]",
      " [3] include_string(mapexpr::typeof(REPL.softscope), mod::Module, code::String, filename::String)",
      "   @ Base ./loading.jl:1196"
     ]
    },
    {
     "ename": "LoadError",
     "evalue": "UndefVarError: circuitadj not defined",
     "output_type": "error",
     "traceback": [
      "UndefVarError: circuitadj not defined",
      "",
      "Stacktrace:",
      " [1] top-level scope",
      "   @ In[98]:1",
      " [2] eval",
      "   @ ./boot.jl:373 [inlined]",
      " [3] include_string(mapexpr::typeof(REPL.softscope), mod::Module, code::String, filename::String)",
      "   @ Base ./loading.jl:1196"
     ]
    }
   ],
   "source": [
    "circuits = SimpleGraph.(circuitadj);"
   ]
  },
  {
   "cell_type": "code",
   "execution_count": 99,
   "id": "35e10436",
   "metadata": {},
   "outputs": [
    {
     "ename": "LoadError",
     "evalue": "UndefVarError: circuits not defined",
     "output_type": "error",
     "traceback": [
      "UndefVarError: circuits not defined",
      "",
      "Stacktrace:",
      " [1] top-level scope",
      "   @ In[99]:1",
      " [2] eval",
      "   @ ./boot.jl:373 [inlined]",
      " [3] include_string(mapexpr::typeof(REPL.softscope), mod::Module, code::String, filename::String)",
      "   @ Base ./loading.jl:1196"
     ]
    },
    {
     "ename": "LoadError",
     "evalue": "UndefVarError: circuits not defined",
     "output_type": "error",
     "traceback": [
      "UndefVarError: circuits not defined",
      "",
      "Stacktrace:",
      " [1] top-level scope",
      "   @ In[99]:1",
      " [2] eval",
      "   @ ./boot.jl:373 [inlined]",
      " [3] include_string(mapexpr::typeof(REPL.softscope), mod::Module, code::String, filename::String)",
      "   @ Base ./loading.jl:1196"
     ]
    }
   ],
   "source": [
    "check1, check2 = circuits[8], circuits[12]"
   ]
  },
  {
   "cell_type": "code",
   "execution_count": 100,
   "id": "ac0c2d8b",
   "metadata": {},
   "outputs": [
    {
     "ename": "LoadError",
     "evalue": "UndefVarError: check1 not defined",
     "output_type": "error",
     "traceback": [
      "UndefVarError: check1 not defined",
      "",
      "Stacktrace:",
      " [1] top-level scope",
      "   @ In[100]:1",
      " [2] eval",
      "   @ ./boot.jl:373 [inlined]",
      " [3] include_string(mapexpr::typeof(REPL.softscope), mod::Module, code::String, filename::String)",
      "   @ Base ./loading.jl:1196"
     ]
    },
    {
     "ename": "LoadError",
     "evalue": "UndefVarError: check1 not defined",
     "output_type": "error",
     "traceback": [
      "UndefVarError: check1 not defined",
      "",
      "Stacktrace:",
      " [1] top-level scope",
      "   @ In[100]:1",
      " [2] eval",
      "   @ ./boot.jl:373 [inlined]",
      " [3] include_string(mapexpr::typeof(REPL.softscope), mod::Module, code::String, filename::String)",
      "   @ Base ./loading.jl:1196"
     ]
    }
   ],
   "source": [
    "diameter(check1)"
   ]
  },
  {
   "cell_type": "code",
   "execution_count": 101,
   "id": "4f1f6d75",
   "metadata": {},
   "outputs": [
    {
     "ename": "LoadError",
     "evalue": "UndefVarError: check2 not defined",
     "output_type": "error",
     "traceback": [
      "UndefVarError: check2 not defined",
      "",
      "Stacktrace:",
      " [1] top-level scope",
      "   @ In[101]:1",
      " [2] eval",
      "   @ ./boot.jl:373 [inlined]",
      " [3] include_string(mapexpr::typeof(REPL.softscope), mod::Module, code::String, filename::String)",
      "   @ Base ./loading.jl:1196"
     ]
    },
    {
     "ename": "LoadError",
     "evalue": "UndefVarError: check2 not defined",
     "output_type": "error",
     "traceback": [
      "UndefVarError: check2 not defined",
      "",
      "Stacktrace:",
      " [1] top-level scope",
      "   @ In[101]:1",
      " [2] eval",
      "   @ ./boot.jl:373 [inlined]",
      " [3] include_string(mapexpr::typeof(REPL.softscope), mod::Module, code::String, filename::String)",
      "   @ Base ./loading.jl:1196"
     ]
    }
   ],
   "source": [
    "diameter(check2)"
   ]
  },
  {
   "cell_type": "code",
   "execution_count": 102,
   "id": "52a0f8df",
   "metadata": {},
   "outputs": [
    {
     "ename": "LoadError",
     "evalue": "UndefVarError: jag not defined",
     "output_type": "error",
     "traceback": [
      "UndefVarError: jag not defined",
      "",
      "Stacktrace:",
      " [1] top-level scope",
      "   @ In[102]:1",
      " [2] eval",
      "   @ ./boot.jl:373 [inlined]",
      " [3] include_string(mapexpr::typeof(REPL.softscope), mod::Module, code::String, filename::String)",
      "   @ Base ./loading.jl:1196"
     ]
    },
    {
     "ename": "LoadError",
     "evalue": "UndefVarError: jag not defined",
     "output_type": "error",
     "traceback": [
      "UndefVarError: jag not defined",
      "",
      "Stacktrace:",
      " [1] top-level scope",
      "   @ In[102]:1",
      " [2] eval",
      "   @ ./boot.jl:373 [inlined]",
      " [3] include_string(mapexpr::typeof(REPL.softscope), mod::Module, code::String, filename::String)",
      "   @ Base ./loading.jl:1196"
     ]
    }
   ],
   "source": [
    "diameter(jag)"
   ]
  },
  {
   "cell_type": "code",
   "execution_count": 103,
   "id": "cbe0352a",
   "metadata": {},
   "outputs": [
    {
     "ename": "LoadError",
     "evalue": "UndefVarError: circuits not defined",
     "output_type": "error",
     "traceback": [
      "UndefVarError: circuits not defined",
      "",
      "Stacktrace:",
      " [1] top-level scope",
      "   @ In[103]:1",
      " [2] eval",
      "   @ ./boot.jl:373 [inlined]",
      " [3] include_string(mapexpr::typeof(REPL.softscope), mod::Module, code::String, filename::String)",
      "   @ Base ./loading.jl:1196"
     ]
    },
    {
     "ename": "LoadError",
     "evalue": "UndefVarError: circuits not defined",
     "output_type": "error",
     "traceback": [
      "UndefVarError: circuits not defined",
      "",
      "Stacktrace:",
      " [1] top-level scope",
      "   @ In[103]:1",
      " [2] eval",
      "   @ ./boot.jl:373 [inlined]",
      " [3] include_string(mapexpr::typeof(REPL.softscope), mod::Module, code::String, filename::String)",
      "   @ Base ./loading.jl:1196"
     ]
    }
   ],
   "source": [
    "diameter.(circuits)"
   ]
  },
  {
   "cell_type": "code",
   "execution_count": 104,
   "id": "4dbb8b83",
   "metadata": {},
   "outputs": [
    {
     "ename": "LoadError",
     "evalue": "UndefVarError: circuits not defined",
     "output_type": "error",
     "traceback": [
      "UndefVarError: circuits not defined",
      "",
      "Stacktrace:",
      " [1] top-level scope",
      "   @ In[104]:1",
      " [2] eval",
      "   @ ./boot.jl:373 [inlined]",
      " [3] include_string(mapexpr::typeof(REPL.softscope), mod::Module, code::String, filename::String)",
      "   @ Base ./loading.jl:1196"
     ]
    },
    {
     "ename": "LoadError",
     "evalue": "UndefVarError: circuits not defined",
     "output_type": "error",
     "traceback": [
      "UndefVarError: circuits not defined",
      "",
      "Stacktrace:",
      " [1] top-level scope",
      "   @ In[104]:1",
      " [2] eval",
      "   @ ./boot.jl:373 [inlined]",
      " [3] include_string(mapexpr::typeof(REPL.softscope), mod::Module, code::String, filename::String)",
      "   @ Base ./loading.jl:1196"
     ]
    }
   ],
   "source": [
    "G = circuits[6]"
   ]
  },
  {
   "cell_type": "code",
   "execution_count": 105,
   "id": "ea3bc38d",
   "metadata": {},
   "outputs": [
    {
     "ename": "LoadError",
     "evalue": "UndefVarError: G not defined",
     "output_type": "error",
     "traceback": [
      "UndefVarError: G not defined",
      "",
      "Stacktrace:",
      " [1] top-level scope",
      "   @ In[105]:1",
      " [2] eval",
      "   @ ./boot.jl:373 [inlined]",
      " [3] include_string(mapexpr::typeof(REPL.softscope), mod::Module, code::String, filename::String)",
      "   @ Base ./loading.jl:1196"
     ]
    },
    {
     "ename": "LoadError",
     "evalue": "UndefVarError: G not defined",
     "output_type": "error",
     "traceback": [
      "UndefVarError: G not defined",
      "",
      "Stacktrace:",
      " [1] top-level scope",
      "   @ In[105]:1",
      " [2] eval",
      "   @ ./boot.jl:373 [inlined]",
      " [3] include_string(mapexpr::typeof(REPL.softscope), mod::Module, code::String, filename::String)",
      "   @ Base ./loading.jl:1196"
     ]
    }
   ],
   "source": [
    "position_to_idx, idx_to_position = ordergraph(onesum, G; config...);"
   ]
  },
  {
   "cell_type": "code",
   "execution_count": 106,
   "id": "07fc30ac",
   "metadata": {},
   "outputs": [],
   "source": [
    "using Logging"
   ]
  },
  {
   "cell_type": "code",
   "execution_count": null,
   "id": "ecf8d02b",
   "metadata": {},
   "outputs": [],
   "source": []
  },
  {
   "cell_type": "code",
   "execution_count": 107,
   "id": "4210807a",
   "metadata": {
    "scrolled": false
   },
   "outputs": [
    {
     "ename": "LoadError",
     "evalue": "UndefVarError: circuits not defined",
     "output_type": "error",
     "traceback": [
      "UndefVarError: circuits not defined",
      "",
      "Stacktrace:",
      " [1] top-level scope",
      "   @ ~/.julia/packages/ProgressMeter/sN2xr/src/ProgressMeter.jl:931",
      " [2] eval",
      "   @ ./boot.jl:373 [inlined]",
      " [3] include_string(mapexpr::typeof(REPL.softscope), mod::Module, code::String, filename::String)",
      "   @ Base ./loading.jl:1196"
     ]
    },
    {
     "ename": "LoadError",
     "evalue": "UndefVarError: circuits not defined",
     "output_type": "error",
     "traceback": [
      "UndefVarError: circuits not defined",
      "",
      "Stacktrace:",
      " [1] top-level scope",
      "   @ ~/.julia/packages/ProgressMeter/sN2xr/src/ProgressMeter.jl:931",
      " [2] eval",
      "   @ ./boot.jl:373 [inlined]",
      " [3] include_string(mapexpr::typeof(REPL.softscope), mod::Module, code::String, filename::String)",
      "   @ Base ./loading.jl:1196"
     ]
    }
   ],
   "source": [
    "# io = open(\"./tw_variance.csv\", \"w\")\n",
    "# write(io, \"Name,V,E,Flowcutter,OneSumVal,TW\\n\")\n",
    "results = []\n",
    "# with_logger(ConsoleLogger(stderr, Logging.Debug)) do\n",
    "    @showprogress 1 \"Graph...\" for (q, G) in enumerate(circuits)\n",
    "        # fc = QXGraphDecompositions.flow_cutter(tolight((G)), 5)\n",
    "        # fctw = fc[:treewidth]\n",
    "        besttw = Inf\n",
    "        bestonesumval = Inf\n",
    "        @showprogress 1 \"Order...\" for r in 5\n",
    "            @showprogress 1 \"Seed...\" for i in 1:20\n",
    "                config = (\n",
    "                    compat_sweeps=10,\n",
    "                    stride_percent=0.5,\n",
    "                    gauss_sweeps=10,\n",
    "                    coarsening=VolumeCoarsening(0.4, 2.0, r),\n",
    "                    coarsest=10, \n",
    "                    pad_percent=0.05, \n",
    "                    node_window_sweeps=10,\n",
    "                    node_window_size=1,\n",
    "                    seed = i\n",
    "                )\n",
    "                position_to_idx, idx_to_position = ordergraph(onesum, G; config...);\n",
    "                onesumval = LinearOrdering.evalorder(onesum, adjacency_matrix(G), idx_to_position)\n",
    "                # td = order_width(G, position_to_idx, idx_to_position);\n",
    "                tw, _ = recursive_width(adjacency_matrix(G), position_to_idx, idx_to_position)\n",
    "                if tw <= besttw\n",
    "                    besttw = tw\n",
    "                    bestonesumval = onesumval\n",
    "                end\n",
    "                # ok = check_td(vectorize_decomp(td)..., G)[1];\n",
    "            end                \n",
    "\n",
    "        end            \n",
    "        # write(io, \"$(circuitfiles[q]),$(nv(G)),$(ne(G)),$(fctw),$bestonesumval,$(besttw - 1)\\n\")\n",
    "        # flush(io)\n",
    "    end\n",
    "# end\n",
    "close(io)"
   ]
  },
  {
   "cell_type": "code",
   "execution_count": 108,
   "id": "71fdaf23",
   "metadata": {},
   "outputs": [
    {
     "ename": "LoadError",
     "evalue": "UndefVarError: bus not defined",
     "output_type": "error",
     "traceback": [
      "UndefVarError: bus not defined",
      "",
      "Stacktrace:",
      " [1] top-level scope",
      "   @ In[108]:12",
      " [2] eval",
      "   @ ./boot.jl:373 [inlined]",
      " [3] include_string(mapexpr::typeof(REPL.softscope), mod::Module, code::String, filename::String)",
      "   @ Base ./loading.jl:1196"
     ]
    },
    {
     "ename": "LoadError",
     "evalue": "UndefVarError: bus not defined",
     "output_type": "error",
     "traceback": [
      "UndefVarError: bus not defined",
      "",
      "Stacktrace:",
      " [1] top-level scope",
      "   @ In[108]:12",
      " [2] eval",
      "   @ ./boot.jl:373 [inlined]",
      " [3] include_string(mapexpr::typeof(REPL.softscope), mod::Module, code::String, filename::String)",
      "   @ Base ./loading.jl:1196"
     ]
    }
   ],
   "source": [
    "config = (\n",
    "    compat_sweeps=10,\n",
    "    stride_percent=0.5,\n",
    "    gauss_sweeps=10,\n",
    "    coarsening=VolumeCoarsening(0.4, 2.0, 5),\n",
    "    coarsest=10, \n",
    "    pad_percent=0.05, \n",
    "    node_window_sweeps=10,\n",
    "    node_window_size=1,\n",
    "    seed = 1\n",
    ")\n",
    "position_to_idx, idx_to_position = ordergraph(onesum, bus; config...);"
   ]
  },
  {
   "cell_type": "code",
   "execution_count": 109,
   "id": "c9190ae0",
   "metadata": {},
   "outputs": [
    {
     "ename": "LoadError",
     "evalue": "UndefVarError: bus not defined",
     "output_type": "error",
     "traceback": [
      "UndefVarError: bus not defined",
      "",
      "Stacktrace:",
      " [1] top-level scope",
      "   @ In[109]:1",
      " [2] eval",
      "   @ ./boot.jl:373 [inlined]",
      " [3] include_string(mapexpr::typeof(REPL.softscope), mod::Module, code::String, filename::String)",
      "   @ Base ./loading.jl:1196"
     ]
    },
    {
     "ename": "LoadError",
     "evalue": "UndefVarError: bus not defined",
     "output_type": "error",
     "traceback": [
      "UndefVarError: bus not defined",
      "",
      "Stacktrace:",
      " [1] top-level scope",
      "   @ In[109]:1",
      " [2] eval",
      "   @ ./boot.jl:373 [inlined]",
      " [3] include_string(mapexpr::typeof(REPL.softscope), mod::Module, code::String, filename::String)",
      "   @ Base ./loading.jl:1196"
     ]
    }
   ],
   "source": [
    "adjacency_matrix(bus)[position_to_idx, position_to_idx]"
   ]
  },
  {
   "cell_type": "code",
   "execution_count": null,
   "id": "b3152f3b",
   "metadata": {},
   "outputs": [],
   "source": []
  },
  {
   "cell_type": "code",
   "execution_count": 110,
   "id": "f5679b50",
   "metadata": {},
   "outputs": [
    {
     "ename": "LoadError",
     "evalue": "UndefVarError: jag not defined",
     "output_type": "error",
     "traceback": [
      "UndefVarError: jag not defined",
      "",
      "Stacktrace:",
      " [1] top-level scope",
      "   @ In[110]:1",
      " [2] eval",
      "   @ ./boot.jl:373 [inlined]",
      " [3] include_string(mapexpr::typeof(REPL.softscope), mod::Module, code::String, filename::String)",
      "   @ Base ./loading.jl:1196"
     ]
    },
    {
     "ename": "LoadError",
     "evalue": "UndefVarError: jag not defined",
     "output_type": "error",
     "traceback": [
      "UndefVarError: jag not defined",
      "",
      "Stacktrace:",
      " [1] top-level scope",
      "   @ In[110]:1",
      " [2] eval",
      "   @ ./boot.jl:373 [inlined]",
      " [3] include_string(mapexpr::typeof(REPL.softscope), mod::Module, code::String, filename::String)",
      "   @ Base ./loading.jl:1196"
     ]
    }
   ],
   "source": [
    "rem_vertex!(jag, 609)"
   ]
  },
  {
   "cell_type": "code",
   "execution_count": 111,
   "id": "05d6c65b",
   "metadata": {},
   "outputs": [],
   "source": [
    "Revise.retry()"
   ]
  },
  {
   "cell_type": "code",
   "execution_count": null,
   "id": "3ede2a93",
   "metadata": {},
   "outputs": [],
   "source": []
  },
  {
   "cell_type": "code",
   "execution_count": null,
   "id": "a68ab7a9",
   "metadata": {},
   "outputs": [],
   "source": []
  },
  {
   "cell_type": "code",
   "execution_count": 112,
   "id": "0d43eea9",
   "metadata": {},
   "outputs": [
    {
     "ename": "LoadError",
     "evalue": "UndefVarError: jag not defined",
     "output_type": "error",
     "traceback": [
      "UndefVarError: jag not defined",
      "",
      "Stacktrace:",
      " [1] top-level scope",
      "   @ In[112]:1",
      " [2] eval",
      "   @ ./boot.jl:373 [inlined]",
      " [3] include_string(mapexpr::typeof(REPL.softscope), mod::Module, code::String, filename::String)",
      "   @ Base ./loading.jl:1196"
     ]
    },
    {
     "ename": "LoadError",
     "evalue": "UndefVarError: jag not defined",
     "output_type": "error",
     "traceback": [
      "UndefVarError: jag not defined",
      "",
      "Stacktrace:",
      " [1] top-level scope",
      "   @ In[112]:1",
      " [2] eval",
      "   @ ./boot.jl:373 [inlined]",
      " [3] include_string(mapexpr::typeof(REPL.softscope), mod::Module, code::String, filename::String)",
      "   @ Base ./loading.jl:1196"
     ]
    }
   ],
   "source": [
    "rem_vertex!(jag, 1)\n",
    "adjacency_matrix(jag)"
   ]
  },
  {
   "cell_type": "code",
   "execution_count": 113,
   "id": "a94979f4",
   "metadata": {},
   "outputs": [],
   "source": [
    "using Statistics"
   ]
  },
  {
   "cell_type": "code",
   "execution_count": 114,
   "id": "c4a04dd4",
   "metadata": {},
   "outputs": [
    {
     "ename": "LoadError",
     "evalue": "ArgumentError: reducing over an empty collection is not allowed",
     "output_type": "error",
     "traceback": [
      "ArgumentError: reducing over an empty collection is not allowed",
      "",
      "Stacktrace:",
      "  [1] _empty_reduce_error()",
      "    @ Base ./reduce.jl:301",
      "  [2] reduce_empty(op::Function, #unused#::Type{Any})",
      "    @ Base ./reduce.jl:311",
      "  [3] mapreduce_empty(#unused#::typeof(identity), op::Function, T::Type)",
      "    @ Base ./reduce.jl:345",
      "  [4] reduce_empty(op::Base.MappingRF{typeof(identity), typeof(min)}, #unused#::Type{Any})",
      "    @ Base ./reduce.jl:331",
      "  [5] reduce_empty_iter",
      "    @ ./reduce.jl:357 [inlined]",
      "  [6] mapreduce_empty_iter(f::Function, op::Function, itr::Vector{Any}, ItrEltype::Base.HasEltype)",
      "    @ Base ./reduce.jl:353",
      "  [7] _mapreduce(f::typeof(identity), op::typeof(min), #unused#::IndexLinear, A::Vector{Any})",
      "    @ Base ./reduce.jl:402",
      "  [8] _mapreduce_dim",
      "    @ ./reducedim.jl:330 [inlined]",
      "  [9] #mapreduce#731",
      "    @ ./reducedim.jl:322 [inlined]",
      " [10] mapreduce",
      "    @ ./reducedim.jl:322 [inlined]",
      " [11] #_minimum#753",
      "    @ ./reducedim.jl:894 [inlined]",
      " [12] _minimum",
      "    @ ./reducedim.jl:894 [inlined]",
      " [13] #_minimum#752",
      "    @ ./reducedim.jl:893 [inlined]",
      " [14] _minimum",
      "    @ ./reducedim.jl:893 [inlined]",
      " [15] #minimum#750",
      "    @ ./reducedim.jl:889 [inlined]",
      " [16] minimum(a::Vector{Any})",
      "    @ Base ./reducedim.jl:889",
      " [17] top-level scope",
      "    @ In[114]:1",
      " [18] eval",
      "    @ ./boot.jl:373 [inlined]",
      " [19] include_string(mapexpr::typeof(REPL.softscope), mod::Module, code::String, filename::String)",
      "    @ Base ./loading.jl:1196"
     ]
    },
    {
     "ename": "LoadError",
     "evalue": "ArgumentError: reducing over an empty collection is not allowed",
     "output_type": "error",
     "traceback": [
      "ArgumentError: reducing over an empty collection is not allowed",
      "",
      "Stacktrace:",
      "  [1] _empty_reduce_error()",
      "    @ Base ./reduce.jl:301",
      "  [2] reduce_empty(op::Function, #unused#::Type{Any})",
      "    @ Base ./reduce.jl:311",
      "  [3] mapreduce_empty(#unused#::typeof(identity), op::Function, T::Type)",
      "    @ Base ./reduce.jl:345",
      "  [4] reduce_empty(op::Base.MappingRF{typeof(identity), typeof(min)}, #unused#::Type{Any})",
      "    @ Base ./reduce.jl:331",
      "  [5] reduce_empty_iter",
      "    @ ./reduce.jl:357 [inlined]",
      "  [6] mapreduce_empty_iter(f::Function, op::Function, itr::Vector{Any}, ItrEltype::Base.HasEltype)",
      "    @ Base ./reduce.jl:353",
      "  [7] _mapreduce(f::typeof(identity), op::typeof(min), #unused#::IndexLinear, A::Vector{Any})",
      "    @ Base ./reduce.jl:402",
      "  [8] _mapreduce_dim",
      "    @ ./reducedim.jl:330 [inlined]",
      "  [9] #mapreduce#731",
      "    @ ./reducedim.jl:322 [inlined]",
      " [10] mapreduce",
      "    @ ./reducedim.jl:322 [inlined]",
      " [11] #_minimum#753",
      "    @ ./reducedim.jl:894 [inlined]",
      " [12] _minimum",
      "    @ ./reducedim.jl:894 [inlined]",
      " [13] #_minimum#752",
      "    @ ./reducedim.jl:893 [inlined]",
      " [14] _minimum",
      "    @ ./reducedim.jl:893 [inlined]",
      " [15] #minimum#750",
      "    @ ./reducedim.jl:889 [inlined]",
      " [16] minimum(a::Vector{Any})",
      "    @ Base ./reducedim.jl:889",
      " [17] top-level scope",
      "    @ In[114]:1",
      " [18] eval",
      "    @ ./boot.jl:373 [inlined]",
      " [19] include_string(mapexpr::typeof(REPL.softscope), mod::Module, code::String, filename::String)",
      "    @ Base ./loading.jl:1196"
     ]
    }
   ],
   "source": [
    "minimum(results)"
   ]
  },
  {
   "cell_type": "code",
   "execution_count": 115,
   "id": "4cbb1731",
   "metadata": {},
   "outputs": [
    {
     "ename": "LoadError",
     "evalue": "ArgumentError: median of an empty array is undefined, Any[]",
     "output_type": "error",
     "traceback": [
      "ArgumentError: median of an empty array is undefined, Any[]",
      "",
      "Stacktrace:",
      " [1] median!(v::Vector{Any})",
      "   @ Statistics /Applications/Julia-1.7.3.app/Contents/Resources/julia/share/julia/stdlib/v1.7/Statistics/src/Statistics.jl:810",
      " [2] _median",
      "   @ /Applications/Julia-1.7.3.app/Contents/Resources/julia/share/julia/stdlib/v1.7/Statistics/src/Statistics.jl:875 [inlined]",
      " [3] #median#47",
      "   @ /Applications/Julia-1.7.3.app/Contents/Resources/julia/share/julia/stdlib/v1.7/Statistics/src/Statistics.jl:871 [inlined]",
      " [4] median(v::Vector{Any})",
      "   @ Statistics /Applications/Julia-1.7.3.app/Contents/Resources/julia/share/julia/stdlib/v1.7/Statistics/src/Statistics.jl:871",
      " [5] top-level scope",
      "   @ In[115]:1",
      " [6] eval",
      "   @ ./boot.jl:373 [inlined]",
      " [7] include_string(mapexpr::typeof(REPL.softscope), mod::Module, code::String, filename::String)",
      "   @ Base ./loading.jl:1196"
     ]
    },
    {
     "ename": "LoadError",
     "evalue": "ArgumentError: median of an empty array is undefined, Any[]",
     "output_type": "error",
     "traceback": [
      "ArgumentError: median of an empty array is undefined, Any[]",
      "",
      "Stacktrace:",
      " [1] median!(v::Vector{Any})",
      "   @ Statistics /Applications/Julia-1.7.3.app/Contents/Resources/julia/share/julia/stdlib/v1.7/Statistics/src/Statistics.jl:810",
      " [2] _median",
      "   @ /Applications/Julia-1.7.3.app/Contents/Resources/julia/share/julia/stdlib/v1.7/Statistics/src/Statistics.jl:875 [inlined]",
      " [3] #median#47",
      "   @ /Applications/Julia-1.7.3.app/Contents/Resources/julia/share/julia/stdlib/v1.7/Statistics/src/Statistics.jl:871 [inlined]",
      " [4] median(v::Vector{Any})",
      "   @ Statistics /Applications/Julia-1.7.3.app/Contents/Resources/julia/share/julia/stdlib/v1.7/Statistics/src/Statistics.jl:871",
      " [5] top-level scope",
      "   @ In[115]:1",
      " [6] eval",
      "   @ ./boot.jl:373 [inlined]",
      " [7] include_string(mapexpr::typeof(REPL.softscope), mod::Module, code::String, filename::String)",
      "   @ Base ./loading.jl:1196"
     ]
    }
   ],
   "source": [
    "median(results)"
   ]
  },
  {
   "cell_type": "code",
   "execution_count": 116,
   "id": "01857c70",
   "metadata": {},
   "outputs": [
    {
     "ename": "LoadError",
     "evalue": "MethodError: no method matching zero(::Type{Any})\n\u001b[0mClosest candidates are:\n\u001b[0m  zero(::Type{Union{Missing, T}}) where T at /Applications/Julia-1.7.3.app/Contents/Resources/julia/share/julia/base/missing.jl:105\n\u001b[0m  zero(\u001b[91m::Union{Type{P}, P}\u001b[39m) where P<:Dates.Period at /Applications/Julia-1.7.3.app/Contents/Resources/julia/share/julia/stdlib/v1.7/Dates/src/periods.jl:53\n\u001b[0m  zero(\u001b[91m::SA\u001b[39m) where SA<:StaticArraysCore.StaticArray at ~/.julia/packages/StaticArrays/dcWsT/src/linalg.jl:101\n\u001b[0m  ...",
     "output_type": "error",
     "traceback": [
      "MethodError: no method matching zero(::Type{Any})\n\u001b[0mClosest candidates are:\n\u001b[0m  zero(::Type{Union{Missing, T}}) where T at /Applications/Julia-1.7.3.app/Contents/Resources/julia/share/julia/base/missing.jl:105\n\u001b[0m  zero(\u001b[91m::Union{Type{P}, P}\u001b[39m) where P<:Dates.Period at /Applications/Julia-1.7.3.app/Contents/Resources/julia/share/julia/stdlib/v1.7/Dates/src/periods.jl:53\n\u001b[0m  zero(\u001b[91m::SA\u001b[39m) where SA<:StaticArraysCore.StaticArray at ~/.julia/packages/StaticArrays/dcWsT/src/linalg.jl:101\n\u001b[0m  ...",
      "",
      "Stacktrace:",
      "  [1] zero(#unused#::Type{Any})",
      "    @ Base ./missing.jl:106",
      "  [2] reduce_empty(#unused#::typeof(+), #unused#::Type{Any})",
      "    @ Base ./reduce.jl:313",
      "  [3] reduce_empty(#unused#::typeof(Base.add_sum), #unused#::Type{Any})",
      "    @ Base ./reduce.jl:322",
      "  [4] mapreduce_empty(#unused#::typeof(identity), op::Function, T::Type)",
      "    @ Base ./reduce.jl:345",
      "  [5] reduce_empty(op::Base.MappingRF{typeof(identity), typeof(Base.add_sum)}, #unused#::Type{Any})",
      "    @ Base ./reduce.jl:331",
      "  [6] reduce_empty_iter",
      "    @ ./reduce.jl:357 [inlined]",
      "  [7] mapreduce_empty_iter(f::Function, op::Function, itr::Vector{Any}, ItrEltype::Base.HasEltype)",
      "    @ Base ./reduce.jl:353",
      "  [8] _mapreduce(f::typeof(identity), op::typeof(Base.add_sum), #unused#::IndexLinear, A::Vector{Any})",
      "    @ Base ./reduce.jl:402",
      "  [9] _mapreduce_dim",
      "    @ ./reducedim.jl:330 [inlined]",
      " [10] #mapreduce#731",
      "    @ ./reducedim.jl:322 [inlined]",
      " [11] mapreduce",
      "    @ ./reducedim.jl:322 [inlined]",
      " [12] #_sum#741",
      "    @ ./reducedim.jl:894 [inlined]",
      " [13] _sum",
      "    @ ./reducedim.jl:894 [inlined]",
      " [14] #sum#739",
      "    @ ./reducedim.jl:890 [inlined]",
      " [15] _mean(f::typeof(identity), A::Vector{Any}, dims::Colon)",
      "    @ Statistics /Applications/Julia-1.7.3.app/Contents/Resources/julia/share/julia/stdlib/v1.7/Statistics/src/Statistics.jl:170",
      " [16] #mean#2",
      "    @ /Applications/Julia-1.7.3.app/Contents/Resources/julia/share/julia/stdlib/v1.7/Statistics/src/Statistics.jl:164 [inlined]",
      " [17] mean",
      "    @ /Applications/Julia-1.7.3.app/Contents/Resources/julia/share/julia/stdlib/v1.7/Statistics/src/Statistics.jl:164 [inlined]",
      " [18] _var(A::Vector{Any}, corrected::Bool, mean::Nothing, #unused#::Colon)",
      "    @ Statistics /Applications/Julia-1.7.3.app/Contents/Resources/julia/share/julia/stdlib/v1.7/Statistics/src/Statistics.jl:379",
      " [19] #var#15",
      "    @ /Applications/Julia-1.7.3.app/Contents/Resources/julia/share/julia/stdlib/v1.7/Statistics/src/Statistics.jl:368 [inlined]",
      " [20] _std(A::Vector{Any}, corrected::Bool, mean::Nothing, #unused#::Colon)",
      "    @ Statistics /Applications/Julia-1.7.3.app/Contents/Resources/julia/share/julia/stdlib/v1.7/Statistics/src/Statistics.jl:457",
      " [21] #std#18",
      "    @ /Applications/Julia-1.7.3.app/Contents/Resources/julia/share/julia/stdlib/v1.7/Statistics/src/Statistics.jl:452 [inlined]",
      " [22] std(A::Vector{Any})",
      "    @ Statistics /Applications/Julia-1.7.3.app/Contents/Resources/julia/share/julia/stdlib/v1.7/Statistics/src/Statistics.jl:452",
      " [23] top-level scope",
      "    @ In[116]:1",
      " [24] eval",
      "    @ ./boot.jl:373 [inlined]",
      " [25] include_string(mapexpr::typeof(REPL.softscope), mod::Module, code::String, filename::String)",
      "    @ Base ./loading.jl:1196"
     ]
    },
    {
     "ename": "LoadError",
     "evalue": "MethodError: no method matching zero(::Type{Any})\n\u001b[0mClosest candidates are:\n\u001b[0m  zero(::Type{Union{Missing, T}}) where T at /Applications/Julia-1.7.3.app/Contents/Resources/julia/share/julia/base/missing.jl:105\n\u001b[0m  zero(\u001b[91m::Union{Type{P}, P}\u001b[39m) where P<:Dates.Period at /Applications/Julia-1.7.3.app/Contents/Resources/julia/share/julia/stdlib/v1.7/Dates/src/periods.jl:53\n\u001b[0m  zero(\u001b[91m::SA\u001b[39m) where SA<:StaticArraysCore.StaticArray at ~/.julia/packages/StaticArrays/dcWsT/src/linalg.jl:101\n\u001b[0m  ...",
     "output_type": "error",
     "traceback": [
      "MethodError: no method matching zero(::Type{Any})\n\u001b[0mClosest candidates are:\n\u001b[0m  zero(::Type{Union{Missing, T}}) where T at /Applications/Julia-1.7.3.app/Contents/Resources/julia/share/julia/base/missing.jl:105\n\u001b[0m  zero(\u001b[91m::Union{Type{P}, P}\u001b[39m) where P<:Dates.Period at /Applications/Julia-1.7.3.app/Contents/Resources/julia/share/julia/stdlib/v1.7/Dates/src/periods.jl:53\n\u001b[0m  zero(\u001b[91m::SA\u001b[39m) where SA<:StaticArraysCore.StaticArray at ~/.julia/packages/StaticArrays/dcWsT/src/linalg.jl:101\n\u001b[0m  ...",
      "",
      "Stacktrace:",
      "  [1] zero(#unused#::Type{Any})",
      "    @ Base ./missing.jl:106",
      "  [2] reduce_empty(#unused#::typeof(+), #unused#::Type{Any})",
      "    @ Base ./reduce.jl:313",
      "  [3] reduce_empty(#unused#::typeof(Base.add_sum), #unused#::Type{Any})",
      "    @ Base ./reduce.jl:322",
      "  [4] mapreduce_empty(#unused#::typeof(identity), op::Function, T::Type)",
      "    @ Base ./reduce.jl:345",
      "  [5] reduce_empty(op::Base.MappingRF{typeof(identity), typeof(Base.add_sum)}, #unused#::Type{Any})",
      "    @ Base ./reduce.jl:331",
      "  [6] reduce_empty_iter",
      "    @ ./reduce.jl:357 [inlined]",
      "  [7] mapreduce_empty_iter(f::Function, op::Function, itr::Vector{Any}, ItrEltype::Base.HasEltype)",
      "    @ Base ./reduce.jl:353",
      "  [8] _mapreduce(f::typeof(identity), op::typeof(Base.add_sum), #unused#::IndexLinear, A::Vector{Any})",
      "    @ Base ./reduce.jl:402",
      "  [9] _mapreduce_dim",
      "    @ ./reducedim.jl:330 [inlined]",
      " [10] #mapreduce#731",
      "    @ ./reducedim.jl:322 [inlined]",
      " [11] mapreduce",
      "    @ ./reducedim.jl:322 [inlined]",
      " [12] #_sum#741",
      "    @ ./reducedim.jl:894 [inlined]",
      " [13] _sum",
      "    @ ./reducedim.jl:894 [inlined]",
      " [14] #sum#739",
      "    @ ./reducedim.jl:890 [inlined]",
      " [15] _mean(f::typeof(identity), A::Vector{Any}, dims::Colon)",
      "    @ Statistics /Applications/Julia-1.7.3.app/Contents/Resources/julia/share/julia/stdlib/v1.7/Statistics/src/Statistics.jl:170",
      " [16] #mean#2",
      "    @ /Applications/Julia-1.7.3.app/Contents/Resources/julia/share/julia/stdlib/v1.7/Statistics/src/Statistics.jl:164 [inlined]",
      " [17] mean",
      "    @ /Applications/Julia-1.7.3.app/Contents/Resources/julia/share/julia/stdlib/v1.7/Statistics/src/Statistics.jl:164 [inlined]",
      " [18] _var(A::Vector{Any}, corrected::Bool, mean::Nothing, #unused#::Colon)",
      "    @ Statistics /Applications/Julia-1.7.3.app/Contents/Resources/julia/share/julia/stdlib/v1.7/Statistics/src/Statistics.jl:379",
      " [19] #var#15",
      "    @ /Applications/Julia-1.7.3.app/Contents/Resources/julia/share/julia/stdlib/v1.7/Statistics/src/Statistics.jl:368 [inlined]",
      " [20] _std(A::Vector{Any}, corrected::Bool, mean::Nothing, #unused#::Colon)",
      "    @ Statistics /Applications/Julia-1.7.3.app/Contents/Resources/julia/share/julia/stdlib/v1.7/Statistics/src/Statistics.jl:457",
      " [21] #std#18",
      "    @ /Applications/Julia-1.7.3.app/Contents/Resources/julia/share/julia/stdlib/v1.7/Statistics/src/Statistics.jl:452 [inlined]",
      " [22] std(A::Vector{Any})",
      "    @ Statistics /Applications/Julia-1.7.3.app/Contents/Resources/julia/share/julia/stdlib/v1.7/Statistics/src/Statistics.jl:452",
      " [23] top-level scope",
      "    @ In[116]:1",
      " [24] eval",
      "    @ ./boot.jl:373 [inlined]",
      " [25] include_string(mapexpr::typeof(REPL.softscope), mod::Module, code::String, filename::String)",
      "    @ Base ./loading.jl:1196"
     ]
    }
   ],
   "source": [
    "std(results)"
   ]
  },
  {
   "cell_type": "code",
   "execution_count": 117,
   "id": "89f836c4",
   "metadata": {},
   "outputs": [
    {
     "ename": "LoadError",
     "evalue": "ArgumentError: reducing over an empty collection is not allowed",
     "output_type": "error",
     "traceback": [
      "ArgumentError: reducing over an empty collection is not allowed",
      "",
      "Stacktrace:",
      "  [1] _empty_reduce_error()",
      "    @ Base ./reduce.jl:301",
      "  [2] reduce_empty(op::Function, #unused#::Type{Any})",
      "    @ Base ./reduce.jl:311",
      "  [3] mapreduce_empty(#unused#::typeof(identity), op::Function, T::Type)",
      "    @ Base ./reduce.jl:345",
      "  [4] reduce_empty(op::Base.MappingRF{typeof(identity), typeof(max)}, #unused#::Type{Any})",
      "    @ Base ./reduce.jl:331",
      "  [5] reduce_empty_iter",
      "    @ ./reduce.jl:357 [inlined]",
      "  [6] mapreduce_empty_iter(f::Function, op::Function, itr::Vector{Any}, ItrEltype::Base.HasEltype)",
      "    @ Base ./reduce.jl:353",
      "  [7] _mapreduce(f::typeof(identity), op::typeof(max), #unused#::IndexLinear, A::Vector{Any})",
      "    @ Base ./reduce.jl:402",
      "  [8] _mapreduce_dim",
      "    @ ./reducedim.jl:330 [inlined]",
      "  [9] #mapreduce#731",
      "    @ ./reducedim.jl:322 [inlined]",
      " [10] mapreduce",
      "    @ ./reducedim.jl:322 [inlined]",
      " [11] #_maximum#749",
      "    @ ./reducedim.jl:894 [inlined]",
      " [12] _maximum",
      "    @ ./reducedim.jl:894 [inlined]",
      " [13] #_maximum#748",
      "    @ ./reducedim.jl:893 [inlined]",
      " [14] _maximum",
      "    @ ./reducedim.jl:893 [inlined]",
      " [15] #maximum#746",
      "    @ ./reducedim.jl:889 [inlined]",
      " [16] maximum(a::Vector{Any})",
      "    @ Base ./reducedim.jl:889",
      " [17] top-level scope",
      "    @ In[117]:1",
      " [18] eval",
      "    @ ./boot.jl:373 [inlined]",
      " [19] include_string(mapexpr::typeof(REPL.softscope), mod::Module, code::String, filename::String)",
      "    @ Base ./loading.jl:1196"
     ]
    },
    {
     "ename": "LoadError",
     "evalue": "ArgumentError: reducing over an empty collection is not allowed",
     "output_type": "error",
     "traceback": [
      "ArgumentError: reducing over an empty collection is not allowed",
      "",
      "Stacktrace:",
      "  [1] _empty_reduce_error()",
      "    @ Base ./reduce.jl:301",
      "  [2] reduce_empty(op::Function, #unused#::Type{Any})",
      "    @ Base ./reduce.jl:311",
      "  [3] mapreduce_empty(#unused#::typeof(identity), op::Function, T::Type)",
      "    @ Base ./reduce.jl:345",
      "  [4] reduce_empty(op::Base.MappingRF{typeof(identity), typeof(max)}, #unused#::Type{Any})",
      "    @ Base ./reduce.jl:331",
      "  [5] reduce_empty_iter",
      "    @ ./reduce.jl:357 [inlined]",
      "  [6] mapreduce_empty_iter(f::Function, op::Function, itr::Vector{Any}, ItrEltype::Base.HasEltype)",
      "    @ Base ./reduce.jl:353",
      "  [7] _mapreduce(f::typeof(identity), op::typeof(max), #unused#::IndexLinear, A::Vector{Any})",
      "    @ Base ./reduce.jl:402",
      "  [8] _mapreduce_dim",
      "    @ ./reducedim.jl:330 [inlined]",
      "  [9] #mapreduce#731",
      "    @ ./reducedim.jl:322 [inlined]",
      " [10] mapreduce",
      "    @ ./reducedim.jl:322 [inlined]",
      " [11] #_maximum#749",
      "    @ ./reducedim.jl:894 [inlined]",
      " [12] _maximum",
      "    @ ./reducedim.jl:894 [inlined]",
      " [13] #_maximum#748",
      "    @ ./reducedim.jl:893 [inlined]",
      " [14] _maximum",
      "    @ ./reducedim.jl:893 [inlined]",
      " [15] #maximum#746",
      "    @ ./reducedim.jl:889 [inlined]",
      " [16] maximum(a::Vector{Any})",
      "    @ Base ./reducedim.jl:889",
      " [17] top-level scope",
      "    @ In[117]:1",
      " [18] eval",
      "    @ ./boot.jl:373 [inlined]",
      " [19] include_string(mapexpr::typeof(REPL.softscope), mod::Module, code::String, filename::String)",
      "    @ Base ./loading.jl:1196"
     ]
    }
   ],
   "source": [
    "maximum(results)"
   ]
  },
  {
   "cell_type": "code",
   "execution_count": 118,
   "id": "671b0c9c",
   "metadata": {},
   "outputs": [
    {
     "ename": "LoadError",
     "evalue": "ArgumentError: reducing over an empty collection is not allowed",
     "output_type": "error",
     "traceback": [
      "ArgumentError: reducing over an empty collection is not allowed",
      "",
      "Stacktrace:",
      "  [1] _empty_reduce_error()",
      "    @ Base ./reduce.jl:301",
      "  [2] mapreduce_empty(f::Function, op::Base.BottomRF{typeof(Base._rf_findmax)}, T::Type)",
      "    @ Base ./reduce.jl:344",
      "  [3] reduce_empty(op::Base.MappingRF{Base.var\"#260#261\"{typeof(identity)}, Base.BottomRF{typeof(Base._rf_findmax)}}, #unused#::Type{Pair{Int64, Any}})",
      "    @ Base ./reduce.jl:331",
      "  [4] reduce_empty_iter",
      "    @ ./reduce.jl:357 [inlined]",
      "  [5] reduce_empty_iter",
      "    @ ./reduce.jl:356 [inlined]",
      "  [6] foldl_impl",
      "    @ ./reduce.jl:49 [inlined]",
      "  [7] mapfoldl_impl",
      "    @ ./reduce.jl:44 [inlined]",
      "  [8] #mapfoldl#244",
      "    @ ./reduce.jl:162 [inlined]",
      "  [9] mapfoldl",
      "    @ ./reduce.jl:162 [inlined]",
      " [10] findmax",
      "    @ ./reduce.jl:803 [inlined]",
      " [11] _findmax",
      "    @ ./reduce.jl:829 [inlined]",
      " [12] #findmax#785",
      "    @ ./reducedim.jl:1052 [inlined]",
      " [13] #argmax#787",
      "    @ ./reducedim.jl:1117 [inlined]",
      " [14] argmax(A::Vector{Any})",
      "    @ Base ./reducedim.jl:1117",
      " [15] top-level scope",
      "    @ In[118]:1",
      " [16] eval",
      "    @ ./boot.jl:373 [inlined]",
      " [17] include_string(mapexpr::typeof(REPL.softscope), mod::Module, code::String, filename::String)",
      "    @ Base ./loading.jl:1196"
     ]
    },
    {
     "ename": "LoadError",
     "evalue": "ArgumentError: reducing over an empty collection is not allowed",
     "output_type": "error",
     "traceback": [
      "ArgumentError: reducing over an empty collection is not allowed",
      "",
      "Stacktrace:",
      "  [1] _empty_reduce_error()",
      "    @ Base ./reduce.jl:301",
      "  [2] mapreduce_empty(f::Function, op::Base.BottomRF{typeof(Base._rf_findmax)}, T::Type)",
      "    @ Base ./reduce.jl:344",
      "  [3] reduce_empty(op::Base.MappingRF{Base.var\"#260#261\"{typeof(identity)}, Base.BottomRF{typeof(Base._rf_findmax)}}, #unused#::Type{Pair{Int64, Any}})",
      "    @ Base ./reduce.jl:331",
      "  [4] reduce_empty_iter",
      "    @ ./reduce.jl:357 [inlined]",
      "  [5] reduce_empty_iter",
      "    @ ./reduce.jl:356 [inlined]",
      "  [6] foldl_impl",
      "    @ ./reduce.jl:49 [inlined]",
      "  [7] mapfoldl_impl",
      "    @ ./reduce.jl:44 [inlined]",
      "  [8] #mapfoldl#244",
      "    @ ./reduce.jl:162 [inlined]",
      "  [9] mapfoldl",
      "    @ ./reduce.jl:162 [inlined]",
      " [10] findmax",
      "    @ ./reduce.jl:803 [inlined]",
      " [11] _findmax",
      "    @ ./reduce.jl:829 [inlined]",
      " [12] #findmax#785",
      "    @ ./reducedim.jl:1052 [inlined]",
      " [13] #argmax#787",
      "    @ ./reducedim.jl:1117 [inlined]",
      " [14] argmax(A::Vector{Any})",
      "    @ Base ./reducedim.jl:1117",
      " [15] top-level scope",
      "    @ In[118]:1",
      " [16] eval",
      "    @ ./boot.jl:373 [inlined]",
      " [17] include_string(mapexpr::typeof(REPL.softscope), mod::Module, code::String, filename::String)",
      "    @ Base ./loading.jl:1196"
     ]
    }
   ],
   "source": [
    "argmax(results)"
   ]
  },
  {
   "cell_type": "code",
   "execution_count": 119,
   "id": "465e5b03",
   "metadata": {},
   "outputs": [
    {
     "data": {
      "text/plain": [
       "Any[]"
      ]
     },
     "execution_count": 119,
     "metadata": {},
     "output_type": "execute_result"
    },
    {
     "data": {
      "text/plain": [
       "Any[]"
      ]
     },
     "execution_count": 119,
     "metadata": {},
     "output_type": "execute_result"
    }
   ],
   "source": [
    "results"
   ]
  },
  {
   "cell_type": "code",
   "execution_count": 120,
   "id": "ffc0b054",
   "metadata": {
    "scrolled": false
   },
   "outputs": [
    {
     "ename": "LoadError",
     "evalue": "UndefVarError: G not defined",
     "output_type": "error",
     "traceback": [
      "UndefVarError: G not defined",
      "",
      "Stacktrace:",
      " [1] top-level scope",
      "   @ In[120]:1",
      " [2] eval",
      "   @ ./boot.jl:373 [inlined]",
      " [3] include_string(mapexpr::typeof(REPL.softscope), mod::Module, code::String, filename::String)",
      "   @ Base ./loading.jl:1196"
     ]
    },
    {
     "ename": "LoadError",
     "evalue": "UndefVarError: G not defined",
     "output_type": "error",
     "traceback": [
      "UndefVarError: G not defined",
      "",
      "Stacktrace:",
      " [1] top-level scope",
      "   @ In[120]:1",
      " [2] eval",
      "   @ ./boot.jl:373 [inlined]",
      " [3] include_string(mapexpr::typeof(REPL.softscope), mod::Module, code::String, filename::String)",
      "   @ Base ./loading.jl:1196"
     ]
    }
   ],
   "source": [
    "td = order_width(G, position_to_idx, idx_to_position);"
   ]
  },
  {
   "cell_type": "code",
   "execution_count": 121,
   "id": "86792a15",
   "metadata": {},
   "outputs": [
    {
     "ename": "LoadError",
     "evalue": "UndefVarError: td not defined",
     "output_type": "error",
     "traceback": [
      "UndefVarError: td not defined",
      "",
      "Stacktrace:",
      " [1] top-level scope",
      "   @ In[121]:1",
      " [2] eval",
      "   @ ./boot.jl:373 [inlined]",
      " [3] include_string(mapexpr::typeof(REPL.softscope), mod::Module, code::String, filename::String)",
      "   @ Base ./loading.jl:1196"
     ]
    },
    {
     "ename": "LoadError",
     "evalue": "UndefVarError: td not defined",
     "output_type": "error",
     "traceback": [
      "UndefVarError: td not defined",
      "",
      "Stacktrace:",
      " [1] top-level scope",
      "   @ In[121]:1",
      " [2] eval",
      "   @ ./boot.jl:373 [inlined]",
      " [3] include_string(mapexpr::typeof(REPL.softscope), mod::Module, code::String, filename::String)",
      "   @ Base ./loading.jl:1196"
     ]
    }
   ],
   "source": [
    "bags, tree = vectorize_decomp(td);"
   ]
  },
  {
   "cell_type": "code",
   "execution_count": 122,
   "id": "5f77794d",
   "metadata": {},
   "outputs": [
    {
     "ename": "LoadError",
     "evalue": "UndefVarError: bags not defined",
     "output_type": "error",
     "traceback": [
      "UndefVarError: bags not defined",
      "",
      "Stacktrace:",
      " [1] top-level scope",
      "   @ In[122]:1",
      " [2] eval",
      "   @ ./boot.jl:373 [inlined]",
      " [3] include_string(mapexpr::typeof(REPL.softscope), mod::Module, code::String, filename::String)",
      "   @ Base ./loading.jl:1196"
     ]
    },
    {
     "ename": "LoadError",
     "evalue": "UndefVarError: bags not defined",
     "output_type": "error",
     "traceback": [
      "UndefVarError: bags not defined",
      "",
      "Stacktrace:",
      " [1] top-level scope",
      "   @ In[122]:1",
      " [2] eval",
      "   @ ./boot.jl:373 [inlined]",
      " [3] include_string(mapexpr::typeof(REPL.softscope), mod::Module, code::String, filename::String)",
      "   @ Base ./loading.jl:1196"
     ]
    }
   ],
   "source": [
    "maximum(length, bags)"
   ]
  },
  {
   "cell_type": "code",
   "execution_count": 123,
   "id": "33f62cd0",
   "metadata": {},
   "outputs": [
    {
     "ename": "LoadError",
     "evalue": "UndefVarError: tree not defined",
     "output_type": "error",
     "traceback": [
      "UndefVarError: tree not defined",
      "",
      "Stacktrace:",
      " [1] top-level scope",
      "   @ :0",
      " [2] eval",
      "   @ ./boot.jl:373 [inlined]",
      " [3] include_string(mapexpr::typeof(REPL.softscope), mod::Module, code::String, filename::String)",
      "   @ Base ./loading.jl:1196"
     ]
    },
    {
     "ename": "LoadError",
     "evalue": "UndefVarError: tree not defined",
     "output_type": "error",
     "traceback": [
      "UndefVarError: tree not defined",
      "",
      "Stacktrace:",
      " [1] top-level scope",
      "   @ :0",
      " [2] eval",
      "   @ ./boot.jl:373 [inlined]",
      " [3] include_string(mapexpr::typeof(REPL.softscope), mod::Module, code::String, filename::String)",
      "   @ Base ./loading.jl:1196"
     ]
    }
   ],
   "source": [
    "tree"
   ]
  },
  {
   "cell_type": "code",
   "execution_count": 124,
   "id": "40937d77",
   "metadata": {},
   "outputs": [
    {
     "ename": "LoadError",
     "evalue": "UndefVarError: bags not defined",
     "output_type": "error",
     "traceback": [
      "UndefVarError: bags not defined",
      "",
      "Stacktrace:",
      " [1] top-level scope",
      "   @ In[124]:1",
      " [2] eval",
      "   @ ./boot.jl:373 [inlined]",
      " [3] include_string(mapexpr::typeof(REPL.softscope), mod::Module, code::String, filename::String)",
      "   @ Base ./loading.jl:1196"
     ]
    },
    {
     "ename": "LoadError",
     "evalue": "UndefVarError: bags not defined",
     "output_type": "error",
     "traceback": [
      "UndefVarError: bags not defined",
      "",
      "Stacktrace:",
      " [1] top-level scope",
      "   @ In[124]:1",
      " [2] eval",
      "   @ ./boot.jl:373 [inlined]",
      " [3] include_string(mapexpr::typeof(REPL.softscope), mod::Module, code::String, filename::String)",
      "   @ Base ./loading.jl:1196"
     ]
    }
   ],
   "source": [
    "check_td(bags, tree, G)"
   ]
  },
  {
   "cell_type": "code",
   "execution_count": 125,
   "id": "e72d66d7",
   "metadata": {},
   "outputs": [],
   "source": [
    "import QXGraphDecompositions"
   ]
  },
  {
   "cell_type": "code",
   "execution_count": 126,
   "id": "9f6c98b4",
   "metadata": {},
   "outputs": [
    {
     "name": "stdout",
     "output_type": "stream",
     "text": [
      "Name | #V | #E | Diameter | FlowcutterTW | OneSumValue | OneSumTW | OneSumOK | TwoSumValue | TwoSumTW | TwoSumOK\n",
      "Name | #V | #E | Diameter | FlowcutterTW | OneSumValue | OneSumTW | OneSumOK | TwoSumValue | TwoSumTW | TwoSumOK\n"
     ]
    },
    {
     "ename": "LoadError",
     "evalue": "SystemError: opening file \"./graphs/regular3_32_2_0.mtx\": No such file or directory",
     "output_type": "error",
     "traceback": [
      "SystemError: opening file \"./graphs/regular3_32_2_0.mtx\": No such file or directory",
      "",
      "Stacktrace:",
      "  [1] systemerror(p::String, errno::Int32; extrainfo::Nothing)",
      "    @ Base ./error.jl:174",
      "  [2] #systemerror#68",
      "    @ ./error.jl:173 [inlined]",
      "  [3] systemerror",
      "    @ ./error.jl:173 [inlined]",
      "  [4] open(fname::String; lock::Bool, read::Bool, write::Nothing, create::Nothing, truncate::Nothing, append::Nothing)",
      "    @ Base ./iostream.jl:293",
      "  [5] open(fname::String, mode::String; lock::Bool)",
      "    @ Base ./iostream.jl:355",
      "  [6] open(fname::String, mode::String)",
      "    @ Base ./iostream.jl:355",
      "  [7] open(::MatrixMarket.var\"#1#3\"{Bool, Bool}, ::String, ::Vararg{String}; kwargs::Base.Pairs{Symbol, Union{}, Tuple{}, NamedTuple{(), Tuple{}}})",
      "    @ Base ./io.jl:328",
      "  [8] open",
      "    @ ./io.jl:328 [inlined]",
      "  [9] mmread (repeats 2 times)",
      "    @ ~/.julia/packages/MatrixMarket/ic62N/src/MatrixMarket.jl:30 [inlined]",
      " [10] macro expansion",
      "    @ ./In[50]:4 [inlined]",
      " [11] macro expansion",
      "    @ ~/.julia/packages/ProgressMeter/sN2xr/src/ProgressMeter.jl:938 [inlined]",
      " [12] teststst(files::Vector{String})",
      "    @ Main ./In[50]:3",
      " [13] top-level scope",
      "    @ In[126]:1",
      " [14] eval",
      "    @ ./boot.jl:373 [inlined]",
      " [15] include_string(mapexpr::typeof(REPL.softscope), mod::Module, code::String, filename::String)",
      "    @ Base ./loading.jl:1196"
     ]
    },
    {
     "ename": "LoadError",
     "evalue": "SystemError: opening file \"./graphs/regular3_32_2_0.mtx\": No such file or directory",
     "output_type": "error",
     "traceback": [
      "SystemError: opening file \"./graphs/regular3_32_2_0.mtx\": No such file or directory",
      "",
      "Stacktrace:",
      "  [1] systemerror(p::String, errno::Int32; extrainfo::Nothing)",
      "    @ Base ./error.jl:174",
      "  [2] #systemerror#68",
      "    @ ./error.jl:173 [inlined]",
      "  [3] systemerror",
      "    @ ./error.jl:173 [inlined]",
      "  [4] open(fname::String; lock::Bool, read::Bool, write::Nothing, create::Nothing, truncate::Nothing, append::Nothing)",
      "    @ Base ./iostream.jl:293",
      "  [5] open(fname::String, mode::String; lock::Bool)",
      "    @ Base ./iostream.jl:355",
      "  [6] open(fname::String, mode::String)",
      "    @ Base ./iostream.jl:355",
      "  [7] open(::MatrixMarket.var\"#1#3\"{Bool, Bool}, ::String, ::Vararg{String}; kwargs::Base.Pairs{Symbol, Union{}, Tuple{}, NamedTuple{(), Tuple{}}})",
      "    @ Base ./io.jl:328",
      "  [8] open",
      "    @ ./io.jl:328 [inlined]",
      "  [9] mmread (repeats 2 times)",
      "    @ ~/.julia/packages/MatrixMarket/ic62N/src/MatrixMarket.jl:30 [inlined]",
      " [10] macro expansion",
      "    @ ./In[50]:4 [inlined]",
      " [11] macro expansion",
      "    @ ~/.julia/packages/ProgressMeter/sN2xr/src/ProgressMeter.jl:938 [inlined]",
      " [12] teststst(files::Vector{String})",
      "    @ Main ./In[50]:3",
      " [13] top-level scope",
      "    @ In[126]:1",
      " [14] eval",
      "    @ ./boot.jl:373 [inlined]",
      " [15] include_string(mapexpr::typeof(REPL.softscope), mod::Module, code::String, filename::String)",
      "    @ Base ./loading.jl:1196"
     ]
    }
   ],
   "source": [
    "teststst(circuitfiles)"
   ]
  },
  {
   "cell_type": "code",
   "execution_count": 127,
   "id": "a8a4ad23",
   "metadata": {},
   "outputs": [],
   "source": [
    "using ProgressMeter"
   ]
  },
  {
   "cell_type": "code",
   "execution_count": 128,
   "id": "a5ac7cd7",
   "metadata": {},
   "outputs": [
    {
     "data": {
      "text/plain": [
       "teststst (generic function with 1 method)"
      ]
     },
     "execution_count": 128,
     "metadata": {},
     "output_type": "execute_result"
    },
    {
     "data": {
      "text/plain": [
       "teststst (generic function with 1 method)"
      ]
     },
     "execution_count": 128,
     "metadata": {},
     "output_type": "execute_result"
    }
   ],
   "source": [
    "function teststst(files)\n",
    "    println(\"Name | #V | #E | Diameter | FlowcutterTW | OneSumValue | OneSumTW | OneSumOK | TwoSumValue | TwoSumTW | TwoSumOK\")\n",
    "    @showprogress 1 \"Computing...\" for file in files\n",
    "        B = mmread(file)\n",
    "        testst(file, B)\n",
    "    end\n",
    "end"
   ]
  },
  {
   "cell_type": "code",
   "execution_count": 129,
   "id": "2de26c16",
   "metadata": {},
   "outputs": [
    {
     "data": {
      "text/plain": [
       "testst (generic function with 1 method)"
      ]
     },
     "execution_count": 129,
     "metadata": {},
     "output_type": "execute_result"
    },
    {
     "data": {
      "text/plain": [
       "testst (generic function with 1 method)"
      ]
     },
     "execution_count": 129,
     "metadata": {},
     "output_type": "execute_result"
    }
   ],
   "source": [
    "function testst(file, B)\n",
    "    circuit = SimpleGraph(makeadj(B))\n",
    "    td = QXGraphDecompositions.flow_cutter(tolight((circuit)), 1)\n",
    "    position_to_idx1, idx_to_position1 = ordergraph(onesum, circuit; config...);\n",
    "    position_to_idx2, idx_to_position2 = ordergraph(twosum, circuit; config...);\n",
    "    oneval = LinearOrdering.evalorder(onesum, adjacency_matrix(circuit), idx_to_position1)\n",
    "    twoval = LinearOrdering.evalorder(twosum, adjacency_matrix(circuit), idx_to_position2)\n",
    "    td1 = order_width((circuit), position_to_idx1, idx_to_position1);\n",
    "    td2 = order_width((circuit), position_to_idx2, idx_to_position2);\n",
    "    ok1 = check_td(vectorize_decomp(td1)..., circuit)[1];\n",
    "    ok2 = check_td(vectorize_decomp(td2)..., circuit)[1];\n",
    "    println(\"$file | $(nv(circuit)) | $(ne(circuit)) | $(diameter(circuit)) | $(td[:treewidth]) | $oneval | $(td1.width - 1) | $ok1 | $twoval | $(td2.width - 1) | $ok2\")\n",
    "end"
   ]
  },
  {
   "cell_type": "code",
   "execution_count": 130,
   "id": "67294440",
   "metadata": {},
   "outputs": [
    {
     "ename": "LoadError",
     "evalue": "UndefVarError: circuit not defined",
     "output_type": "error",
     "traceback": [
      "UndefVarError: circuit not defined",
      "",
      "Stacktrace:",
      " [1] top-level scope",
      "   @ In[130]:1",
      " [2] eval",
      "   @ ./boot.jl:373 [inlined]",
      " [3] include_string(mapexpr::typeof(REPL.softscope), mod::Module, code::String, filename::String)",
      "   @ Base ./loading.jl:1196"
     ]
    },
    {
     "ename": "LoadError",
     "evalue": "UndefVarError: circuit not defined",
     "output_type": "error",
     "traceback": [
      "UndefVarError: circuit not defined",
      "",
      "Stacktrace:",
      " [1] top-level scope",
      "   @ In[130]:1",
      " [2] eval",
      "   @ ./boot.jl:373 [inlined]",
      " [3] include_string(mapexpr::typeof(REPL.softscope), mod::Module, code::String, filename::String)",
      "   @ Base ./loading.jl:1196"
     ]
    }
   ],
   "source": [
    "td = QXGraphDecompositions.flow_cutter(tolight((circuit)), 10);"
   ]
  },
  {
   "cell_type": "code",
   "execution_count": 131,
   "id": "13eef508",
   "metadata": {},
   "outputs": [
    {
     "ename": "LoadError",
     "evalue": "UndefVarError: td not defined",
     "output_type": "error",
     "traceback": [
      "UndefVarError: td not defined",
      "",
      "Stacktrace:",
      " [1] top-level scope",
      "   @ In[131]:1",
      " [2] eval",
      "   @ ./boot.jl:373 [inlined]",
      " [3] include_string(mapexpr::typeof(REPL.softscope), mod::Module, code::String, filename::String)",
      "   @ Base ./loading.jl:1196"
     ]
    },
    {
     "ename": "LoadError",
     "evalue": "UndefVarError: td not defined",
     "output_type": "error",
     "traceback": [
      "UndefVarError: td not defined",
      "",
      "Stacktrace:",
      " [1] top-level scope",
      "   @ In[131]:1",
      " [2] eval",
      "   @ ./boot.jl:373 [inlined]",
      " [3] include_string(mapexpr::typeof(REPL.softscope), mod::Module, code::String, filename::String)",
      "   @ Base ./loading.jl:1196"
     ]
    }
   ],
   "source": [
    "td[:treewidth]"
   ]
  },
  {
   "cell_type": "code",
   "execution_count": 132,
   "id": "62a12846",
   "metadata": {},
   "outputs": [
    {
     "ename": "LoadError",
     "evalue": "UndefVarError: circuit not defined",
     "output_type": "error",
     "traceback": [
      "UndefVarError: circuit not defined",
      "",
      "Stacktrace:",
      " [1] top-level scope",
      "   @ In[132]:1",
      " [2] eval",
      "   @ ./boot.jl:373 [inlined]",
      " [3] include_string(mapexpr::typeof(REPL.softscope), mod::Module, code::String, filename::String)",
      "   @ Base ./loading.jl:1196"
     ]
    },
    {
     "ename": "LoadError",
     "evalue": "UndefVarError: circuit not defined",
     "output_type": "error",
     "traceback": [
      "UndefVarError: circuit not defined",
      "",
      "Stacktrace:",
      " [1] top-level scope",
      "   @ In[132]:1",
      " [2] eval",
      "   @ ./boot.jl:373 [inlined]",
      " [3] include_string(mapexpr::typeof(REPL.softscope), mod::Module, code::String, filename::String)",
      "   @ Base ./loading.jl:1196"
     ]
    }
   ],
   "source": [
    "compare([circuit])"
   ]
  },
  {
   "cell_type": "code",
   "execution_count": 133,
   "id": "d102501e",
   "metadata": {},
   "outputs": [
    {
     "ename": "LoadError",
     "evalue": "ArgumentError: Package Plots not found in current path:\n- Run `import Pkg; Pkg.add(\"Plots\")` to install the Plots package.\n",
     "output_type": "error",
     "traceback": [
      "ArgumentError: Package Plots not found in current path:\n- Run `import Pkg; Pkg.add(\"Plots\")` to install the Plots package.\n",
      "",
      "Stacktrace:",
      " [1] require(into::Module, mod::Symbol)",
      "   @ Base ./loading.jl:967",
      " [2] eval",
      "   @ ./boot.jl:373 [inlined]",
      " [3] include_string(mapexpr::typeof(REPL.softscope), mod::Module, code::String, filename::String)",
      "   @ Base ./loading.jl:1196"
     ]
    },
    {
     "ename": "LoadError",
     "evalue": "ArgumentError: Package Plots not found in current path:\n- Run `import Pkg; Pkg.add(\"Plots\")` to install the Plots package.\n",
     "output_type": "error",
     "traceback": [
      "ArgumentError: Package Plots not found in current path:\n- Run `import Pkg; Pkg.add(\"Plots\")` to install the Plots package.\n",
      "",
      "Stacktrace:",
      " [1] require(into::Module, mod::Symbol)",
      "   @ Base ./loading.jl:967",
      " [2] eval",
      "   @ ./boot.jl:373 [inlined]",
      " [3] include_string(mapexpr::typeof(REPL.softscope), mod::Module, code::String, filename::String)",
      "   @ Base ./loading.jl:1196"
     ]
    }
   ],
   "source": [
    "using DataFrames, Plots, CSV, StatsPlots"
   ]
  },
  {
   "cell_type": "code",
   "execution_count": 134,
   "id": "7b78382c",
   "metadata": {},
   "outputs": [
    {
     "ename": "LoadError",
     "evalue": "UndefVarError: CSV not defined",
     "output_type": "error",
     "traceback": [
      "UndefVarError: CSV not defined",
      "",
      "Stacktrace:",
      " [1] top-level scope",
      "   @ In[134]:1",
      " [2] eval",
      "   @ ./boot.jl:373 [inlined]",
      " [3] include_string(mapexpr::typeof(REPL.softscope), mod::Module, code::String, filename::String)",
      "   @ Base ./loading.jl:1196"
     ]
    },
    {
     "ename": "LoadError",
     "evalue": "UndefVarError: CSV not defined",
     "output_type": "error",
     "traceback": [
      "UndefVarError: CSV not defined",
      "",
      "Stacktrace:",
      " [1] top-level scope",
      "   @ In[134]:1",
      " [2] eval",
      "   @ ./boot.jl:373 [inlined]",
      " [3] include_string(mapexpr::typeof(REPL.softscope), mod::Module, code::String, filename::String)",
      "   @ Base ./loading.jl:1196"
     ]
    }
   ],
   "source": [
    "df = DataFrame(CSV.File(\"./tw_variance.csv\"));"
   ]
  },
  {
   "cell_type": "code",
   "execution_count": 135,
   "id": "1e656070",
   "metadata": {},
   "outputs": [
    {
     "ename": "LoadError",
     "evalue": "UndefVarError: df not defined",
     "output_type": "error",
     "traceback": [
      "UndefVarError: df not defined",
      "",
      "Stacktrace:",
      " [1] top-level scope",
      "   @ In[135]:1",
      " [2] eval",
      "   @ ./boot.jl:373 [inlined]",
      " [3] include_string(mapexpr::typeof(REPL.softscope), mod::Module, code::String, filename::String)",
      "   @ Base ./loading.jl:1196"
     ]
    },
    {
     "ename": "LoadError",
     "evalue": "UndefVarError: df not defined",
     "output_type": "error",
     "traceback": [
      "UndefVarError: df not defined",
      "",
      "Stacktrace:",
      " [1] top-level scope",
      "   @ In[135]:1",
      " [2] eval",
      "   @ ./boot.jl:373 [inlined]",
      " [3] include_string(mapexpr::typeof(REPL.softscope), mod::Module, code::String, filename::String)",
      "   @ Base ./loading.jl:1196"
     ]
    }
   ],
   "source": [
    "names(df)"
   ]
  },
  {
   "cell_type": "code",
   "execution_count": 136,
   "id": "90a8300a",
   "metadata": {},
   "outputs": [
    {
     "ename": "LoadError",
     "evalue": "UndefVarError: df not defined",
     "output_type": "error",
     "traceback": [
      "UndefVarError: df not defined",
      "",
      "Stacktrace:",
      " [1] top-level scope",
      "   @ In[136]:1",
      " [2] eval",
      "   @ ./boot.jl:373 [inlined]",
      " [3] include_string(mapexpr::typeof(REPL.softscope), mod::Module, code::String, filename::String)",
      "   @ Base ./loading.jl:1196"
     ]
    },
    {
     "ename": "LoadError",
     "evalue": "UndefVarError: df not defined",
     "output_type": "error",
     "traceback": [
      "UndefVarError: df not defined",
      "",
      "Stacktrace:",
      " [1] top-level scope",
      "   @ In[136]:1",
      " [2] eval",
      "   @ ./boot.jl:373 [inlined]",
      " [3] include_string(mapexpr::typeof(REPL.softscope), mod::Module, code::String, filename::String)",
      "   @ Base ./loading.jl:1196"
     ]
    }
   ],
   "source": [
    "gdf = groupby(df, :Name);"
   ]
  },
  {
   "cell_type": "code",
   "execution_count": 137,
   "id": "640813ac",
   "metadata": {},
   "outputs": [
    {
     "ename": "LoadError",
     "evalue": "UndefVarError: df not defined",
     "output_type": "error",
     "traceback": [
      "UndefVarError: df not defined",
      "",
      "Stacktrace:",
      " [1] top-level scope",
      "   @ :0",
      " [2] eval",
      "   @ ./boot.jl:373 [inlined]",
      " [3] include_string(mapexpr::typeof(REPL.softscope), mod::Module, code::String, filename::String)",
      "   @ Base ./loading.jl:1196"
     ]
    },
    {
     "ename": "LoadError",
     "evalue": "UndefVarError: df not defined",
     "output_type": "error",
     "traceback": [
      "UndefVarError: df not defined",
      "",
      "Stacktrace:",
      " [1] top-level scope",
      "   @ :0",
      " [2] eval",
      "   @ ./boot.jl:373 [inlined]",
      " [3] include_string(mapexpr::typeof(REPL.softscope), mod::Module, code::String, filename::String)",
      "   @ Base ./loading.jl:1196"
     ]
    }
   ],
   "source": [
    "df"
   ]
  },
  {
   "cell_type": "code",
   "execution_count": 138,
   "id": "99da59f4",
   "metadata": {},
   "outputs": [
    {
     "ename": "LoadError",
     "evalue": "UndefVarError: gdf not defined",
     "output_type": "error",
     "traceback": [
      "UndefVarError: gdf not defined",
      "",
      "Stacktrace:",
      " [1] top-level scope",
      "   @ In[138]:1",
      " [2] eval",
      "   @ ./boot.jl:373 [inlined]",
      " [3] include_string(mapexpr::typeof(REPL.softscope), mod::Module, code::String, filename::String)",
      "   @ Base ./loading.jl:1196"
     ]
    },
    {
     "ename": "LoadError",
     "evalue": "UndefVarError: gdf not defined",
     "output_type": "error",
     "traceback": [
      "UndefVarError: gdf not defined",
      "",
      "Stacktrace:",
      " [1] top-level scope",
      "   @ In[138]:1",
      " [2] eval",
      "   @ ./boot.jl:373 [inlined]",
      " [3] include_string(mapexpr::typeof(REPL.softscope), mod::Module, code::String, filename::String)",
      "   @ Base ./loading.jl:1196"
     ]
    }
   ],
   "source": [
    "cgdf = combine(gdf, :Flowcutter => minimum, :TW=> minimum)"
   ]
  },
  {
   "cell_type": "code",
   "execution_count": 139,
   "id": "8020c949",
   "metadata": {},
   "outputs": [
    {
     "ename": "LoadError",
     "evalue": "LoadError: UndefVarError: @df not defined\nin expression starting at In[139]:1",
     "output_type": "error",
     "traceback": [
      "LoadError: UndefVarError: @df not defined\nin expression starting at In[139]:1",
      "",
      "Stacktrace:",
      " [1] top-level scope",
      "   @ :0",
      " [2] eval",
      "   @ ./boot.jl:373 [inlined]",
      " [3] include_string(mapexpr::typeof(REPL.softscope), mod::Module, code::String, filename::String)",
      "   @ Base ./loading.jl:1196"
     ]
    },
    {
     "ename": "LoadError",
     "evalue": "LoadError: UndefVarError: @df not defined\nin expression starting at In[139]:1",
     "output_type": "error",
     "traceback": [
      "LoadError: UndefVarError: @df not defined\nin expression starting at In[139]:1",
      "",
      "Stacktrace:",
      " [1] top-level scope",
      "   @ :0",
      " [2] eval",
      "   @ ./boot.jl:373 [inlined]",
      " [3] include_string(mapexpr::typeof(REPL.softscope), mod::Module, code::String, filename::String)",
      "   @ Base ./loading.jl:1196"
     ]
    }
   ],
   "source": [
    "@df cgdf groupedbar([:Flowcutter_minimum :TW_minimum], bar_position =:dodge, xlabel=\"Graphs\", ylabel=\"Width\", bar_width=0.4)"
   ]
  },
  {
   "cell_type": "code",
   "execution_count": 140,
   "id": "8be0fdcf",
   "metadata": {
    "scrolled": true
   },
   "outputs": [
    {
     "ename": "LoadError",
     "evalue": "LoadError: UndefVarError: @layout not defined\nin expression starting at In[140]:2",
     "output_type": "error",
     "traceback": [
      "LoadError: UndefVarError: @layout not defined\nin expression starting at In[140]:2",
      "",
      "Stacktrace:",
      " [1] top-level scope",
      "   @ :0",
      " [2] eval",
      "   @ ./boot.jl:373 [inlined]",
      " [3] include_string(mapexpr::typeof(REPL.softscope), mod::Module, code::String, filename::String)",
      "   @ Base ./loading.jl:1196"
     ]
    },
    {
     "ename": "LoadError",
     "evalue": "LoadError: UndefVarError: @layout not defined\nin expression starting at In[140]:2",
     "output_type": "error",
     "traceback": [
      "LoadError: UndefVarError: @layout not defined\nin expression starting at In[140]:2",
      "",
      "Stacktrace:",
      " [1] top-level scope",
      "   @ :0",
      " [2] eval",
      "   @ ./boot.jl:373 [inlined]",
      " [3] include_string(mapexpr::typeof(REPL.softscope), mod::Module, code::String, filename::String)",
      "   @ Base ./loading.jl:1196"
     ]
    }
   ],
   "source": [
    "for subdf in groupby(df, [:Name, :Order])\n",
    "    l = @layout [a b]\n",
    "    p1 = @df subdf histogram(:OneSumVal, legend=false)\n",
    "    p2 = @df subdf bar(\n",
    "        unique(:TW), \n",
    "        [count(==(e), :TW) for e in unique(:TW)];\n",
    "        legend = false, xlabel=\"One Sum Value\"\n",
    "    )\n",
    "    @df subdf bar!(p2, \n",
    "        [minimum(:Flowcutter)], [count(==(minimum(:Flowcutter)), :TW)];\n",
    "        color = :red, legend=false, xlabel = \"Order Width\", title=\"r = $(subdf.Order[1])\"\n",
    "    )\n",
    "    display(plot(p1, p2; layout = l, size=(700, 200)))\n",
    "end"
   ]
  },
  {
   "cell_type": "code",
   "execution_count": 141,
   "id": "29fe6b29",
   "metadata": {
    "scrolled": false
   },
   "outputs": [
    {
     "ename": "LoadError",
     "evalue": "LoadError: UndefVarError: @df not defined\nin expression starting at In[141]:2",
     "output_type": "error",
     "traceback": [
      "LoadError: UndefVarError: @df not defined\nin expression starting at In[141]:2",
      "",
      "Stacktrace:",
      " [1] top-level scope",
      "   @ :0",
      " [2] eval",
      "   @ ./boot.jl:373 [inlined]",
      " [3] include_string(mapexpr::typeof(REPL.softscope), mod::Module, code::String, filename::String)",
      "   @ Base ./loading.jl:1196"
     ]
    },
    {
     "ename": "LoadError",
     "evalue": "LoadError: UndefVarError: @df not defined\nin expression starting at In[141]:2",
     "output_type": "error",
     "traceback": [
      "LoadError: UndefVarError: @df not defined\nin expression starting at In[141]:2",
      "",
      "Stacktrace:",
      " [1] top-level scope",
      "   @ :0",
      " [2] eval",
      "   @ ./boot.jl:373 [inlined]",
      " [3] include_string(mapexpr::typeof(REPL.softscope), mod::Module, code::String, filename::String)",
      "   @ Base ./loading.jl:1196"
     ]
    }
   ],
   "source": [
    "for subdf in gdf\n",
    "    display(@df subdf scatter(:OneSumVal, :TW; size=(300, 300), legend=false, title=subdf.Name[1]))\n",
    "end"
   ]
  },
  {
   "cell_type": "code",
   "execution_count": 142,
   "id": "304591a9",
   "metadata": {},
   "outputs": [
    {
     "data": {
      "text/plain": [
       "write_gr (generic function with 1 method)"
      ]
     },
     "execution_count": 142,
     "metadata": {},
     "output_type": "execute_result"
    },
    {
     "data": {
      "text/plain": [
       "write_gr (generic function with 1 method)"
      ]
     },
     "execution_count": 142,
     "metadata": {},
     "output_type": "execute_result"
    }
   ],
   "source": [
    "function write_gr(filepath, graph)\n",
    "    io = open(filepath, \"w\")\n",
    "    write(io, \"p tw $(nv(graph)) $(ne(graph))\\n\")\n",
    "    for e in edges(graph)\n",
    "        write(io, \"$(e.src) $(e.dst)\\n\")\n",
    "    end\n",
    "    close(io)\n",
    "end"
   ]
  },
  {
   "cell_type": "code",
   "execution_count": 143,
   "id": "8a99d9c9",
   "metadata": {},
   "outputs": [
    {
     "ename": "LoadError",
     "evalue": "UndefVarError: circuits not defined",
     "output_type": "error",
     "traceback": [
      "UndefVarError: circuits not defined",
      "",
      "Stacktrace:",
      " [1] top-level scope",
      "   @ ./In[143]:1",
      " [2] eval",
      "   @ ./boot.jl:373 [inlined]",
      " [3] include_string(mapexpr::typeof(REPL.softscope), mod::Module, code::String, filename::String)",
      "   @ Base ./loading.jl:1196"
     ]
    },
    {
     "ename": "LoadError",
     "evalue": "UndefVarError: circuits not defined",
     "output_type": "error",
     "traceback": [
      "UndefVarError: circuits not defined",
      "",
      "Stacktrace:",
      " [1] top-level scope",
      "   @ ./In[143]:1",
      " [2] eval",
      "   @ ./boot.jl:373 [inlined]",
      " [3] include_string(mapexpr::typeof(REPL.softscope), mod::Module, code::String, filename::String)",
      "   @ Base ./loading.jl:1196"
     ]
    }
   ],
   "source": [
    "for (name, graph) in Iterators.zip(circuitfiles, circuits)\n",
    "    path, _ = splitext(name)\n",
    "    path = path * \".gr\"\n",
    "    line = linegraph(graph)\n",
    "    write_gr(path, line)\n",
    "end"
   ]
  },
  {
   "cell_type": "code",
   "execution_count": 144,
   "id": "7bf77826",
   "metadata": {},
   "outputs": [
    {
     "ename": "LoadError",
     "evalue": "SystemError: opening file \"./tamaki_widths.log\": No such file or directory",
     "output_type": "error",
     "traceback": [
      "SystemError: opening file \"./tamaki_widths.log\": No such file or directory",
      "",
      "Stacktrace:",
      "  [1] systemerror(p::String, errno::Int32; extrainfo::Nothing)",
      "    @ Base ./error.jl:174",
      "  [2] #systemerror#68",
      "    @ ./error.jl:173 [inlined]",
      "  [3] systemerror",
      "    @ ./error.jl:173 [inlined]",
      "  [4] open(fname::String; lock::Bool, read::Nothing, write::Nothing, create::Nothing, truncate::Nothing, append::Nothing)",
      "    @ Base ./iostream.jl:293",
      "  [5] open",
      "    @ ./iostream.jl:282 [inlined]",
      "  [6] open(f::Base.var\"#376#377\"{Base.Pairs{Symbol, Union{}, Tuple{}, NamedTuple{(), Tuple{}}}}, args::String; kwargs::Base.Pairs{Symbol, Union{}, Tuple{}, NamedTuple{(), Tuple{}}})",
      "    @ Base ./io.jl:328",
      "  [7] open",
      "    @ ./io.jl:328 [inlined]",
      "  [8] #readlines#375",
      "    @ ./io.jl:549 [inlined]",
      "  [9] readlines(filename::String)",
      "    @ Base ./io.jl:549",
      " [10] top-level scope",
      "    @ In[144]:1",
      " [11] eval",
      "    @ ./boot.jl:373 [inlined]",
      " [12] include_string(mapexpr::typeof(REPL.softscope), mod::Module, code::String, filename::String)",
      "    @ Base ./loading.jl:1196"
     ]
    },
    {
     "ename": "LoadError",
     "evalue": "SystemError: opening file \"./tamaki_widths.log\": No such file or directory",
     "output_type": "error",
     "traceback": [
      "SystemError: opening file \"./tamaki_widths.log\": No such file or directory",
      "",
      "Stacktrace:",
      "  [1] systemerror(p::String, errno::Int32; extrainfo::Nothing)",
      "    @ Base ./error.jl:174",
      "  [2] #systemerror#68",
      "    @ ./error.jl:173 [inlined]",
      "  [3] systemerror",
      "    @ ./error.jl:173 [inlined]",
      "  [4] open(fname::String; lock::Bool, read::Nothing, write::Nothing, create::Nothing, truncate::Nothing, append::Nothing)",
      "    @ Base ./iostream.jl:293",
      "  [5] open",
      "    @ ./iostream.jl:282 [inlined]",
      "  [6] open(f::Base.var\"#376#377\"{Base.Pairs{Symbol, Union{}, Tuple{}, NamedTuple{(), Tuple{}}}}, args::String; kwargs::Base.Pairs{Symbol, Union{}, Tuple{}, NamedTuple{(), Tuple{}}})",
      "    @ Base ./io.jl:328",
      "  [7] open",
      "    @ ./io.jl:328 [inlined]",
      "  [8] #readlines#375",
      "    @ ./io.jl:549 [inlined]",
      "  [9] readlines(filename::String)",
      "    @ Base ./io.jl:549",
      " [10] top-level scope",
      "    @ In[144]:1",
      " [11] eval",
      "    @ ./boot.jl:373 [inlined]",
      " [12] include_string(mapexpr::typeof(REPL.softscope), mod::Module, code::String, filename::String)",
      "    @ Base ./loading.jl:1196"
     ]
    }
   ],
   "source": [
    "tam_log = readlines(\"./tamaki_widths.log\");"
   ]
  },
  {
   "cell_type": "code",
   "execution_count": 145,
   "id": "c90d08ff",
   "metadata": {},
   "outputs": [
    {
     "ename": "LoadError",
     "evalue": "UndefVarError: tam_log not defined",
     "output_type": "error",
     "traceback": [
      "UndefVarError: tam_log not defined",
      "",
      "Stacktrace:",
      " [1] top-level scope",
      "   @ In[145]:1",
      " [2] eval",
      "   @ ./boot.jl:373 [inlined]",
      " [3] include_string(mapexpr::typeof(REPL.softscope), mod::Module, code::String, filename::String)",
      "   @ Base ./loading.jl:1196"
     ]
    },
    {
     "ename": "LoadError",
     "evalue": "UndefVarError: tam_log not defined",
     "output_type": "error",
     "traceback": [
      "UndefVarError: tam_log not defined",
      "",
      "Stacktrace:",
      " [1] top-level scope",
      "   @ In[145]:1",
      " [2] eval",
      "   @ ./boot.jl:373 [inlined]",
      " [3] include_string(mapexpr::typeof(REPL.softscope), mod::Module, code::String, filename::String)",
      "   @ Base ./loading.jl:1196"
     ]
    }
   ],
   "source": [
    "count(startswith.(tam_log, '/'))"
   ]
  },
  {
   "cell_type": "code",
   "execution_count": 146,
   "id": "4e8d8b1a",
   "metadata": {},
   "outputs": [],
   "source": [
    "using DataFrames"
   ]
  },
  {
   "cell_type": "code",
   "execution_count": 147,
   "id": "bc8f2144",
   "metadata": {},
   "outputs": [
    {
     "ename": "LoadError",
     "evalue": "UndefVarError: tam_log not defined",
     "output_type": "error",
     "traceback": [
      "UndefVarError: tam_log not defined",
      "",
      "Stacktrace:",
      " [1] top-level scope",
      "   @ ./In[147]:4",
      " [2] eval",
      "   @ ./boot.jl:373 [inlined]",
      " [3] include_string(mapexpr::typeof(REPL.softscope), mod::Module, code::String, filename::String)",
      "   @ Base ./loading.jl:1196"
     ]
    },
    {
     "ename": "LoadError",
     "evalue": "UndefVarError: tam_log not defined",
     "output_type": "error",
     "traceback": [
      "UndefVarError: tam_log not defined",
      "",
      "Stacktrace:",
      " [1] top-level scope",
      "   @ ./In[147]:4",
      " [2] eval",
      "   @ ./boot.jl:373 [inlined]",
      " [3] include_string(mapexpr::typeof(REPL.softscope), mod::Module, code::String, filename::String)",
      "   @ Base ./loading.jl:1196"
     ]
    }
   ],
   "source": [
    "idx = 1\n",
    "rows = []\n",
    "parseint(s) = parse(Int, join(collect(Iterators.filter(isnumeric, s))))\n",
    "while idx < length(tam_log)\n",
    "    name = tam_log[idx]\n",
    "    idx += 2\n",
    "    while idx <= length(tam_log) && startswith(tam_log[idx], 'c')\n",
    "        row = (name, parseint(tam_log[idx]), parseint(tam_log[idx+1]))\n",
    "        push!(rows, row)\n",
    "        idx += 2\n",
    "    end\n",
    "end\n",
    "tamaki_df = DataFrame(rows);"
   ]
  },
  {
   "cell_type": "code",
   "execution_count": 148,
   "id": "fdc369a3",
   "metadata": {},
   "outputs": [],
   "source": [
    "getwidthsdf(df, s) = combine(groupby(filter(:3 => x -> x < s, df), :1), :2 => minimum)[!, Symbol(\"2_minimum\")];"
   ]
  },
  {
   "cell_type": "code",
   "execution_count": 149,
   "id": "e571afef",
   "metadata": {
    "scrolled": false
   },
   "outputs": [
    {
     "ename": "LoadError",
     "evalue": "UndefVarError: tw5s not defined",
     "output_type": "error",
     "traceback": [
      "UndefVarError: tw5s not defined",
      "",
      "Stacktrace:",
      " [1] top-level scope",
      "   @ ./In[149]:1",
      " [2] eval",
      "   @ ./boot.jl:373 [inlined]",
      " [3] include_string(mapexpr::typeof(REPL.softscope), mod::Module, code::String, filename::String)",
      "   @ Base ./loading.jl:1196"
     ]
    },
    {
     "ename": "LoadError",
     "evalue": "UndefVarError: tw5s not defined",
     "output_type": "error",
     "traceback": [
      "UndefVarError: tw5s not defined",
      "",
      "Stacktrace:",
      " [1] top-level scope",
      "   @ ./In[149]:1",
      " [2] eval",
      "   @ ./boot.jl:373 [inlined]",
      " [3] include_string(mapexpr::typeof(REPL.softscope), mod::Module, code::String, filename::String)",
      "   @ Base ./loading.jl:1196"
     ]
    }
   ],
   "source": [
    "for v in tw5s\n",
    "    println(v)\n",
    "end"
   ]
  },
  {
   "cell_type": "code",
   "execution_count": 150,
   "id": "81f171d0",
   "metadata": {},
   "outputs": [],
   "source": [
    "using TickTock"
   ]
  },
  {
   "cell_type": "code",
   "execution_count": 151,
   "id": "4f19460a",
   "metadata": {
    "scrolled": true
   },
   "outputs": [
    {
     "ename": "LoadError",
     "evalue": "UndefVarError: circuits not defined",
     "output_type": "error",
     "traceback": [
      "UndefVarError: circuits not defined",
      "",
      "Stacktrace:",
      " [1] top-level scope",
      "   @ ~/.julia/packages/ProgressMeter/sN2xr/src/ProgressMeter.jl:931",
      " [2] eval",
      "   @ ./boot.jl:373 [inlined]",
      " [3] include_string(mapexpr::typeof(REPL.softscope), mod::Module, code::String, filename::String)",
      "   @ Base ./loading.jl:1196"
     ]
    },
    {
     "ename": "LoadError",
     "evalue": "UndefVarError: circuits not defined",
     "output_type": "error",
     "traceback": [
      "UndefVarError: circuits not defined",
      "",
      "Stacktrace:",
      " [1] top-level scope",
      "   @ ~/.julia/packages/ProgressMeter/sN2xr/src/ProgressMeter.jl:931",
      " [2] eval",
      "   @ ./boot.jl:373 [inlined]",
      " [3] include_string(mapexpr::typeof(REPL.softscope), mod::Module, code::String, filename::String)",
      "   @ Base ./loading.jl:1196"
     ]
    }
   ],
   "source": [
    "rowscost = []\n",
    "@showprogress 1 \"Graph...\" for (name, G) in Iterators.zip(circuitfiles, circuits)\n",
    "    bestcost = Inf\n",
    "    tick()\n",
    "    @showprogress 1 \"Seed...\" for i in 1:50\n",
    "        config = (\n",
    "            compat_sweeps=10,\n",
    "            stride_percent=0.5,\n",
    "            gauss_sweeps=10,\n",
    "            coarsening=VolumeCoarsening(0.4, 2.0, 5),\n",
    "            coarsest=10, \n",
    "            pad_percent=0.05, \n",
    "            node_window_sweeps=10,\n",
    "            node_window_size=1,\n",
    "            seed = i\n",
    "        )\n",
    "        position_to_idx, idx_to_position = ordergraph(onesum, G; config...);\n",
    "        onesumval = LinearOrdering.evalorder(onesum, adjacency_matrix(G), idx_to_position)\n",
    "        cost, _ = recursive_width(adjacency_matrix(G), position_to_idx, idx_to_position; flops=true)\n",
    "        t = peektimer()\n",
    "        if cost <= bestcost\n",
    "            bestcost = cost\n",
    "            push!(rowscost, (name, bestcost, t))\n",
    "        end\n",
    "        if t >= 10\n",
    "            break\n",
    "        end\n",
    "    end    \n",
    "    tok()\n",
    "end"
   ]
  },
  {
   "cell_type": "code",
   "execution_count": 152,
   "id": "2f7c1ed8",
   "metadata": {},
   "outputs": [],
   "source": [
    "using DataFrames"
   ]
  },
  {
   "cell_type": "code",
   "execution_count": 153,
   "id": "ad685824",
   "metadata": {},
   "outputs": [
    {
     "data": {
      "text/html": [
       "<div class=\"data-frame\"><p>0 rows × 0 columns</p><table class=\"data-frame\"><thead><tr><th></th></tr><tr><th></th></tr></thead><tbody></tbody></table></div>"
      ],
      "text/latex": [
       "\\begin{tabular}{r|}\n",
       "\t& \\\\\n",
       "\t\\hline\n",
       "\t& \\\\\n",
       "\t\\hline\n",
       "\\end{tabular}\n"
      ],
      "text/plain": [
       "\u001b[1m0×0 DataFrame\u001b[0m"
      ]
     },
     "execution_count": 153,
     "metadata": {},
     "output_type": "execute_result"
    },
    {
     "data": {
      "text/html": [
       "<div class=\"data-frame\"><p>0 rows × 0 columns</p><table class=\"data-frame\"><thead><tr><th></th></tr><tr><th></th></tr></thead><tbody></tbody></table></div>"
      ],
      "text/latex": [
       "\\begin{tabular}{r|}\n",
       "\t& \\\\\n",
       "\t\\hline\n",
       "\t& \\\\\n",
       "\t\\hline\n",
       "\\end{tabular}\n"
      ],
      "text/plain": [
       "\u001b[1m0×0 DataFrame\u001b[0m"
      ]
     },
     "execution_count": 153,
     "metadata": {},
     "output_type": "execute_result"
    }
   ],
   "source": [
    "order_df = DataFrame(rowscost)"
   ]
  },
  {
   "cell_type": "code",
   "execution_count": 154,
   "id": "fe8e05f4",
   "metadata": {},
   "outputs": [
    {
     "ename": "LoadError",
     "evalue": "UndefVarError: rowscw not defined",
     "output_type": "error",
     "traceback": [
      "UndefVarError: rowscw not defined",
      "",
      "Stacktrace:",
      " [1] top-level scope",
      "   @ In[154]:1",
      " [2] eval",
      "   @ ./boot.jl:373 [inlined]",
      " [3] include_string(mapexpr::typeof(REPL.softscope), mod::Module, code::String, filename::String)",
      "   @ Base ./loading.jl:1196"
     ]
    },
    {
     "ename": "LoadError",
     "evalue": "UndefVarError: rowscw not defined",
     "output_type": "error",
     "traceback": [
      "UndefVarError: rowscw not defined",
      "",
      "Stacktrace:",
      " [1] top-level scope",
      "   @ In[154]:1",
      " [2] eval",
      "   @ ./boot.jl:373 [inlined]",
      " [3] include_string(mapexpr::typeof(REPL.softscope), mod::Module, code::String, filename::String)",
      "   @ Base ./loading.jl:1196"
     ]
    }
   ],
   "source": [
    "order_df = DataFrame(rowscw)"
   ]
  },
  {
   "cell_type": "code",
   "execution_count": 155,
   "id": "a6532002",
   "metadata": {
    "scrolled": false
   },
   "outputs": [
    {
     "ename": "LoadError",
     "evalue": "BoundsError: attempt to access data frame with 0 columns at index [3]",
     "output_type": "error",
     "traceback": [
      "BoundsError: attempt to access data frame with 0 columns at index [3]",
      "",
      "Stacktrace:",
      " [1] getindex",
      "   @ ~/.julia/packages/DataFrames/zqFGs/src/other/index.jl:190 [inlined]",
      " [2] #filter#87",
      "   @ ~/.julia/packages/DataFrames/zqFGs/src/abstractdataframe/abstractdataframe.jl:1088 [inlined]",
      " [3] filter",
      "   @ ~/.julia/packages/DataFrames/zqFGs/src/abstractdataframe/abstractdataframe.jl:1088 [inlined]",
      " [4] getwidthsdf(df::DataFrame, s::Int64)",
      "   @ Main ./In[148]:1",
      " [5] top-level scope",
      "   @ ./In[155]:1",
      " [6] eval",
      "   @ ./boot.jl:373 [inlined]",
      " [7] include_string(mapexpr::typeof(REPL.softscope), mod::Module, code::String, filename::String)",
      "   @ Base ./loading.jl:1196"
     ]
    },
    {
     "ename": "LoadError",
     "evalue": "BoundsError: attempt to access data frame with 0 columns at index [3]",
     "output_type": "error",
     "traceback": [
      "BoundsError: attempt to access data frame with 0 columns at index [3]",
      "",
      "Stacktrace:",
      " [1] getindex",
      "   @ ~/.julia/packages/DataFrames/zqFGs/src/other/index.jl:190 [inlined]",
      " [2] #filter#87",
      "   @ ~/.julia/packages/DataFrames/zqFGs/src/abstractdataframe/abstractdataframe.jl:1088 [inlined]",
      " [3] filter",
      "   @ ~/.julia/packages/DataFrames/zqFGs/src/abstractdataframe/abstractdataframe.jl:1088 [inlined]",
      " [4] getwidthsdf(df::DataFrame, s::Int64)",
      "   @ Main ./In[148]:1",
      " [5] top-level scope",
      "   @ ./In[155]:1",
      " [6] eval",
      "   @ ./boot.jl:373 [inlined]",
      " [7] include_string(mapexpr::typeof(REPL.softscope), mod::Module, code::String, filename::String)",
      "   @ Base ./loading.jl:1196"
     ]
    }
   ],
   "source": [
    "for v in getwidthsdf(order_df, 10)\n",
    "    println(v)\n",
    "end"
   ]
  },
  {
   "cell_type": "code",
   "execution_count": 156,
   "id": "a89de92c",
   "metadata": {},
   "outputs": [],
   "source": [
    "path = [(116, 141),\n",
    " (176, 190),\n",
    " (50, 84),\n",
    " (18, 188),\n",
    " (186, 187),\n",
    " (49, 76),\n",
    " (18, 185),\n",
    " (104, 133),\n",
    " (168, 183),\n",
    " (181, 182),\n",
    " (180, 181),\n",
    " (52, 88),\n",
    " (22, 179),\n",
    " (115, 124),\n",
    " (167, 177),\n",
    " (175, 176),\n",
    " (94, 130),\n",
    " (157, 174),\n",
    " (43, 65),\n",
    " (14, 172),\n",
    " (170, 171),\n",
    " (169, 170),\n",
    " (168, 169),\n",
    " (41, 57),\n",
    " (13, 167),\n",
    " (47, 54),\n",
    " (20, 165),\n",
    " (163, 164),\n",
    " (39, 77),\n",
    " (13, 162),\n",
    " (160, 161),\n",
    " (102, 116),\n",
    " (143, 159),\n",
    " (76, 115),\n",
    " (140, 157),\n",
    " (155, 156),\n",
    " (75, 107),\n",
    " (144, 154),\n",
    " (152, 153),\n",
    " (151, 152),\n",
    " (150, 151),\n",
    " (99, 120),\n",
    " (127, 149),\n",
    " (82, 102),\n",
    " (141, 147),\n",
    " (145, 146),\n",
    " (46, 57),\n",
    " (21, 144),\n",
    " (28, 71),\n",
    " (4, 142),\n",
    " (140, 141),\n",
    " (139, 140),\n",
    " (138, 139),\n",
    " (31, 68),\n",
    " (8, 137),\n",
    " (24, 46),\n",
    " (2, 135),\n",
    " (133, 134),\n",
    " (65, 106),\n",
    " (109, 132),\n",
    " (84, 99),\n",
    " (112, 130),\n",
    " (128, 129),\n",
    " (127, 128),\n",
    " (126, 127),\n",
    " (65, 103),\n",
    " (104, 125),\n",
    " (22, 44),\n",
    " (1, 123),\n",
    " (121, 122),\n",
    " (120, 121),\n",
    " (73, 97),\n",
    " (100, 119),\n",
    " (64, 95),\n",
    " (98, 117),\n",
    " (115, 116),\n",
    " (22, 53),\n",
    " (2, 114),\n",
    " (21, 42),\n",
    " (2, 112),\n",
    " (110, 111),\n",
    " (109, 110),\n",
    " (108, 109),\n",
    " (28, 43),\n",
    " (10, 107),\n",
    " (20, 41),\n",
    " (3, 105),\n",
    " (103, 104),\n",
    " (19, 38),\n",
    " (3, 102),\n",
    " (51, 76),\n",
    " (83, 100),\n",
    " (98, 99),\n",
    " (97, 98),\n",
    " (51, 69),\n",
    " (86, 96),\n",
    " (51, 73),\n",
    " (78, 94),\n",
    " (92, 93),\n",
    " (91, 92),\n",
    " (51, 74),\n",
    " (73, 90),\n",
    " (0, 15),\n",
    " (34, 88),\n",
    " (86, 87),\n",
    " (85, 86),\n",
    " (46, 57),\n",
    " (80, 84),\n",
    " (26, 32),\n",
    " (12, 82),\n",
    " (80, 81),\n",
    " (48, 63),\n",
    " (64, 79),\n",
    " (14, 35),\n",
    " (1, 77),\n",
    " (75, 76),\n",
    " (74, 75),\n",
    " (13, 24),\n",
    " (1, 73),\n",
    " (71, 72),\n",
    " (44, 54),\n",
    " (57, 70),\n",
    " (33, 53),\n",
    " (54, 68),\n",
    " (66, 67),\n",
    " (65, 66),\n",
    " (64, 65),\n",
    " (12, 32),\n",
    " (1, 63),\n",
    " (11, 29),\n",
    " (1, 61),\n",
    " (59, 60),\n",
    " (36, 45),\n",
    " (46, 58),\n",
    " (56, 57),\n",
    " (55, 56),\n",
    " (54, 55),\n",
    " (15, 24),\n",
    " (6, 53),\n",
    " (30, 35),\n",
    " (46, 51),\n",
    " (49, 50),\n",
    " (30, 34),\n",
    " (43, 48),\n",
    " (13, 22),\n",
    " (5, 46),\n",
    " (44, 45),\n",
    " (43, 44),\n",
    " (42, 43),\n",
    " (11, 15),\n",
    " (4, 41),\n",
    " (7, 12),\n",
    " (1, 39),\n",
    " (37, 38),\n",
    " (5, 14),\n",
    " (0, 36),\n",
    " (4, 8),\n",
    " (0, 34),\n",
    " (32, 33),\n",
    " (31, 32),\n",
    " (10, 18),\n",
    " (25, 30),\n",
    " (14, 20),\n",
    " (19, 28),\n",
    " (26, 27),\n",
    " (10, 17),\n",
    " (18, 25),\n",
    " (9, 16),\n",
    " (15, 23),\n",
    " (21, 22),\n",
    " (20, 21),\n",
    " (19, 20),\n",
    " (18, 19),\n",
    " (11, 14),\n",
    " (13, 17),\n",
    " (9, 11),\n",
    " (12, 15),\n",
    " (13, 14),\n",
    " (5, 6),\n",
    " (2, 12),\n",
    " (2, 5),\n",
    " (0, 10),\n",
    " (8, 9),\n",
    " (7, 8),\n",
    " (6, 7),\n",
    " (3, 4),\n",
    " (3, 5),\n",
    " (1, 2),\n",
    " (0, 3),\n",
    " (1, 2),\n",
    " (0, 1)];"
   ]
  }
 ],
 "metadata": {
  "kernelspec": {
   "display_name": "Julia 1.7.3",
   "language": "julia",
   "name": "julia-1.7"
  },
  "language_info": {
   "file_extension": ".jl",
   "mimetype": "application/julia",
   "name": "julia",
   "version": "1.7.3"
  }
 },
 "nbformat": 4,
 "nbformat_minor": 5
}
