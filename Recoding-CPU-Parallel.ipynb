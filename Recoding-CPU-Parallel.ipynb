{
 "cells": [
  {
   "cell_type": "code",
   "execution_count": 1,
   "id": "ded03f08",
   "metadata": {},
   "outputs": [],
   "source": [
    "using Coarsening, Graphs, LinearOrdering, MatrixMarket"
   ]
  },
  {
   "cell_type": "code",
   "execution_count": 2,
   "id": "b70dc45f",
   "metadata": {},
   "outputs": [
    {
     "data": {
      "text/plain": [
       "makeadj (generic function with 1 method)"
      ]
     },
     "execution_count": 2,
     "metadata": {},
     "output_type": "execute_result"
    }
   ],
   "source": [
    "include(\"./cpu-parallel-dynamictreewidth.jl\")\n"
   ]
  },
  {
   "cell_type": "code",
   "execution_count": 3,
   "id": "609f3250",
   "metadata": {},
   "outputs": [
    {
     "data": {
      "text/plain": [
       "\"./graphs/regular3_32_2_0.mtx\""
      ]
     },
     "execution_count": 3,
     "metadata": {},
     "output_type": "execute_result"
    }
   ],
   "source": [
    "fname = \"./graphs/regular3_32_2_0.mtx\""
   ]
  },
  {
   "cell_type": "code",
   "execution_count": 4,
   "id": "70ff44e9",
   "metadata": {},
   "outputs": [
    {
     "data": {
      "text/plain": [
       "192×192 Matrix{Float64}:\n",
       " 0.0  0.0  0.0  0.0  0.0  0.0  0.0  0.0  …  0.0  0.0  0.0  0.0  0.0  0.0  0.0\n",
       " 0.0  0.0  0.0  0.0  0.0  0.0  0.0  0.0     0.0  0.0  0.0  0.0  0.0  0.0  0.0\n",
       " 0.0  0.0  0.0  0.0  0.0  0.0  0.0  0.0     0.0  0.0  0.0  0.0  0.0  0.0  0.0\n",
       " 0.0  0.0  0.0  0.0  0.0  0.0  0.0  0.0     0.0  0.0  0.0  0.0  0.0  0.0  0.0\n",
       " 0.0  0.0  0.0  0.0  0.0  0.0  0.0  0.0     0.0  0.0  0.0  0.0  0.0  0.0  0.0\n",
       " 0.0  0.0  0.0  0.0  0.0  0.0  0.0  0.0  …  0.0  0.0  0.0  0.0  0.0  0.0  0.0\n",
       " 0.0  0.0  0.0  0.0  0.0  0.0  0.0  0.0     0.0  0.0  0.0  0.0  0.0  0.0  0.0\n",
       " 0.0  0.0  0.0  0.0  0.0  0.0  0.0  0.0     0.0  0.0  0.0  0.0  0.0  0.0  0.0\n",
       " 0.0  0.0  0.0  0.0  0.0  0.0  0.0  0.0     0.0  0.0  0.0  0.0  0.0  0.0  0.0\n",
       " 0.0  0.0  0.0  0.0  0.0  0.0  0.0  0.0     0.0  0.0  0.0  0.0  0.0  0.0  0.0\n",
       " 0.0  0.0  0.0  0.0  0.0  0.0  0.0  0.0  …  0.0  0.0  0.0  0.0  0.0  0.0  0.0\n",
       " 0.0  0.0  0.0  0.0  0.0  0.0  0.0  0.0     0.0  0.0  0.0  0.0  0.0  0.0  0.0\n",
       " 0.0  0.0  0.0  0.0  0.0  0.0  0.0  0.0     0.0  0.0  0.0  0.0  0.0  0.0  0.0\n",
       " ⋮                        ⋮              ⋱  ⋮                        ⋮    \n",
       " 0.0  0.0  0.0  0.0  0.0  0.0  0.0  0.0  …  0.0  0.0  0.0  0.0  0.0  0.0  0.0\n",
       " 0.0  0.0  0.0  0.0  0.0  0.0  0.0  0.0     0.0  0.0  0.0  0.0  0.0  0.0  0.0\n",
       " 0.0  0.0  0.0  0.0  0.0  0.0  0.0  0.0     0.0  0.0  0.0  0.0  0.0  0.0  0.0\n",
       " 0.0  0.0  0.0  0.0  0.0  0.0  0.0  0.0     0.0  0.0  0.0  0.0  0.0  0.0  0.0\n",
       " 0.0  0.0  0.0  0.0  0.0  0.0  0.0  0.0     0.0  0.0  0.0  0.0  0.0  0.0  0.0\n",
       " 0.0  0.0  0.0  0.0  0.0  0.0  0.0  0.0  …  0.0  0.0  0.0  0.0  0.0  0.0  0.0\n",
       " 0.0  0.0  0.0  0.0  0.0  0.0  0.0  0.0     0.0  0.0  0.0  0.0  0.0  0.0  0.0\n",
       " 0.0  0.0  0.0  0.0  0.0  0.0  0.0  0.0     0.0  0.0  0.0  0.0  0.0  0.0  0.0\n",
       " 0.0  0.0  0.0  0.0  0.0  0.0  0.0  0.0     0.0  0.0  0.0  0.0  0.0  0.0  0.0\n",
       " 0.0  0.0  0.0  0.0  0.0  0.0  0.0  0.0     0.0  0.0  0.0  0.0  0.0  0.0  0.0\n",
       " 0.0  0.0  0.0  0.0  0.0  0.0  0.0  0.0  …  0.0  0.0  0.0  0.0  0.0  0.0  0.0\n",
       " 0.0  0.0  0.0  0.0  0.0  0.0  0.0  0.0     0.0  0.0  0.0  0.0  0.0  0.0  0.0"
      ]
     },
     "execution_count": 4,
     "metadata": {},
     "output_type": "execute_result"
    }
   ],
   "source": [
    "adj = makeadj(mmread(fname))"
   ]
  },
  {
   "cell_type": "code",
   "execution_count": 5,
   "id": "f50d0acf",
   "metadata": {},
   "outputs": [
    {
     "data": {
      "text/plain": [
       "{192, 256} undirected simple Int64 graph"
      ]
     },
     "execution_count": 5,
     "metadata": {},
     "output_type": "execute_result"
    }
   ],
   "source": [
    "G = SimpleGraph(adj)"
   ]
  },
  {
   "cell_type": "code",
   "execution_count": 6,
   "id": "4b0383aa",
   "metadata": {},
   "outputs": [
    {
     "data": {
      "text/plain": [
       "(compat_sweeps = 10, stride_percent = 0.5, gauss_sweeps = 10, coarsening = VolumeCoarsening(0.4, 2.0, 5), coarsest = 10, pad_percent = 0.05, node_window_sweeps = 10, node_window_size = 1, seed = 0)"
      ]
     },
     "execution_count": 6,
     "metadata": {},
     "output_type": "execute_result"
    }
   ],
   "source": [
    "config = ( \n",
    "            compat_sweeps = 10,\n",
    "            stride_percent = 0.5, \n",
    "            gauss_sweeps = 10, \n",
    "            coarsening = VolumeCoarsening(0.4, 2.0, 5),\n",
    "            coarsest = 10,\n",
    "            pad_percent = 0.05, \n",
    "            node_window_sweeps = 10, \n",
    "            node_window_size = 1,\n",
    "            seed = 0\n",
    ")"
   ]
  },
  {
   "cell_type": "code",
   "execution_count": 7,
   "id": "b1f6efa5",
   "metadata": {},
   "outputs": [
    {
     "data": {
      "text/plain": [
       "PSum(1)"
      ]
     },
     "execution_count": 7,
     "metadata": {},
     "output_type": "execute_result"
    }
   ],
   "source": [
    "onesum = PSum(1)"
   ]
  },
  {
   "cell_type": "code",
   "execution_count": 8,
   "id": "e853b0e9",
   "metadata": {},
   "outputs": [
    {
     "data": {
      "text/plain": [
       "profileme (generic function with 1 method)"
      ]
     },
     "execution_count": 8,
     "metadata": {},
     "output_type": "execute_result"
    }
   ],
   "source": [
    "function profileme()\n",
    "    position_to_idx, idx_to_position = ordergraph(onesum, G; config...);\n",
    "    onesumval = LinearOrdering.evalorder(onesum, adjacency_matrix(G), idx_to_position)\n",
    "    cost, _ = recursive_width(adjacency_matrix(G), position_to_idx, idx_to_position; flops = true)\n",
    "end "
   ]
  },
  {
   "cell_type": "code",
   "execution_count": null,
   "id": "77bad828",
   "metadata": {},
   "outputs": [],
   "source": [
    "prif"
   ]
  }
 ],
 "metadata": {
  "kernelspec": {
   "display_name": "Julia 1.7.3",
   "language": "julia",
   "name": "julia-1.7"
  },
  "language_info": {
   "file_extension": ".jl",
   "mimetype": "application/julia",
   "name": "julia",
   "version": "1.7.3"
  }
 },
 "nbformat": 4,
 "nbformat_minor": 5
}
