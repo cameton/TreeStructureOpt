{
 "cells": [
  {
   "cell_type": "code",
   "execution_count": null,
   "id": "f6437b49",
   "metadata": {},
   "outputs": [],
   "source": [
    "import Pkg; Pkg.activate(\".\")"
   ]
  },
  {
   "cell_type": "code",
   "execution_count": null,
   "id": "038ba81b",
   "metadata": {},
   "outputs": [],
   "source": [
    "using Revise, Graphs, Coarsening, MatrixMarket, Random, SparseArrays, GraphIO, DataStructures"
   ]
  },
  {
   "cell_type": "code",
   "execution_count": null,
   "id": "ccb8fc58",
   "metadata": {},
   "outputs": [],
   "source": [
    "using LinearOrdering"
   ]
  },
  {
   "cell_type": "code",
   "execution_count": null,
   "id": "1d07db75",
   "metadata": {},
   "outputs": [],
   "source": [
    "includet(\"./dynamictreewidth.jl\")"
   ]
  },
  {
   "cell_type": "code",
   "execution_count": null,
   "id": "ac08f274",
   "metadata": {},
   "outputs": [],
   "source": [
    "onesum = PSum(1)\n",
    "twosum = PSum(2)"
   ]
  },
  {
   "cell_type": "code",
   "execution_count": null,
   "id": "636bbed6",
   "metadata": {},
   "outputs": [],
   "source": [
    "config = (\n",
    "    windowsizes= [5, 10, 15, 20, 25, 30],\n",
    "    compat_sweeps=10,\n",
    "    window_sweeps = 10,\n",
    "    stride_percent=0.5,\n",
    "    gauss_sweeps=10,\n",
    "    coarsening=VolumeCoarsening(0.4, 2.0, 1),\n",
    "    coarsest=10, \n",
    "    pad_percent=0.05, \n",
    "    node_window_size=10,\n",
    "    seed = 20\n",
    ")"
   ]
  },
  {
   "cell_type": "code",
   "execution_count": null,
   "id": "a5ef51d6",
   "metadata": {},
   "outputs": [],
   "source": [
    "onesumgraphs = (\n",
    "    grid4 = grid([4, 4]),\n",
    "    grid33 = grid([33, 33]),\n",
    "    mesh100 = grid([100, 100]),\n",
    "    bintree10 = binary_tree(10)\n",
    ")\n",
    "onesumoptima = (\n",
    "    grid33 = 31680,\n",
    "    mesh100 = 868820,\n",
    "    bintree10 = 3696\n",
    ")\n",
    "twosumgraphs = (\n",
    "    bintree10 = binary_tree(10),\n",
    "    jagmesh = SimpleGraph(mmread(\"./jagmesh9.mtx\"))\n",
    ")\n",
    "twosumoptima = (\n",
    "    bintree10 = 8.85 * 10 ^ 4,\n",
    "    jagmesh=1.1 * 010 ^ 6\n",
    ")"
   ]
  },
  {
   "cell_type": "code",
   "execution_count": null,
   "id": "96856690",
   "metadata": {},
   "outputs": [],
   "source": [
    "jagA = mmread(\"./jagmesh9.mtx\")\n",
    "fix_adjacency!(jagA)\n",
    "dropzeros!(jagA)\n",
    "jag = SimpleGraph(jagA)\n",
    "# G = SimpleGraph(loadgraph(\"./add20.rmf\", \"graph_key\", EdgeListFormat()))\n",
    "# G = grid([4, 4])\n",
    "# G = SimpleGraph(makeadj(mmread(\"./graphs/regular3_16_2.mtx\")))"
   ]
  },
  {
   "cell_type": "code",
   "execution_count": null,
   "id": "a7bc6c85",
   "metadata": {},
   "outputs": [],
   "source": [
    "bus = mmread(\"./graphs/685_bus.mtx\")\n",
    "fix_adjacency!(bus)\n",
    "dropzeros!(bus)\n",
    "bus = SimpleGraph(bus)"
   ]
  },
  {
   "cell_type": "code",
   "execution_count": null,
   "id": "d20f211d",
   "metadata": {},
   "outputs": [],
   "source": [
    "GDA = mmread(\"./graphs/GD96_d.mtx\")\n",
    "GDA = 1.0 * ((GDA .+ GDA') .!= 0)\n",
    "fix_adjacency!(GDA)\n",
    "dropzeros!(GDA)\n",
    "GD = SimpleGraph(GDA)"
   ]
  },
  {
   "cell_type": "code",
   "execution_count": null,
   "id": "cfb70b59",
   "metadata": {},
   "outputs": [],
   "source": [
    "position_to_idx, idx_to_position = ordergraph(onesum, G; config...);"
   ]
  },
  {
   "cell_type": "code",
   "execution_count": null,
   "id": "a61b8715",
   "metadata": {},
   "outputs": [],
   "source": [
    "LinearOrdering.evalorder(onesum, adjacency_matrix(G), idx_to_position)"
   ]
  },
  {
   "cell_type": "code",
   "execution_count": null,
   "id": "a407818a",
   "metadata": {},
   "outputs": [],
   "source": [
    "adjacency_matrix(G)[position_to_idx, position_to_idx]"
   ]
  },
  {
   "cell_type": "markdown",
   "id": "48b24de0",
   "metadata": {},
   "source": [
    "# Issues Remaining\n",
    "- Something is wrong with compatible relaxations & uncoarsening\n",
    "- Diagnose why coarse edge weights < 1 for r > 1\n",
    "- Window minimization rarely (if ever) accepts changes\n",
    "- Test two level problem (size 20 graph)\n",
    "    - Disable window min, use node by node\n",
    "    - Test w/o smoothing or coarsening\n",
    "- Why does it seem like our solutions are random at each level?"
   ]
  },
  {
   "cell_type": "code",
   "execution_count": null,
   "id": "adbcd365",
   "metadata": {},
   "outputs": [],
   "source": [
    "using DataStructures"
   ]
  },
  {
   "cell_type": "code",
   "execution_count": null,
   "id": "a5b0928c",
   "metadata": {},
   "outputs": [],
   "source": [
    "includet(\"./dynamictreewidth.jl\")"
   ]
  },
  {
   "cell_type": "code",
   "execution_count": null,
   "id": "bfb4bc64",
   "metadata": {},
   "outputs": [],
   "source": [
    "import QXGraphDecompositions"
   ]
  },
  {
   "cell_type": "code",
   "execution_count": null,
   "id": "61c4940a",
   "metadata": {},
   "outputs": [],
   "source": [
    "config = (\n",
    "    windowsizes= [5, 10, 15, 20, 25, 30],\n",
    "    compat_sweeps=10,\n",
    "    window_sweeps = 10,\n",
    "    stride_percent=0.5,\n",
    "    gauss_sweeps=10,\n",
    "    coarsening=VolumeCoarsening(0.4, 2.0, 1),\n",
    "    coarsest=10, \n",
    "    pad_percent=0.05, \n",
    "    node_window_sweeps=10,\n",
    "    node_window_size=10,\n",
    "    seed = 11\n",
    ")"
   ]
  },
  {
   "cell_type": "code",
   "execution_count": null,
   "id": "d353d3bc",
   "metadata": {},
   "outputs": [],
   "source": [
    "# circuitfiles = [\n",
    "#         \"./graphs/regular3_32_2.mtx\",\n",
    "#         \"./graphs/regular3_32_3.mtx\",\n",
    "#         \"./graphs/regular3_32_4.mtx\",\n",
    "#         \"./graphs/regular3_32_5.mtx\",\n",
    "#         \"./graphs/regular4_32_2.mtx\",\n",
    "#         \"./graphs/regular4_32_3.mtx\",\n",
    "#         \"./graphs/regular4_32_4.mtx\",\n",
    "#         \"./graphs/regular4_32_5.mtx\",\n",
    "#         \"./graphs/regular5_32_2.mtx\",\n",
    "#         \"./graphs/regular5_32_3.mtx\",\n",
    "#         \"./graphs/regular5_32_4.mtx\",\n",
    "#         \"./graphs/regular5_32_5.mtx\",\n",
    "#         ]\n",
    "circuitfiles = [\n",
    "    \"./graphs/regular$(d)_32_$(p)_$(seed).mtx\" for d in 3:5 for p in 2:5 for seed in 0:9\n",
    "];"
   ]
  },
  {
   "cell_type": "code",
   "execution_count": null,
   "id": "cd28a970",
   "metadata": {},
   "outputs": [],
   "source": [
    "circuitadj = makeadj.(mmread.(circuitfiles));"
   ]
  },
  {
   "cell_type": "code",
   "execution_count": null,
   "id": "b76fa0b5",
   "metadata": {},
   "outputs": [],
   "source": [
    "circuits = SimpleGraph.(circuitadj);"
   ]
  },
  {
   "cell_type": "code",
   "execution_count": null,
   "id": "12bb66f1",
   "metadata": {},
   "outputs": [],
   "source": [
    "check1, check2 = circuits[8], circuits[12]"
   ]
  },
  {
   "cell_type": "code",
   "execution_count": null,
   "id": "2eeb954b",
   "metadata": {},
   "outputs": [],
   "source": [
    "diameter(check1)"
   ]
  },
  {
   "cell_type": "code",
   "execution_count": null,
   "id": "f937505e",
   "metadata": {},
   "outputs": [],
   "source": [
    "diameter(check2)"
   ]
  },
  {
   "cell_type": "code",
   "execution_count": null,
   "id": "6e766347",
   "metadata": {},
   "outputs": [],
   "source": [
    "diameter(jag)"
   ]
  },
  {
   "cell_type": "code",
   "execution_count": null,
   "id": "ee1371ee",
   "metadata": {},
   "outputs": [],
   "source": [
    "diameter.(circuits)"
   ]
  },
  {
   "cell_type": "code",
   "execution_count": null,
   "id": "71c90853",
   "metadata": {},
   "outputs": [],
   "source": [
    "G = circuits[6]"
   ]
  },
  {
   "cell_type": "code",
   "execution_count": null,
   "id": "cda2eb1e",
   "metadata": {},
   "outputs": [],
   "source": [
    "position_to_idx, idx_to_position = ordergraph(onesum, G; config...);"
   ]
  },
  {
   "cell_type": "code",
   "execution_count": null,
   "id": "840a13e0",
   "metadata": {},
   "outputs": [],
   "source": [
    "using Logging"
   ]
  },
  {
   "cell_type": "code",
   "execution_count": null,
   "id": "737378ba",
   "metadata": {},
   "outputs": [],
   "source": []
  },
  {
   "cell_type": "code",
   "execution_count": null,
   "id": "b361f891",
   "metadata": {},
   "outputs": [],
   "source": [
    "# io = open(\"./tw_variance.csv\", \"w\")\n",
    "# write(io, \"Name,V,E,Flowcutter,OneSumVal,TW\\n\")\n",
    "results = []\n",
    "# with_logger(ConsoleLogger(stderr, Logging.Debug)) do\n",
    "    @showprogress 1 \"Graph...\" for (q, G) in enumerate(circuits)\n",
    "        # fc = QXGraphDecompositions.flow_cutter(tolight((G)), 5)\n",
    "        # fctw = fc[:treewidth]\n",
    "        besttw = Inf\n",
    "        bestonesumval = Inf\n",
    "        @showprogress 1 \"Order...\" for r in 5\n",
    "            @showprogress 1 \"Seed...\" for i in 1:20\n",
    "                config = (\n",
    "                    compat_sweeps=10,\n",
    "                    stride_percent=0.5,\n",
    "                    gauss_sweeps=10,\n",
    "                    coarsening=VolumeCoarsening(0.4, 2.0, r),\n",
    "                    coarsest=10, \n",
    "                    pad_percent=0.05, \n",
    "                    node_window_sweeps=10,\n",
    "                    node_window_size=1,\n",
    "                    seed = i\n",
    "                )\n",
    "                position_to_idx, idx_to_position = ordergraph(onesum, G; config...);\n",
    "                onesumval = LinearOrdering.evalorder(onesum, adjacency_matrix(G), idx_to_position)\n",
    "                # td = order_width(G, position_to_idx, idx_to_position);\n",
    "                tw, _ = recursive_width(adjacency_matrix(G), position_to_idx, idx_to_position)\n",
    "                if tw <= besttw\n",
    "                    besttw = tw\n",
    "                    bestonesumval = onesumval\n",
    "                end\n",
    "                # ok = check_td(vectorize_decomp(td)..., G)[1];\n",
    "            end                \n",
    "\n",
    "        end            \n",
    "        # write(io, \"$(circuitfiles[q]),$(nv(G)),$(ne(G)),$(fctw),$bestonesumval,$(besttw - 1)\\n\")\n",
    "        # flush(io)\n",
    "    end\n",
    "# end\n",
    "close(io)"
   ]
  },
  {
   "cell_type": "code",
   "execution_count": null,
   "id": "99c7826b",
   "metadata": {},
   "outputs": [],
   "source": [
    "config = (\n",
    "    compat_sweeps=10,\n",
    "    stride_percent=0.5,\n",
    "    gauss_sweeps=10,\n",
    "    coarsening=VolumeCoarsening(0.4, 2.0, 5),\n",
    "    coarsest=10, \n",
    "    pad_percent=0.05, \n",
    "    node_window_sweeps=10,\n",
    "    node_window_size=1,\n",
    "    seed = 1\n",
    ")\n",
    "position_to_idx, idx_to_position = ordergraph(onesum, bus; config...);"
   ]
  },
  {
   "cell_type": "code",
   "execution_count": null,
   "id": "f569aee2",
   "metadata": {},
   "outputs": [],
   "source": [
    "adjacency_matrix(bus)[position_to_idx, position_to_idx]"
   ]
  },
  {
   "cell_type": "code",
   "execution_count": null,
   "id": "72c888a2",
   "metadata": {},
   "outputs": [],
   "source": []
  },
  {
   "cell_type": "code",
   "execution_count": null,
   "id": "e296c7d0",
   "metadata": {},
   "outputs": [],
   "source": [
    "rem_vertex!(jag, 609)"
   ]
  },
  {
   "cell_type": "code",
   "execution_count": null,
   "id": "9e675d20",
   "metadata": {},
   "outputs": [],
   "source": [
    "Revise.retry()"
   ]
  },
  {
   "cell_type": "code",
   "execution_count": null,
   "id": "c8e9cf25",
   "metadata": {},
   "outputs": [],
   "source": []
  },
  {
   "cell_type": "code",
   "execution_count": null,
   "id": "7164ff85",
   "metadata": {},
   "outputs": [],
   "source": []
  },
  {
   "cell_type": "code",
   "execution_count": null,
   "id": "94fd64e8",
   "metadata": {},
   "outputs": [],
   "source": [
    "rem_vertex!(jag, 1)\n",
    "adjacency_matrix(jag)"
   ]
  },
  {
   "cell_type": "code",
   "execution_count": null,
   "id": "2d6f0e1c",
   "metadata": {},
   "outputs": [],
   "source": [
    "using Statistics"
   ]
  },
  {
   "cell_type": "code",
   "execution_count": null,
   "id": "ea44a144",
   "metadata": {},
   "outputs": [],
   "source": [
    "minimum(results)"
   ]
  },
  {
   "cell_type": "code",
   "execution_count": null,
   "id": "5f66fe27",
   "metadata": {},
   "outputs": [],
   "source": [
    "median(results)"
   ]
  },
  {
   "cell_type": "code",
   "execution_count": null,
   "id": "b901f0b3",
   "metadata": {},
   "outputs": [],
   "source": [
    "std(results)"
   ]
  },
  {
   "cell_type": "code",
   "execution_count": null,
   "id": "7c1a162d",
   "metadata": {},
   "outputs": [],
   "source": [
    "maximum(results)"
   ]
  },
  {
   "cell_type": "code",
   "execution_count": null,
   "id": "ae9c187a",
   "metadata": {},
   "outputs": [],
   "source": [
    "argmax(results)"
   ]
  },
  {
   "cell_type": "code",
   "execution_count": null,
   "id": "5839199d",
   "metadata": {},
   "outputs": [],
   "source": [
    "results"
   ]
  },
  {
   "cell_type": "code",
   "execution_count": null,
   "id": "7c760a60",
   "metadata": {},
   "outputs": [],
   "source": [
    "td = order_width(G, position_to_idx, idx_to_position);"
   ]
  },
  {
   "cell_type": "code",
   "execution_count": null,
   "id": "b09725d2",
   "metadata": {},
   "outputs": [],
   "source": [
    "bags, tree = vectorize_decomp(td);"
   ]
  },
  {
   "cell_type": "code",
   "execution_count": null,
   "id": "0a761599",
   "metadata": {},
   "outputs": [],
   "source": [
    "maximum(length, bags)"
   ]
  },
  {
   "cell_type": "code",
   "execution_count": null,
   "id": "c351ac15",
   "metadata": {},
   "outputs": [],
   "source": [
    "tree"
   ]
  },
  {
   "cell_type": "code",
   "execution_count": null,
   "id": "8063bdba",
   "metadata": {},
   "outputs": [],
   "source": [
    "check_td(bags, tree, G)"
   ]
  },
  {
   "cell_type": "code",
   "execution_count": null,
   "id": "4df55d28",
   "metadata": {},
   "outputs": [],
   "source": [
    "import QXGraphDecompositions"
   ]
  },
  {
   "cell_type": "code",
   "execution_count": null,
   "id": "397b982a",
   "metadata": {},
   "outputs": [],
   "source": [
    "teststst(circuitfiles)"
   ]
  },
  {
   "cell_type": "code",
   "execution_count": null,
   "id": "a5ee85e2",
   "metadata": {},
   "outputs": [],
   "source": [
    "using ProgressMeter"
   ]
  },
  {
   "cell_type": "code",
   "execution_count": null,
   "id": "0129e549",
   "metadata": {},
   "outputs": [],
   "source": [
    "function teststst(files)\n",
    "    println(\"Name | #V | #E | Diameter | FlowcutterTW | OneSumValue | OneSumTW | OneSumOK | TwoSumValue | TwoSumTW | TwoSumOK\")\n",
    "    @showprogress 1 \"Computing...\" for file in files\n",
    "        B = mmread(file)\n",
    "        testst(file, B)\n",
    "    end\n",
    "end"
   ]
  },
  {
   "cell_type": "code",
   "execution_count": null,
   "id": "272fea49",
   "metadata": {},
   "outputs": [],
   "source": [
    "function testst(file, B)\n",
    "    circuit = SimpleGraph(makeadj(B))\n",
    "    td = QXGraphDecompositions.flow_cutter(tolight((circuit)), 1)\n",
    "    position_to_idx1, idx_to_position1 = ordergraph(onesum, circuit; config...);\n",
    "    position_to_idx2, idx_to_position2 = ordergraph(twosum, circuit; config...);\n",
    "    oneval = LinearOrdering.evalorder(onesum, adjacency_matrix(circuit), idx_to_position1)\n",
    "    twoval = LinearOrdering.evalorder(twosum, adjacency_matrix(circuit), idx_to_position2)\n",
    "    td1 = order_width((circuit), position_to_idx1, idx_to_position1);\n",
    "    td2 = order_width((circuit), position_to_idx2, idx_to_position2);\n",
    "    ok1 = check_td(vectorize_decomp(td1)..., circuit)[1];\n",
    "    ok2 = check_td(vectorize_decomp(td2)..., circuit)[1];\n",
    "    println(\"$file | $(nv(circuit)) | $(ne(circuit)) | $(diameter(circuit)) | $(td[:treewidth]) | $oneval | $(td1.width - 1) | $ok1 | $twoval | $(td2.width - 1) | $ok2\")\n",
    "end"
   ]
  },
  {
   "cell_type": "code",
   "execution_count": null,
   "id": "66abebe8",
   "metadata": {},
   "outputs": [],
   "source": [
    "td = QXGraphDecompositions.flow_cutter(tolight((circuit)), 10);"
   ]
  },
  {
   "cell_type": "code",
   "execution_count": null,
   "id": "e4f467b1",
   "metadata": {},
   "outputs": [],
   "source": [
    "td[:treewidth]"
   ]
  },
  {
   "cell_type": "code",
   "execution_count": null,
   "id": "eb5e40a9",
   "metadata": {},
   "outputs": [],
   "source": [
    "compare([circuit])"
   ]
  },
  {
   "cell_type": "code",
   "execution_count": null,
   "id": "d87c473b",
   "metadata": {},
   "outputs": [],
   "source": [
    "using DataFrames, Plots, CSV, StatsPlots"
   ]
  },
  {
   "cell_type": "code",
   "execution_count": null,
   "id": "b72d5833",
   "metadata": {},
   "outputs": [],
   "source": [
    "df = DataFrame(CSV.File(\"./tw_variance.csv\"));"
   ]
  },
  {
   "cell_type": "code",
   "execution_count": null,
   "id": "69d2a656",
   "metadata": {},
   "outputs": [],
   "source": [
    "names(df)"
   ]
  },
  {
   "cell_type": "code",
   "execution_count": null,
   "id": "5378d09d",
   "metadata": {},
   "outputs": [],
   "source": [
    "gdf = groupby(df, :Name);"
   ]
  },
  {
   "cell_type": "code",
   "execution_count": null,
   "id": "fc460fb4",
   "metadata": {},
   "outputs": [],
   "source": [
    "df"
   ]
  },
  {
   "cell_type": "code",
   "execution_count": null,
   "id": "01130d77",
   "metadata": {},
   "outputs": [],
   "source": [
    "cgdf = combine(gdf, :Flowcutter => minimum, :TW=> minimum)"
   ]
  },
  {
   "cell_type": "code",
   "execution_count": null,
   "id": "2288b6f9",
   "metadata": {},
   "outputs": [],
   "source": [
    "@df cgdf groupedbar([:Flowcutter_minimum :TW_minimum], bar_position =:dodge, xlabel=\"Graphs\", ylabel=\"Width\", bar_width=0.4)"
   ]
  },
  {
   "cell_type": "code",
   "execution_count": null,
   "id": "4d6ded1c",
   "metadata": {},
   "outputs": [],
   "source": [
    "for subdf in groupby(df, [:Name, :Order])\n",
    "    l = @layout [a b]\n",
    "    p1 = @df subdf histogram(:OneSumVal, legend=false)\n",
    "    p2 = @df subdf bar(\n",
    "        unique(:TW), \n",
    "        [count(==(e), :TW) for e in unique(:TW)];\n",
    "        legend = false, xlabel=\"One Sum Value\"\n",
    "    )\n",
    "    @df subdf bar!(p2, \n",
    "        [minimum(:Flowcutter)], [count(==(minimum(:Flowcutter)), :TW)];\n",
    "        color = :red, legend=false, xlabel = \"Order Width\", title=\"r = $(subdf.Order[1])\"\n",
    "    )\n",
    "    display(plot(p1, p2; layout = l, size=(700, 200)))\n",
    "end"
   ]
  },
  {
   "cell_type": "code",
   "execution_count": null,
   "id": "a2fbfb02",
   "metadata": {},
   "outputs": [],
   "source": [
    "for subdf in gdf\n",
    "    display(@df subdf scatter(:OneSumVal, :TW; size=(300, 300), legend=false, title=subdf.Name[1]))\n",
    "end"
   ]
  },
  {
   "cell_type": "code",
   "execution_count": null,
   "id": "287b7f35",
   "metadata": {},
   "outputs": [],
   "source": [
    "function write_gr(filepath, graph)\n",
    "    io = open(filepath, \"w\")\n",
    "    write(io, \"p tw $(nv(graph)) $(ne(graph))\\n\")\n",
    "    for e in edges(graph)\n",
    "        write(io, \"$(e.src) $(e.dst)\\n\")\n",
    "    end\n",
    "    close(io)\n",
    "end"
   ]
  },
  {
   "cell_type": "code",
   "execution_count": null,
   "id": "5e6da0fa",
   "metadata": {},
   "outputs": [],
   "source": [
    "for (name, graph) in Iterators.zip(circuitfiles, circuits)\n",
    "    path, _ = splitext(name)\n",
    "    path = path * \".gr\"\n",
    "    line = linegraph(graph)\n",
    "    write_gr(path, line)\n",
    "end"
   ]
  },
  {
   "cell_type": "code",
   "execution_count": null,
   "id": "c02a4e74",
   "metadata": {},
   "outputs": [],
   "source": [
    "tam_log = readlines(\"./tamaki_widths.log\");"
   ]
  },
  {
   "cell_type": "code",
   "execution_count": null,
   "id": "99c60cca",
   "metadata": {},
   "outputs": [],
   "source": [
    "count(startswith.(tam_log, '/'))"
   ]
  },
  {
   "cell_type": "code",
   "execution_count": null,
   "id": "c1a1bbf6",
   "metadata": {},
   "outputs": [],
   "source": [
    "using DataFrames"
   ]
  },
  {
   "cell_type": "code",
   "execution_count": null,
   "id": "1455ec36",
   "metadata": {},
   "outputs": [],
   "source": [
    "idx = 1\n",
    "rows = []\n",
    "parseint(s) = parse(Int, join(collect(Iterators.filter(isnumeric, s))))\n",
    "while idx < length(tam_log)\n",
    "    name = tam_log[idx]\n",
    "    idx += 2\n",
    "    while idx <= length(tam_log) && startswith(tam_log[idx], 'c')\n",
    "        row = (name, parseint(tam_log[idx]), parseint(tam_log[idx+1]))\n",
    "        push!(rows, row)\n",
    "        idx += 2\n",
    "    end\n",
    "end\n",
    "tamaki_df = DataFrame(rows);"
   ]
  },
  {
   "cell_type": "code",
   "execution_count": null,
   "id": "bf5c3b19",
   "metadata": {},
   "outputs": [],
   "source": [
    "getwidthsdf(df, s) = combine(groupby(filter(:3 => x -> x < s, df), :1), :2 => minimum)[!, Symbol(\"2_minimum\")];"
   ]
  },
  {
   "cell_type": "code",
   "execution_count": null,
   "id": "cd48d973",
   "metadata": {},
   "outputs": [],
   "source": [
    "for v in tw5s\n",
    "    println(v)\n",
    "end"
   ]
  },
  {
   "cell_type": "code",
   "execution_count": null,
   "id": "7a60a123",
   "metadata": {},
   "outputs": [],
   "source": [
    "using TickTock"
   ]
  },
  {
   "cell_type": "code",
   "execution_count": null,
   "id": "23dcad02",
   "metadata": {},
   "outputs": [],
   "source": [
    "rowscost = []\n",
    "@showprogress 1 \"Graph...\" for (name, G) in Iterators.zip(circuitfiles, circuits)\n",
    "    bestcost = Inf\n",
    "    tick()\n",
    "    @showprogress 1 \"Seed...\" for i in 1:50\n",
    "        config = (\n",
    "            compat_sweeps=10,\n",
    "            stride_percent=0.5,\n",
    "            gauss_sweeps=10,\n",
    "            coarsening=VolumeCoarsening(0.4, 2.0, 5),\n",
    "            coarsest=10, \n",
    "            pad_percent=0.05, \n",
    "            node_window_sweeps=10,\n",
    "            node_window_size=1,\n",
    "            seed = i\n",
    "        )\n",
    "        position_to_idx, idx_to_position = ordergraph(onesum, G; config...);\n",
    "        onesumval = LinearOrdering.evalorder(onesum, adjacency_matrix(G), idx_to_position)\n",
    "        cost, _ = recursive_width(adjacency_matrix(G), position_to_idx, idx_to_position; flops=true)\n",
    "        t = peektimer()\n",
    "        if cost <= bestcost\n",
    "            bestcost = cost\n",
    "            push!(rowscost, (name, bestcost, t))\n",
    "        end\n",
    "        if t >= 10\n",
    "            break\n",
    "        end\n",
    "    end    \n",
    "    tok()\n",
    "end"
   ]
  },
  {
   "cell_type": "code",
   "execution_count": null,
   "id": "391d2cda",
   "metadata": {},
   "outputs": [],
   "source": [
    "using DataFrames"
   ]
  },
  {
   "cell_type": "code",
   "execution_count": null,
   "id": "8b1c592e",
   "metadata": {},
   "outputs": [],
   "source": [
    "order_df = DataFrame(rowscost)"
   ]
  },
  {
   "cell_type": "code",
   "execution_count": null,
   "id": "6f75bd5a",
   "metadata": {},
   "outputs": [],
   "source": [
    "order_df = DataFrame(rowscw)"
   ]
  },
  {
   "cell_type": "code",
   "execution_count": null,
   "id": "ec0883d9",
   "metadata": {},
   "outputs": [],
   "source": [
    "for v in getwidthsdf(order_df, 10)\n",
    "    println(v)\n",
    "end"
   ]
  },
  {
   "cell_type": "code",
   "execution_count": null,
   "id": "8fffdb4a",
   "metadata": {},
   "outputs": [],
   "source": [
    "path = [(116, 141),\n",
    " (176, 190),\n",
    " (50, 84),\n",
    " (18, 188),\n",
    " (186, 187),\n",
    " (49, 76),\n",
    " (18, 185),\n",
    " (104, 133),\n",
    " (168, 183),\n",
    " (181, 182),\n",
    " (180, 181),\n",
    " (52, 88),\n",
    " (22, 179),\n",
    " (115, 124),\n",
    " (167, 177),\n",
    " (175, 176),\n",
    " (94, 130),\n",
    " (157, 174),\n",
    " (43, 65),\n",
    " (14, 172),\n",
    " (170, 171),\n",
    " (169, 170),\n",
    " (168, 169),\n",
    " (41, 57),\n",
    " (13, 167),\n",
    " (47, 54),\n",
    " (20, 165),\n",
    " (163, 164),\n",
    " (39, 77),\n",
    " (13, 162),\n",
    " (160, 161),\n",
    " (102, 116),\n",
    " (143, 159),\n",
    " (76, 115),\n",
    " (140, 157),\n",
    " (155, 156),\n",
    " (75, 107),\n",
    " (144, 154),\n",
    " (152, 153),\n",
    " (151, 152),\n",
    " (150, 151),\n",
    " (99, 120),\n",
    " (127, 149),\n",
    " (82, 102),\n",
    " (141, 147),\n",
    " (145, 146),\n",
    " (46, 57),\n",
    " (21, 144),\n",
    " (28, 71),\n",
    " (4, 142),\n",
    " (140, 141),\n",
    " (139, 140),\n",
    " (138, 139),\n",
    " (31, 68),\n",
    " (8, 137),\n",
    " (24, 46),\n",
    " (2, 135),\n",
    " (133, 134),\n",
    " (65, 106),\n",
    " (109, 132),\n",
    " (84, 99),\n",
    " (112, 130),\n",
    " (128, 129),\n",
    " (127, 128),\n",
    " (126, 127),\n",
    " (65, 103),\n",
    " (104, 125),\n",
    " (22, 44),\n",
    " (1, 123),\n",
    " (121, 122),\n",
    " (120, 121),\n",
    " (73, 97),\n",
    " (100, 119),\n",
    " (64, 95),\n",
    " (98, 117),\n",
    " (115, 116),\n",
    " (22, 53),\n",
    " (2, 114),\n",
    " (21, 42),\n",
    " (2, 112),\n",
    " (110, 111),\n",
    " (109, 110),\n",
    " (108, 109),\n",
    " (28, 43),\n",
    " (10, 107),\n",
    " (20, 41),\n",
    " (3, 105),\n",
    " (103, 104),\n",
    " (19, 38),\n",
    " (3, 102),\n",
    " (51, 76),\n",
    " (83, 100),\n",
    " (98, 99),\n",
    " (97, 98),\n",
    " (51, 69),\n",
    " (86, 96),\n",
    " (51, 73),\n",
    " (78, 94),\n",
    " (92, 93),\n",
    " (91, 92),\n",
    " (51, 74),\n",
    " (73, 90),\n",
    " (0, 15),\n",
    " (34, 88),\n",
    " (86, 87),\n",
    " (85, 86),\n",
    " (46, 57),\n",
    " (80, 84),\n",
    " (26, 32),\n",
    " (12, 82),\n",
    " (80, 81),\n",
    " (48, 63),\n",
    " (64, 79),\n",
    " (14, 35),\n",
    " (1, 77),\n",
    " (75, 76),\n",
    " (74, 75),\n",
    " (13, 24),\n",
    " (1, 73),\n",
    " (71, 72),\n",
    " (44, 54),\n",
    " (57, 70),\n",
    " (33, 53),\n",
    " (54, 68),\n",
    " (66, 67),\n",
    " (65, 66),\n",
    " (64, 65),\n",
    " (12, 32),\n",
    " (1, 63),\n",
    " (11, 29),\n",
    " (1, 61),\n",
    " (59, 60),\n",
    " (36, 45),\n",
    " (46, 58),\n",
    " (56, 57),\n",
    " (55, 56),\n",
    " (54, 55),\n",
    " (15, 24),\n",
    " (6, 53),\n",
    " (30, 35),\n",
    " (46, 51),\n",
    " (49, 50),\n",
    " (30, 34),\n",
    " (43, 48),\n",
    " (13, 22),\n",
    " (5, 46),\n",
    " (44, 45),\n",
    " (43, 44),\n",
    " (42, 43),\n",
    " (11, 15),\n",
    " (4, 41),\n",
    " (7, 12),\n",
    " (1, 39),\n",
    " (37, 38),\n",
    " (5, 14),\n",
    " (0, 36),\n",
    " (4, 8),\n",
    " (0, 34),\n",
    " (32, 33),\n",
    " (31, 32),\n",
    " (10, 18),\n",
    " (25, 30),\n",
    " (14, 20),\n",
    " (19, 28),\n",
    " (26, 27),\n",
    " (10, 17),\n",
    " (18, 25),\n",
    " (9, 16),\n",
    " (15, 23),\n",
    " (21, 22),\n",
    " (20, 21),\n",
    " (19, 20),\n",
    " (18, 19),\n",
    " (11, 14),\n",
    " (13, 17),\n",
    " (9, 11),\n",
    " (12, 15),\n",
    " (13, 14),\n",
    " (5, 6),\n",
    " (2, 12),\n",
    " (2, 5),\n",
    " (0, 10),\n",
    " (8, 9),\n",
    " (7, 8),\n",
    " (6, 7),\n",
    " (3, 4),\n",
    " (3, 5),\n",
    " (1, 2),\n",
    " (0, 3),\n",
    " (1, 2),\n",
    " (0, 1)];"
   ]
  }
 ],
 "metadata": {
  "kernelspec": {
   "display_name": "Julia 1.7.0",
   "language": "julia",
   "name": "julia-1.7"
  },
  "language_info": {
   "file_extension": ".jl",
   "mimetype": "application/julia",
   "name": "julia",
   "version": "1.7.0"
  }
 },
 "nbformat": 4,
 "nbformat_minor": 5
}
