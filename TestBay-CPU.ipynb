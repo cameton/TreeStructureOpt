{
 "cells": [
  {
   "cell_type": "code",
   "execution_count": 1,
   "id": "c7c9e337",
   "metadata": {
    "scrolled": false
   },
   "outputs": [
    {
     "name": "stderr",
     "output_type": "stream",
     "text": [
      "\u001b[32m\u001b[1m  Activating\u001b[22m\u001b[39m new project at `~/Julia-QC/TreeStructureOpt`\n"
     ]
    }
   ],
   "source": [
    "import Pkg; Pkg.activate(\".\")"
   ]
  },
  {
   "cell_type": "code",
   "execution_count": 2,
   "id": "6dfea57a",
   "metadata": {
    "scrolled": false
   },
   "outputs": [],
   "source": [
    "using Revise, Graphs, Coarsening, MatrixMarket, Random, SparseArrays, GraphIO, DataStructures, Logging, LinearOrdering, Statistics, TickTock, DataFrames"
   ]
  },
  {
   "cell_type": "code",
   "execution_count": 3,
   "id": "1dc16937",
   "metadata": {
    "scrolled": true
   },
   "outputs": [],
   "source": [
    "includet(\"./cpu-parallel-dynamictreewidth.jl\")"
   ]
  },
  {
   "cell_type": "code",
   "execution_count": 4,
   "id": "2f525d9a",
   "metadata": {},
   "outputs": [
    {
     "data": {
      "text/plain": [
       "PSum(1)"
      ]
     },
     "execution_count": 4,
     "metadata": {},
     "output_type": "execute_result"
    }
   ],
   "source": [
    "onesum = PSum(1)"
   ]
  },
  {
   "cell_type": "code",
   "execution_count": 5,
   "id": "99424f64",
   "metadata": {},
   "outputs": [
    {
     "data": {
      "text/plain": [
       "PSum(2)"
      ]
     },
     "execution_count": 5,
     "metadata": {},
     "output_type": "execute_result"
    }
   ],
   "source": [
    "twosum = PSum(2)"
   ]
  },
  {
   "cell_type": "code",
   "execution_count": 21,
   "id": "917c6acc",
   "metadata": {},
   "outputs": [],
   "source": [
    "circuitfiles = [\n",
    "    \"./graphs/regular$(d)_32_$(p)_$(seed).mtx\" for d in 3:5 for p in 2:5 for seed in 0:9\n",
    "];"
   ]
  },
  {
   "cell_type": "code",
   "execution_count": 22,
   "id": "501915c0",
   "metadata": {},
   "outputs": [],
   "source": [
    "circuitadj = makeadj.(mmread.(circuitfiles));"
   ]
  },
  {
   "cell_type": "code",
   "execution_count": 32,
   "id": "38c3a9db",
   "metadata": {},
   "outputs": [],
   "source": [
    "circuits = SimpleGraph.(circuitadj);"
   ]
  },
  {
   "cell_type": "code",
   "execution_count": 33,
   "id": "be51e65e",
   "metadata": {
    "scrolled": false
   },
   "outputs": [
    {
     "ename": "LoadError",
     "evalue": "BoundsError: attempt to access 191-element Vector{Float64} at index [192]",
     "output_type": "error",
     "traceback": [
      "BoundsError: attempt to access 191-element Vector{Float64} at index [192]",
      "",
      "Stacktrace:",
      "  [1] setindex!",
      "    @ ./array.jl:903 [inlined]",
      "  [2] calcbetween(A::SparseMatrixCSC{Int64, Int64}, position_to_vertex::Vector{Int64}, vertex_to_position::Vector{Int64}, i::Int64, j::Int64)",
      "    @ Main ~/Julia-QC/TreeStructureOpt/cpu-parallel-dynamictreewidth.jl:189",
      "  [3] _recursive_width!(cache::LRU{Tuple{Int64, Int64}, Tuple{Float64, Int64}}, A::SparseMatrixCSC{Int64, Int64}, position_to_vertex::Vector{Int64}, vertex_to_position::Vector{Int64}, i::Int64, j::Int64; carving::Bool, flops::Bool)",
      "    @ Main ~/Julia-QC/TreeStructureOpt/cpu-parallel-dynamictreewidth.jl:208",
      "  [4] #13",
      "    @ ~/Julia-QC/TreeStructureOpt/cpu-parallel-dynamictreewidth.jl:233 [inlined]",
      "  [5] get!(default::var\"#13#15\"{Bool, Bool, LRU{Tuple{Int64, Int64}, Tuple{Float64, Int64}}, SparseMatrixCSC{Int64, Int64}, Vector{Int64}, Vector{Int64}, Int64, Int64}, lru::LRU{Tuple{Int64, Int64}, Tuple{Float64, Int64}}, key::Tuple{Int64, Int64})",
      "    @ LRUCache ~/.julia/packages/LRUCache/44dJX/src/LRUCache.jl:106",
      "  [6] _recursive_width!(cache::LRU{Tuple{Int64, Int64}, Tuple{Float64, Int64}}, A::SparseMatrixCSC{Int64, Int64}, position_to_vertex::Vector{Int64}, vertex_to_position::Vector{Int64}, i::Int64, j::Int64; carving::Bool, flops::Bool)",
      "    @ Main ~/Julia-QC/TreeStructureOpt/cpu-parallel-dynamictreewidth.jl:232",
      "  [7] #recursive_width#16",
      "    @ ~/Julia-QC/TreeStructureOpt/cpu-parallel-dynamictreewidth.jl:254 [inlined]",
      "  [8] recursive_width (repeats 2 times)",
      "    @ ~/Julia-QC/TreeStructureOpt/cpu-parallel-dynamictreewidth.jl:253 [inlined]",
      "  [9] macro expansion",
      "    @ ./In[33]:20 [inlined]",
      " [10] macro expansion",
      "    @ ~/.julia/packages/ProgressMeter/sN2xr/src/ProgressMeter.jl:938 [inlined]",
      " [11] macro expansion",
      "    @ ./In[33]:6 [inlined]",
      " [12] macro expansion",
      "    @ ~/.julia/packages/ProgressMeter/sN2xr/src/ProgressMeter.jl:938 [inlined]",
      " [13] macro expansion",
      "    @ ./In[33]:5 [inlined]",
      " [14] top-level scope",
      "    @ ~/.julia/packages/ProgressMeter/sN2xr/src/ProgressMeter.jl:938",
      " [15] eval",
      "    @ ./boot.jl:373 [inlined]",
      " [16] include_string(mapexpr::typeof(REPL.softscope), mod::Module, code::String, filename::String)",
      "    @ Base ./loading.jl:1196"
     ]
    }
   ],
   "source": [
    "results = []\n",
    "    @showprogress 1 \"Graph...\" for (q, G) in enumerate(circuits)\n",
    "        besttw = Inf\n",
    "        bestonesumval = Inf\n",
    "        @showprogress 1 \"Order...\" for r in 5\n",
    "            @showprogress 1 \"Seed...\" for i in 1:20\n",
    "                config = (\n",
    "                    compat_sweeps = 10,\n",
    "                    stride_percent = 0.5, \n",
    "                    gauss_sweeps = 10,\n",
    "                    coarsening = VolumeCoarsening(0.4, 2.0, r),\n",
    "                    coarsest = 10,\n",
    "                    pad_percent = 0.05,\n",
    "                    node_window_sweeps = 10,\n",
    "                    node_window_size = 1,\n",
    "                    seed = i\n",
    "               )\n",
    "                position_to_idx, idx_to_position = ordergraph(onesum, G; config...);\n",
    "                onesumval = LinearOrdering.evalorder(onesum, adjacency_matrix(G), idx_to_position)\n",
    "                tw, _ = recursive_width(adjacency_matrix(G), position_to_idx, idx_to_position)\n",
    "                if tw <= besttw\n",
    "                    besttw = tw\n",
    "                    bestonesumval = onesumval\n",
    "            end\n",
    "        end\n",
    "    end\n",
    "end\n"
   ]
  },
  {
   "cell_type": "code",
   "execution_count": null,
   "id": "7ecffa48",
   "metadata": {},
   "outputs": [],
   "source": []
  }
 ],
 "metadata": {
  "kernelspec": {
   "display_name": "Julia 1.7.3",
   "language": "julia",
   "name": "julia-1.7"
  },
  "language_info": {
   "file_extension": ".jl",
   "mimetype": "application/julia",
   "name": "julia",
   "version": "1.7.3"
  }
 },
 "nbformat": 4,
 "nbformat_minor": 5
}
