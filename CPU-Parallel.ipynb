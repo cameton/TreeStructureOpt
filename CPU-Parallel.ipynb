{
 "cells": [
  {
   "cell_type": "code",
   "execution_count": 3,
   "id": "0f67ff75",
   "metadata": {},
   "outputs": [],
   "source": [
    "using Coarsening, Graphs, LinearOrdering, MatrixMarket"
   ]
  },
  {
   "cell_type": "code",
   "execution_count": 4,
   "id": "9623d5f5",
   "metadata": {},
   "outputs": [
    {
     "data": {
      "text/plain": [
       "makeadj (generic function with 1 method)"
      ]
     },
     "execution_count": 4,
     "metadata": {},
     "output_type": "execute_result"
    }
   ],
   "source": [
    "include(\"./dynamictreewidth.jl\")"
   ]
  },
  {
   "cell_type": "code",
   "execution_count": 5,
   "id": "ed1423a1",
   "metadata": {},
   "outputs": [
    {
     "data": {
      "text/plain": [
       "\"./MISKnowledgeMap_CiteCnt.mtx\""
      ]
     },
     "execution_count": 5,
     "metadata": {},
     "output_type": "execute_result"
    }
   ],
   "source": [
    "fname = \"./MISKnowledgeMap_CiteCnt.mtx\""
   ]
  },
  {
   "cell_type": "code",
   "execution_count": 6,
   "id": "d7aae1ac",
   "metadata": {},
   "outputs": [
    {
     "ename": "LoadError",
     "evalue": "BoundsError: attempt to access 1-element Vector{Int64} at index [2]",
     "output_type": "error",
     "traceback": [
      "BoundsError: attempt to access 1-element Vector{Int64} at index [2]",
      "",
      "Stacktrace:",
      " [1] getindex",
      "   @ ./array.jl:861 [inlined]",
      " [2] makeadj(B::Matrix{Float64})",
      "   @ Main ~/TreeStructureOpt/dynamictreewidth.jl:313",
      " [3] top-level scope",
      "   @ In[6]:1",
      " [4] eval",
      "   @ ./boot.jl:373 [inlined]",
      " [5] include_string(mapexpr::typeof(REPL.softscope), mod::Module, code::String, filename::String)",
      "   @ Base ./loading.jl:1196"
     ]
    }
   ],
   "source": [
    "adj = makeadj(mmread(fname))"
   ]
  },
  {
   "cell_type": "code",
   "execution_count": null,
   "id": "b99b693f",
   "metadata": {},
   "outputs": [],
   "source": []
  }
 ],
 "metadata": {
  "kernelspec": {
   "display_name": "Julia 1.7.3",
   "language": "julia",
   "name": "julia-1.7"
  },
  "language_info": {
   "file_extension": ".jl",
   "mimetype": "application/julia",
   "name": "julia",
   "version": "1.7.3"
  }
 },
 "nbformat": 4,
 "nbformat_minor": 5
}
