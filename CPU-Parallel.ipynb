{
 "cells": [
  {
   "cell_type": "code",
   "execution_count": 1,
   "id": "a5d28a18",
   "metadata": {},
   "outputs": [
    {
     "data": {
      "text/plain": [
       "1"
      ]
     },
     "execution_count": 1,
     "metadata": {},
     "output_type": "execute_result"
    }
   ],
   "source": [
    "#Check number of threads\n",
    "Threads.nthreads() = 1\n",
    "Threads.nthreads()"
   ]
  },
  {
   "cell_type": "code",
   "execution_count": 2,
   "id": "0f67ff75",
   "metadata": {
    "scrolled": true
   },
   "outputs": [],
   "source": [
    "using Coarsening, Graphs, LinearOrdering, MatrixMarket, BenchmarkTools"
   ]
  },
  {
   "cell_type": "code",
   "execution_count": 3,
   "id": "9623d5f5",
   "metadata": {},
   "outputs": [
    {
     "data": {
      "text/plain": [
       "makeadj (generic function with 1 method)"
      ]
     },
     "execution_count": 3,
     "metadata": {},
     "output_type": "execute_result"
    }
   ],
   "source": [
    "include(\"./dynamictreewidth.jl\")"
   ]
  },
  {
   "cell_type": "code",
   "execution_count": 4,
   "id": "ed1423a1",
   "metadata": {},
   "outputs": [
    {
     "data": {
      "text/plain": [
       "\"./graphs/regular5_32_4_2.mtx\""
      ]
     },
     "execution_count": 4,
     "metadata": {},
     "output_type": "execute_result"
    }
   ],
   "source": [
    "#fname = \"./graphs/regular3_32_2_0.mtx\" #192x192\n",
    "fname = \"./graphs/regular5_32_4_2.mtx\" #256x256\n",
    "\n",
    "### New Graphs (Weighted Undirected) ###\n",
    "#fname = \"./graphs/Plants_10NN.mtx\" #stackoverflow error 1600x1600\n",
    "#fname = \"./graphs/Binaryalphadigs_10NN.mtx\" #Jupyter Kerenel keeps dying 1404x1404\n",
    "#fname = \"./graphs/collins_15NN.mtx\" #Jupyter Kernel keeps dying 1000x1000\n",
    "#fname = \"./graphs/Vehicle_10NN.mtx\" #Jupyer Kernel keeps dying 846x846\n",
    "#fname = \"./graphs/Ecoli_10NN.mtx\" #stackoverflow error 336x336\n",
    "#fname = \"./graphs/YaleA_10NN.mtx\" #stackoverdlow error 165x165"
   ]
  },
  {
   "cell_type": "code",
   "execution_count": 5,
   "id": "d7aae1ac",
   "metadata": {},
   "outputs": [
    {
     "data": {
      "text/plain": [
       "256×256 Matrix{Float64}:\n",
       " 0.0  0.0  0.0  0.0  0.0  0.0  0.0  0.0  …  0.0  0.0  0.0  0.0  0.0  0.0  0.0\n",
       " 0.0  0.0  0.0  0.0  0.0  0.0  0.0  0.0     0.0  0.0  0.0  0.0  0.0  0.0  0.0\n",
       " 0.0  0.0  0.0  0.0  0.0  0.0  0.0  0.0     0.0  0.0  0.0  0.0  0.0  0.0  0.0\n",
       " 0.0  0.0  0.0  0.0  0.0  0.0  0.0  0.0     0.0  0.0  0.0  0.0  0.0  0.0  0.0\n",
       " 0.0  0.0  0.0  0.0  0.0  0.0  0.0  0.0     0.0  0.0  0.0  0.0  0.0  0.0  0.0\n",
       " 0.0  0.0  0.0  0.0  0.0  0.0  0.0  0.0  …  0.0  0.0  0.0  0.0  0.0  0.0  0.0\n",
       " 0.0  0.0  0.0  0.0  0.0  0.0  0.0  0.0     0.0  0.0  0.0  0.0  0.0  0.0  0.0\n",
       " 0.0  0.0  0.0  0.0  0.0  0.0  0.0  0.0     0.0  0.0  0.0  0.0  0.0  0.0  0.0\n",
       " 0.0  0.0  0.0  0.0  0.0  0.0  0.0  0.0     0.0  0.0  0.0  0.0  0.0  0.0  0.0\n",
       " 0.0  0.0  0.0  0.0  0.0  0.0  0.0  0.0     0.0  0.0  0.0  0.0  0.0  0.0  0.0\n",
       " 0.0  0.0  0.0  0.0  0.0  0.0  0.0  0.0  …  0.0  0.0  0.0  0.0  0.0  0.0  0.0\n",
       " 0.0  0.0  0.0  0.0  0.0  0.0  0.0  0.0     0.0  0.0  0.0  0.0  0.0  0.0  0.0\n",
       " 0.0  0.0  0.0  0.0  0.0  0.0  0.0  0.0     0.0  0.0  0.0  0.0  0.0  0.0  0.0\n",
       " ⋮                        ⋮              ⋱       ⋮                        ⋮\n",
       " 0.0  0.0  0.0  0.0  0.0  0.0  0.0  0.0     0.0  0.0  0.0  0.0  0.0  0.0  0.0\n",
       " 0.0  0.0  0.0  0.0  0.0  0.0  0.0  0.0  …  0.0  0.0  0.0  0.0  0.0  0.0  0.0\n",
       " 0.0  0.0  0.0  0.0  0.0  0.0  0.0  0.0     0.0  0.0  0.0  0.0  0.0  0.0  0.0\n",
       " 0.0  0.0  0.0  0.0  0.0  0.0  0.0  0.0     0.0  0.0  0.0  0.0  0.0  0.0  0.0\n",
       " 0.0  0.0  0.0  0.0  0.0  0.0  0.0  0.0     0.0  0.0  0.0  0.0  0.0  0.0  0.0\n",
       " 0.0  0.0  0.0  0.0  0.0  0.0  0.0  0.0     0.0  0.0  0.0  0.0  0.0  0.0  0.0\n",
       " 0.0  0.0  0.0  0.0  0.0  0.0  0.0  0.0  …  0.0  0.0  0.0  0.0  0.0  0.0  0.0\n",
       " 0.0  0.0  0.0  0.0  0.0  0.0  0.0  0.0     0.0  0.0  0.0  0.0  0.0  0.0  0.0\n",
       " 0.0  0.0  0.0  0.0  0.0  0.0  0.0  0.0     0.0  0.0  0.0  0.0  0.0  0.0  0.0\n",
       " 0.0  0.0  0.0  0.0  0.0  0.0  0.0  0.0     0.0  0.0  0.0  0.0  0.0  0.0  0.0\n",
       " 0.0  0.0  0.0  0.0  0.0  0.0  0.0  0.0     0.0  0.0  0.0  0.0  0.0  0.0  0.0\n",
       " 0.0  0.0  0.0  0.0  0.0  0.0  0.0  0.0  …  0.0  0.0  0.0  0.0  0.0  0.0  0.0"
      ]
     },
     "execution_count": 5,
     "metadata": {},
     "output_type": "execute_result"
    }
   ],
   "source": [
    "adj = makeadj(mmread(fname))"
   ]
  },
  {
   "cell_type": "code",
   "execution_count": 6,
   "id": "b99b693f",
   "metadata": {},
   "outputs": [],
   "source": [
    "G = SimpleGraph(adj);"
   ]
  },
  {
   "cell_type": "code",
   "execution_count": 7,
   "id": "1fe720ce",
   "metadata": {},
   "outputs": [
    {
     "data": {
      "text/plain": [
       "(compat_sweeps = 10, stride_percent = 0.5, gauss_sweeps = 10, coarsening = VolumeCoarsening(0.4, 2.0, 5), coarsest = 10, pad_percent = 0.05, node_window_sweeps = 10, node_window_size = 1, seed = 0)"
      ]
     },
     "execution_count": 7,
     "metadata": {},
     "output_type": "execute_result"
    }
   ],
   "source": [
    "config = (\n",
    "            compat_sweeps=10,\n",
    "            stride_percent=0.5,\n",
    "            gauss_sweeps=10,\n",
    "            coarsening=VolumeCoarsening(0.4, 2.0, 5),\n",
    "            coarsest=10,\n",
    "            pad_percent=0.05,\n",
    "            node_window_sweeps=10,\n",
    "            node_window_size=1,\n",
    "            seed = 0\n",
    ")"
   ]
  },
  {
   "cell_type": "code",
   "execution_count": 8,
   "id": "92a77a6c",
   "metadata": {},
   "outputs": [
    {
     "data": {
      "text/plain": [
       "PSum(1)"
      ]
     },
     "execution_count": 8,
     "metadata": {},
     "output_type": "execute_result"
    }
   ],
   "source": [
    "onesum = PSum(1)\n"
   ]
  },
  {
   "cell_type": "code",
   "execution_count": 9,
   "id": "0bb103f5",
   "metadata": {},
   "outputs": [
    {
     "data": {
      "text/plain": [
       "profileme (generic function with 1 method)"
      ]
     },
     "execution_count": 9,
     "metadata": {},
     "output_type": "execute_result"
    }
   ],
   "source": [
    "function profileme()\n",
    "    position_to_idx, idx_to_position = ordergraph(onesum, G; config...);\n",
    "    onesumval = LinearOrdering.evalorder(onesum, adjacency_matrix(G), idx_to_position)\n",
    "    cost, _ = recursive_width(adjacency_matrix(G), position_to_idx, idx_to_position; flops=true, carving=false)\n",
    "end"
   ]
  },
  {
   "cell_type": "code",
   "execution_count": 14,
   "id": "d8ce0c9e",
   "metadata": {
    "scrolled": false
   },
   "outputs": [
    {
     "name": "stdout",
     "output_type": "stream",
     "text": [
      "START\n",
      "  752.685 ms (20674673 allocations: 600.88 MiB)\n",
      "END\n"
     ]
    }
   ],
   "source": [
    "profileme() # Do not profile - for precompilation\n",
    "println(\"START\")\n",
    "@btime profileme() # Profile this\n",
    "println(\"END\")"
   ]
  },
  {
   "cell_type": "code",
   "execution_count": null,
   "id": "025d8481",
   "metadata": {},
   "outputs": [],
   "source": []
  }
 ],
 "metadata": {
  "kernelspec": {
   "display_name": "Julia 1.7.3",
   "language": "julia",
   "name": "julia-1.7"
  },
  "language_info": {
   "file_extension": ".jl",
   "mimetype": "application/julia",
   "name": "julia",
   "version": "1.7.3"
  }
 },
 "nbformat": 4,
 "nbformat_minor": 5
}
